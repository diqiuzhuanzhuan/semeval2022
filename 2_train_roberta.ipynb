{
 "cells": [
  {
   "cell_type": "code",
   "execution_count": null,
   "metadata": {},
   "outputs": [],
   "source": [
    "try:\n",
    "    from google.colab import drive\n",
    "    drive.mount('/content/drive')\n",
    "except ModuleNotFoundError as e:\n",
    "    print(\"not in colab\")\n",
    "    pass"
   ]
  },
  {
   "cell_type": "code",
   "execution_count": null,
   "metadata": {},
   "outputs": [],
   "source": [
    "import os\n",
    "base_dir = \"/content/drive/MyDrive/semeval2022\"\n",
    "if not os.path.exists(base_dir):\n",
    "  !pip install -r requirements.txt\n",
    "  base_dir = \"\"\n",
    "else:\n",
    "  !pip install -r /content/drive/MyDrive/semeval2022/requirements.txt\n",
    "  !cp -rf /content/drive/MyDrive/semeval2022/*.py . \n",
    "  !cp -rf /content/drive/MyDrive/semeval2022/utils .\n",
    "  !cp -rf /content/drive/MyDrive/semeval2022/model ."
   ]
  },
  {
   "cell_type": "code",
   "execution_count": 4,
   "metadata": {},
   "outputs": [],
   "source": [
    "from utils.util import get_reader, train_model, create_model, save_model, parse_args, get_tagset, wnut_iob\n",
    "import time"
   ]
  },
  {
   "cell_type": "code",
   "execution_count": 5,
   "metadata": {},
   "outputs": [],
   "source": [
    "encoder_model = \"roberta-base\"\n",
    "checkpoint = os.path.join(base_dir, \"roberta-retrained/checkpoint-5000\")\n",
    "train_file = os.path.join(base_dir, \"training_data/EN-English/en_train.conll\")\n",
    "dev_file = os.path.join(base_dir, \"training_data/EN-English/en_dev.conll\")\n",
    "output_dir = os.path.join(base_dir, \"roberta-train\")\n",
    "iob_tagging = wnut_iob"
   ]
  },
  {
   "cell_type": "code",
   "execution_count": 7,
   "metadata": {},
   "outputs": [
    {
     "name": "stderr",
     "output_type": "stream",
     "text": [
      "2021-12-07 09:25:01 - INFO - reader - Reading file ./training_data/EN-English/en_train.conll\n",
      "2021-12-07 09:25:19 - INFO - reader - Finished reading 15300 instances from file ./training_data/EN-English/en_train.conll\n",
      "2021-12-07 09:25:31 - INFO - reader - Reading file ./training_data/EN-English/en_dev.conll\n",
      "2021-12-07 09:25:32 - INFO - reader - Finished reading 800 instances from file ./training_data/EN-English/en_dev.conll\n",
      "Some weights of the model checkpoint at ./roberta-retrained/checkpoint-5000 were not used when initializing RobertaModel: ['lm_head.layer_norm.bias', 'lm_head.dense.weight', 'lm_head.layer_norm.weight', 'lm_head.dense.bias', 'lm_head.bias']\n",
      "- This IS expected if you are initializing RobertaModel from the checkpoint of a model trained on another task or with another architecture (e.g. initializing a BertForSequenceClassification model from a BertForPreTraining model).\n",
      "- This IS NOT expected if you are initializing RobertaModel from the checkpoint of a model that you expect to be exactly identical (initializing a BertForSequenceClassification model from a BertForSequenceClassification model).\n",
      "Some weights of RobertaModel were not initialized from the model checkpoint at ./roberta-retrained/checkpoint-5000 and are newly initialized: ['roberta.pooler.dense.bias', 'roberta.pooler.dense.weight']\n",
      "You should probably TRAIN this model on a down-stream task to be able to use it for predictions and inference.\n",
      "Global seed set to 42\n",
      "GPU available: False, used: False\n",
      "TPU available: False, using: 0 TPU cores\n",
      "IPU available: False, using: 0 IPUs\n",
      "\n",
      "  | Name        | Type                   | Params\n",
      "-------------------------------------------------------\n",
      "0 | encoder     | RobertaModel           | 124 M \n",
      "1 | feedforward | Linear                 | 10.0 K\n",
      "2 | crf_layer   | ConditionalRandomField | 420   \n",
      "3 | dropout     | Dropout                | 0     \n",
      "-------------------------------------------------------\n",
      "124 M     Trainable params\n",
      "225       Non-trainable params\n",
      "124 M     Total params\n",
      "498.624   Total estimated model params size (MB)\n"
     ]
    },
    {
     "name": "stdout",
     "output_type": "stream",
     "text": [
      "Validation sanity check:   0%|          | 0/2 [00:00<?, ?it/s]"
     ]
    },
    {
     "name": "stderr",
     "output_type": "stream",
     "text": [
      "[W ParallelNative.cpp:214] Warning: Cannot set number of intraop threads after parallel work has started or after set_num_threads call when using native parallel backend (function set_num_threads)\n",
      "[W ParallelNative.cpp:214] Warning: Cannot set number of intraop threads after parallel work has started or after set_num_threads call when using native parallel backend (function set_num_threads)\n",
      "[W ParallelNative.cpp:214] Warning: Cannot set number of intraop threads after parallel work has started or after set_num_threads call when using native parallel backend (function set_num_threads)\n",
      "[W ParallelNative.cpp:214] Warning: Cannot set number of intraop threads after parallel work has started or after set_num_threads call when using native parallel backend (function set_num_threads)\n",
      "[W ParallelNative.cpp:214] Warning: Cannot set number of intraop threads after parallel work has started or after set_num_threads call when using native parallel backend (function set_num_threads)\n",
      "[W ParallelNative.cpp:214] Warning: Cannot set number of intraop threads after parallel work has started or after set_num_threads call when using native parallel backend (function set_num_threads)\n",
      "[W ParallelNative.cpp:214] Warning: Cannot set number of intraop threads after parallel work has started or after set_num_threads call when using native parallel backend (function set_num_threads)\n",
      "[W ParallelNative.cpp:214] Warning: Cannot set number of intraop threads after parallel work has started or after set_num_threads call when using native parallel backend (function set_num_threads)\n",
      "[W ParallelNative.cpp:214] Warning: Cannot set number of intraop threads after parallel work has started or after set_num_threads call when using native parallel backend (function set_num_threads)\n",
      "[W ParallelNative.cpp:214] Warning: Cannot set number of intraop threads after parallel work has started or after set_num_threads call when using native parallel backend (function set_num_threads)\n"
     ]
    },
    {
     "name": "stdout",
     "output_type": "stream",
     "text": [
      "                                                                      "
     ]
    },
    {
     "name": "stderr",
     "output_type": "stream",
     "text": [
      "Global seed set to 42\n"
     ]
    },
    {
     "name": "stdout",
     "output_type": "stream",
     "text": [
      "Epoch 0:   0%|          | 0/1007 [00:00<?, ?it/s] "
     ]
    },
    {
     "name": "stderr",
     "output_type": "stream",
     "text": [
      "[W ParallelNative.cpp:214] Warning: Cannot set number of intraop threads after parallel work has started or after set_num_threads call when using native parallel backend (function set_num_threads)\n",
      "[W ParallelNative.cpp:214] Warning: Cannot set number of intraop threads after parallel work has started or after set_num_threads call when using native parallel backend (function set_num_threads)\n",
      "[W ParallelNative.cpp:214] Warning: Cannot set number of intraop threads after parallel work has started or after set_num_threads call when using native parallel backend (function set_num_threads)\n",
      "[W ParallelNative.cpp:214] Warning: Cannot set number of intraop threads after parallel work has started or after set_num_threads call when using native parallel backend (function set_num_threads)\n",
      "[W ParallelNative.cpp:214] Warning: Cannot set number of intraop threads after parallel work has started or after set_num_threads call when using native parallel backend (function set_num_threads)\n",
      "[W ParallelNative.cpp:214] Warning: Cannot set number of intraop threads after parallel work has started or after set_num_threads call when using native parallel backend (function set_num_threads)\n",
      "[W ParallelNative.cpp:214] Warning: Cannot set number of intraop threads after parallel work has started or after set_num_threads call when using native parallel backend (function set_num_threads)\n",
      "[W ParallelNative.cpp:214] Warning: Cannot set number of intraop threads after parallel work has started or after set_num_threads call when using native parallel backend (function set_num_threads)\n",
      "[W ParallelNative.cpp:214] Warning: Cannot set number of intraop threads after parallel work has started or after set_num_threads call when using native parallel backend (function set_num_threads)\n",
      "[W ParallelNative.cpp:214] Warning: Cannot set number of intraop threads after parallel work has started or after set_num_threads call when using native parallel backend (function set_num_threads)\n"
     ]
    },
    {
     "name": "stdout",
     "output_type": "stream",
     "text": [
      "Epoch 0:   0%|          | 1/1007 [00:05<1:34:17,  5.62s/it, loss=63.80, v_num=1, P@GRP=0.000, R@GRP=0.000, F1@GRP=0.000, P@CW=0.0204, R@CW=0.200, F1@CW=0.037, P@LOC=0.000, R@LOC=0.000, F1@LOC=0.000, P@PROD=0.000, R@PROD=0.000, F1@PROD=0.000, P@CORP=0.000, R@CORP=0.000, F1@CORP=0.000, P@PER=0.000, R@PER=0.000, F1@PER=0.000, micro@P=0.00826, micro@R=0.0417, micro@F1=0.0138, MD@R=0.0833, MD@P=0.0165, MD@F1=0.0276, ALLTRUE=24.00, ALLRECALLED=2.000, ALLPRED=121.0]"
     ]
    },
    {
     "name": "stderr",
     "output_type": "stream",
     "text": [
      "/Users/malong/opt/anaconda3/envs/sem_eval/lib/python3.7/site-packages/pytorch_lightning/callbacks/progress/base.py:211: UserWarning: The progress bar already tracks a metric with the name(s) 'loss' and `self.log('loss', ..., prog_bar=True)` will overwrite this value.  If this is undesired, change the name or override `get_metrics()` in the progress bar callback.\n",
      "  UserWarning,\n"
     ]
    },
    {
     "name": "stdout",
     "output_type": "stream",
     "text": [
      "Epoch 0:  12%|█▏        | 125/1007 [08:57<1:03:12,  4.30s/it, loss=30.10, v_num=1, P@GRP=0.000604, R@GRP=0.00208, F1@GRP=0.000937, P@CW=0.00269, R@CW=0.0122, F1@CW=0.0044, P@LOC=0.000, R@LOC=0.000, F1@LOC=0.000, P@PROD=0.000, R@PROD=0.000, F1@PROD=0.000, P@CORP=0.000, R@CORP=0.000, F1@CORP=0.000, P@PER=0.000, R@PER=0.000, F1@PER=0.000, micro@P=0.00112, micro@R=0.00232, micro@F1=0.00151, MD@R=0.00894, MD@P=0.00431, MD@F1=0.00582, ALLTRUE=3019.0, ALLRECALLED=27.00, ALLPRED=6261.0]"
     ]
    },
    {
     "name": "stderr",
     "output_type": "stream",
     "text": [
      "/Users/malong/opt/anaconda3/envs/sem_eval/lib/python3.7/site-packages/pytorch_lightning/trainer/trainer.py:685: UserWarning: Detected KeyboardInterrupt, attempting graceful shutdown...\n",
      "  rank_zero_warn(\"Detected KeyboardInterrupt, attempting graceful shutdown...\")\n",
      "2021-12-07 09:34:35 - INFO - util - Stored model roberta-train/lightning_logs/version_1/checkpoints//roberta-train_timestamp_1638840874.572523_final.ckpt.\n"
     ]
    }
   ],
   "source": [
    "train_data = get_reader(file_path=train_file, target_vocab=wnut_iob, encoder_model=encoder_model, max_instances=-1, max_length=50)\n",
    "dev_data = get_reader(file_path=dev_file, target_vocab=wnut_iob, encoder_model=encoder_model, max_instances=-1, max_length=50)\n",
    "\n",
    "model = create_model(train_data=train_data, dev_data=dev_data, tag_to_id=train_data.get_target_vocab(),\n",
    "                     dropout_rate=0.1, batch_size=16, stage='fit', lr=1e-5,\n",
    "                     encoder_model=checkpoint, num_gpus=1)\n",
    "\n",
    "trainer = train_model(model=model, out_dir=output_dir, epochs=5)\n",
    "\n",
    "# use pytorch lightnings saver here.\n",
    "out_model_path = save_model(trainer=trainer, out_dir=output_dir, model_name=output_dir, timestamp=time.time())"
   ]
  },
  {
   "cell_type": "code",
   "execution_count": null,
   "metadata": {},
   "outputs": [],
   "source": []
  }
 ],
 "metadata": {
  "interpreter": {
   "hash": "26273649c1ad55e65f8b33df1791b797f344b761a59a759c3ddbb97d149ed09b"
  },
  "kernelspec": {
   "display_name": "Python 3.7.11 64-bit ('sem_eval': conda)",
   "language": "python",
   "name": "python3"
  },
  "language_info": {
   "codemirror_mode": {
    "name": "ipython",
    "version": 3
   },
   "file_extension": ".py",
   "mimetype": "text/x-python",
   "name": "python",
   "nbconvert_exporter": "python",
   "pygments_lexer": "ipython3",
   "version": "3.7.11"
  },
  "orig_nbformat": 4
 },
 "nbformat": 4,
 "nbformat_minor": 2
}
