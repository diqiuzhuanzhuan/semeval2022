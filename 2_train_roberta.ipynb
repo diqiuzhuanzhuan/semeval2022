{
 "cells": [
  {
   "cell_type": "code",
   "execution_count": null,
   "metadata": {},
   "outputs": [],
   "source": [
    "try:\n",
    "    from google.colab import drive\n",
    "    drive.mount('/content/drive')\n",
    "except ModuleNotFoundError as e:\n",
    "    print(\"not in colab\")\n",
    "    pass"
   ]
  },
  {
   "cell_type": "code",
   "execution_count": null,
   "metadata": {},
   "outputs": [],
   "source": [
    "import os\n",
    "base_dir = \"/content/drive/MyDrive/semeval2022\"\n",
    "if not os.path.exists(base_dir):\n",
    "  !pip install -r requirements.txt\n",
    "  base_dir = \"\"\n",
    "else:\n",
    "  !pip install -r /content/drive/MyDrive/semeval2022/requirements.txt\n",
    "  !cp -rf /content/drive/MyDrive/semeval2022/*.py . \n",
    "  !cp -rf /content/drive/MyDrive/semeval2022/utils .\n",
    "  !cp -rf /content/drive/MyDrive/semeval2022/model ."
   ]
  },
  {
   "cell_type": "code",
   "execution_count": 4,
   "metadata": {},
   "outputs": [],
   "source": [
    "from utils.util import get_reader, train_model, create_model, save_model, parse_args, get_tagset, wnut_iob\n",
    "import time"
   ]
  },
  {
   "cell_type": "code",
   "execution_count": 5,
   "metadata": {},
   "outputs": [],
   "source": [
    "encoder_model = \"roberta-base\"\n",
    "checkpoint = os.path.join(base_dir, \".roberta-retrained/checkpoint-5000\")\n",
    "train_file = os.path.join(base_dir, \"training_data/EN-English/en_train.conll\")\n",
    "dev_file = os.path.join(base_dir, \"training_data/EN-English/en_dev.conll\")\n",
    "output_dir = os.path.join(base_dir, \"roberta-train\")\n",
    "iob_tagging = wnut_iob"
   ]
  },
  {
   "cell_type": "code",
   "execution_count": 6,
   "metadata": {},
   "outputs": [
    {
     "name": "stderr",
     "output_type": "stream",
     "text": [
      "2021-12-02 09:16:54 - INFO - reader - Reading file ./training_data/EN-English/en_train.conll\n",
      "2021-12-02 09:17:12 - INFO - reader - Finished reading 15300 instances from file ./training_data/EN-English/en_train.conll\n",
      "2021-12-02 09:17:24 - INFO - reader - Reading file ./training_data/EN-English/en_dev.conll\n",
      "2021-12-02 09:17:25 - INFO - reader - Finished reading 800 instances from file ./training_data/EN-English/en_dev.conll\n",
      "Some weights of the model checkpoint at ./roberta-retrained/checkpoint-5000 were not used when initializing RobertaModel: ['lm_head.layer_norm.bias', 'lm_head.dense.weight', 'lm_head.layer_norm.weight', 'lm_head.dense.bias', 'lm_head.bias']\n",
      "- This IS expected if you are initializing RobertaModel from the checkpoint of a model trained on another task or with another architecture (e.g. initializing a BertForSequenceClassification model from a BertForPreTraining model).\n",
      "- This IS NOT expected if you are initializing RobertaModel from the checkpoint of a model that you expect to be exactly identical (initializing a BertForSequenceClassification model from a BertForSequenceClassification model).\n",
      "Some weights of RobertaModel were not initialized from the model checkpoint at ./roberta-retrained/checkpoint-5000 and are newly initialized: ['roberta.pooler.dense.bias', 'roberta.pooler.dense.weight']\n",
      "You should probably TRAIN this model on a down-stream task to be able to use it for predictions and inference.\n",
      "Global seed set to 42\n",
      "GPU available: False, used: False\n",
      "TPU available: False, using: 0 TPU cores\n",
      "IPU available: False, using: 0 IPUs\n",
      "\n",
      "  | Name        | Type                   | Params\n",
      "-------------------------------------------------------\n",
      "0 | encoder     | RobertaModel           | 124 M \n",
      "1 | feedforward | Linear                 | 10.0 K\n",
      "2 | crf_layer   | ConditionalRandomField | 420   \n",
      "3 | dropout     | Dropout                | 0     \n",
      "-------------------------------------------------------\n",
      "124 M     Trainable params\n",
      "225       Non-trainable params\n",
      "124 M     Total params\n",
      "498.624   Total estimated model params size (MB)\n"
     ]
    },
    {
     "name": "stdout",
     "output_type": "stream",
     "text": [
      "Validation sanity check:   0%|          | 0/2 [00:00<?, ?it/s]"
     ]
    },
    {
     "name": "stderr",
     "output_type": "stream",
     "text": [
      "[W ParallelNative.cpp:214] Warning: Cannot set number of intraop threads after parallel work has started or after set_num_threads call when using native parallel backend (function set_num_threads)\n",
      "[W ParallelNative.cpp:214] Warning: Cannot set number of intraop threads after parallel work has started or after set_num_threads call when using native parallel backend (function set_num_threads)\n",
      "[W ParallelNative.cpp:214] Warning: Cannot set number of intraop threads after parallel work has started or after set_num_threads call when using native parallel backend (function set_num_threads)\n",
      "[W ParallelNative.cpp:214] Warning: Cannot set number of intraop threads after parallel work has started or after set_num_threads call when using native parallel backend (function set_num_threads)\n",
      "[W ParallelNative.cpp:214] Warning: Cannot set number of intraop threads after parallel work has started or after set_num_threads call when using native parallel backend (function set_num_threads)\n",
      "[W ParallelNative.cpp:214] Warning: Cannot set number of intraop threads after parallel work has started or after set_num_threads call when using native parallel backend (function set_num_threads)\n",
      "[W ParallelNative.cpp:214] Warning: Cannot set number of intraop threads after parallel work has started or after set_num_threads call when using native parallel backend (function set_num_threads)\n",
      "[W ParallelNative.cpp:214] Warning: Cannot set number of intraop threads after parallel work has started or after set_num_threads call when using native parallel backend (function set_num_threads)\n",
      "[W ParallelNative.cpp:214] Warning: Cannot set number of intraop threads after parallel work has started or after set_num_threads call when using native parallel backend (function set_num_threads)\n",
      "[W ParallelNative.cpp:214] Warning: Cannot set number of intraop threads after parallel work has started or after set_num_threads call when using native parallel backend (function set_num_threads)\n",
      "/Users/malong/opt/anaconda3/envs/sem_eval/lib/python3.7/site-packages/pytorch_lightning/utilities/data.py:57: UserWarning: Trying to infer the `batch_size` from an ambiguous collection. The batch size we found is 16. To avoid any miscalculations, use `self.log(..., batch_size=batch_size)`.\n",
      "  \"Trying to infer the `batch_size` from an ambiguous collection. The batch size we\"\n"
     ]
    },
    {
     "name": "stdout",
     "output_type": "stream",
     "text": [
      "                                                                      "
     ]
    },
    {
     "name": "stderr",
     "output_type": "stream",
     "text": [
      "Global seed set to 42\n"
     ]
    },
    {
     "name": "stdout",
     "output_type": "stream",
     "text": [
      "Epoch 0:   0%|          | 0/1007 [00:00<?, ?it/s] "
     ]
    },
    {
     "name": "stderr",
     "output_type": "stream",
     "text": [
      "[W ParallelNative.cpp:214] Warning: Cannot set number of intraop threads after parallel work has started or after set_num_threads call when using native parallel backend (function set_num_threads)\n",
      "[W ParallelNative.cpp:214] Warning: Cannot set number of intraop threads after parallel work has started or after set_num_threads call when using native parallel backend (function set_num_threads)\n",
      "[W ParallelNative.cpp:214] Warning: Cannot set number of intraop threads after parallel work has started or after set_num_threads call when using native parallel backend (function set_num_threads)\n",
      "[W ParallelNative.cpp:214] Warning: Cannot set number of intraop threads after parallel work has started or after set_num_threads call when using native parallel backend (function set_num_threads)\n",
      "[W ParallelNative.cpp:214] Warning: Cannot set number of intraop threads after parallel work has started or after set_num_threads call when using native parallel backend (function set_num_threads)\n",
      "[W ParallelNative.cpp:214] Warning: Cannot set number of intraop threads after parallel work has started or after set_num_threads call when using native parallel backend (function set_num_threads)\n",
      "[W ParallelNative.cpp:214] Warning: Cannot set number of intraop threads after parallel work has started or after set_num_threads call when using native parallel backend (function set_num_threads)\n",
      "[W ParallelNative.cpp:214] Warning: Cannot set number of intraop threads after parallel work has started or after set_num_threads call when using native parallel backend (function set_num_threads)\n",
      "[W ParallelNative.cpp:214] Warning: Cannot set number of intraop threads after parallel work has started or after set_num_threads call when using native parallel backend (function set_num_threads)\n",
      "[W ParallelNative.cpp:214] Warning: Cannot set number of intraop threads after parallel work has started or after set_num_threads call when using native parallel backend (function set_num_threads)\n"
     ]
    },
    {
     "name": "stdout",
     "output_type": "stream",
     "text": [
      "Epoch 0:   0%|          | 1/1007 [00:05<1:30:06,  5.37s/it, loss=79.00, v_num=0, P@GRP=0.000, R@GRP=0.000, F1@GRP=0.000, P@CW=0.000, R@CW=0.000, F1@CW=0.000, P@LOC=0.000, R@LOC=0.000, F1@LOC=0.000, P@PROD=0.000, R@PROD=0.000, F1@PROD=0.000, P@CORP=0.000, R@CORP=0.000, F1@CORP=0.000, P@PER=0.000, R@PER=0.000, F1@PER=0.000, micro@P=0.000, micro@R=0.000, micro@F1=0.000, MD@R=0.0417, MD@P=0.00256, MD@F1=0.00482, ALLTRUE=24.00, ALLRECALLED=1.000, ALLPRED=391.0]"
     ]
    },
    {
     "name": "stderr",
     "output_type": "stream",
     "text": [
      "/Users/malong/opt/anaconda3/envs/sem_eval/lib/python3.7/site-packages/pytorch_lightning/callbacks/progress/base.py:211: UserWarning: The progress bar already tracks a metric with the name(s) 'loss' and `self.log('loss', ..., prog_bar=True)` will overwrite this value.  If this is undesired, change the name or override `get_metrics()` in the progress bar callback.\n",
      "  UserWarning,\n"
     ]
    },
    {
     "name": "stdout",
     "output_type": "stream",
     "text": [
      "Epoch 0:  95%|█████████▍| 956/1007 [1:11:27<03:48,  4.48s/it, loss=13.70, v_num=0, P@GRP=0.503, R@GRP=0.279, F1@GRP=0.359, P@CW=0.0169, R@CW=0.140, F1@CW=0.0302, P@LOC=0.240, R@LOC=0.350, F1@LOC=0.285, P@PROD=0.358, R@PROD=0.0452, F1@PROD=0.0802, P@CORP=0.443, R@CORP=0.176, F1@CORP=0.251, P@PER=0.587, R@PER=0.418, F1@PER=0.488, micro@P=0.135, micro@R=0.261, micro@F1=0.178, MD@R=0.304, MD@P=0.157, MD@F1=0.208, ALLTRUE=23549.0, ALLRECALLED=7167.0, ALLPRED=45528.0]"
     ]
    },
    {
     "name": "stderr",
     "output_type": "stream",
     "text": [
      "/Users/malong/opt/anaconda3/envs/sem_eval/lib/python3.7/site-packages/pytorch_lightning/utilities/data.py:57: UserWarning: Trying to infer the `batch_size` from an ambiguous collection. The batch size we found is 4. To avoid any miscalculations, use `self.log(..., batch_size=batch_size)`.\n",
      "  \"Trying to infer the `batch_size` from an ambiguous collection. The batch size we\"\n"
     ]
    },
    {
     "name": "stdout",
     "output_type": "stream",
     "text": [
      "Epoch 0:  95%|█████████▌| 957/1007 [1:11:28<03:44,  4.48s/it, loss=11.60, v_num=0, P@GRP=0.503, R@GRP=0.279, F1@GRP=0.359, P@CW=0.0169, R@CW=0.140, F1@CW=0.0302, P@LOC=0.240, R@LOC=0.350, F1@LOC=0.285, P@PROD=0.358, R@PROD=0.0452, F1@PROD=0.0802, P@CORP=0.443, R@CORP=0.176, F1@CORP=0.251, P@PER=0.587, R@PER=0.418, F1@PER=0.488, micro@P=0.135, micro@R=0.261, micro@F1=0.178, MD@R=0.304, MD@P=0.157, MD@F1=0.208, ALLTRUE=23553.0, ALLRECALLED=7168.0, ALLPRED=45531.0]"
     ]
    },
    {
     "name": "stderr",
     "output_type": "stream",
     "text": [
      "[W ParallelNative.cpp:214] Warning: Cannot set number of intraop threads after parallel work has started or after set_num_threads call when using native parallel backend (function set_num_threads)\n",
      "[W ParallelNative.cpp:214] Warning: Cannot set number of intraop threads after parallel work has started or after set_num_threads call when using native parallel backend (function set_num_threads)\n",
      "[W ParallelNative.cpp:214] Warning: Cannot set number of intraop threads after parallel work has started or after set_num_threads call when using native parallel backend (function set_num_threads)\n",
      "[W ParallelNative.cpp:214] Warning: Cannot set number of intraop threads after parallel work has started or after set_num_threads call when using native parallel backend (function set_num_threads)\n",
      "[W ParallelNative.cpp:214] Warning: Cannot set number of intraop threads after parallel work has started or after set_num_threads call when using native parallel backend (function set_num_threads)\n",
      "[W ParallelNative.cpp:214] Warning: Cannot set number of intraop threads after parallel work has started or after set_num_threads call when using native parallel backend (function set_num_threads)\n",
      "[W ParallelNative.cpp:214] Warning: Cannot set number of intraop threads after parallel work has started or after set_num_threads call when using native parallel backend (function set_num_threads)\n",
      "[W ParallelNative.cpp:214] Warning: Cannot set number of intraop threads after parallel work has started or after set_num_threads call when using native parallel backend (function set_num_threads)\n",
      "[W ParallelNative.cpp:214] Warning: Cannot set number of intraop threads after parallel work has started or after set_num_threads call when using native parallel backend (function set_num_threads)\n",
      "[W ParallelNative.cpp:214] Warning: Cannot set number of intraop threads after parallel work has started or after set_num_threads call when using native parallel backend (function set_num_threads)\n"
     ]
    },
    {
     "name": "stdout",
     "output_type": "stream",
     "text": [
      "Epoch 1:   0%|          | 0/1007 [00:00<?, ?it/s, loss=11.60, v_num=0, P@GRP=0.503, R@GRP=0.279, F1@GRP=0.359, P@CW=0.0169, R@CW=0.140, F1@CW=0.0302, P@LOC=0.240, R@LOC=0.350, F1@LOC=0.285, P@PROD=0.358, R@PROD=0.0452, F1@PROD=0.0802, P@CORP=0.443, R@CORP=0.176, F1@CORP=0.251, P@PER=0.587, R@PER=0.418, F1@PER=0.488, micro@P=0.135, micro@R=0.261, micro@F1=0.178, MD@R=0.304, MD@P=0.157, MD@F1=0.208, ALLTRUE=23553.0, ALLRECALLED=7168.0, ALLPRED=45531.0, val_P@GRP=0.511, val_R@GRP=0.298, val_F1@GRP=0.376, val_P@CW=0.0191, val_R@CW=0.152, val_F1@CW=0.0339, val_P@LOC=0.255, val_R@LOC=0.371, val_F1@LOC=0.303, val_P@PROD=0.375, val_R@PROD=0.0554, val_F1@PROD=0.0965, val_P@CORP=0.473, val_R@CORP=0.197, val_F1@CORP=0.278, val_P@PER=0.604, val_R@PER=0.438, val_F1@PER=0.508, val_micro@P=0.148, val_micro@R=0.278, val_micro@F1=0.193, val_MD@R=0.325, val_MD@P=0.172, val_MD@F1=0.225, val_ALLTRUE=24783.0, val_ALLRECALLED=8045.0, val_ALLPRED=46743.0, val_loss=8.630]"
     ]
    },
    {
     "name": "stderr",
     "output_type": "stream",
     "text": [
      "[W ParallelNative.cpp:214] Warning: Cannot set number of intraop threads after parallel work has started or after set_num_threads call when using native parallel backend (function set_num_threads)\n",
      "[W ParallelNative.cpp:214] Warning: Cannot set number of intraop threads after parallel work has started or after set_num_threads call when using native parallel backend (function set_num_threads)\n",
      "[W ParallelNative.cpp:214] Warning: Cannot set number of intraop threads after parallel work has started or after set_num_threads call when using native parallel backend (function set_num_threads)\n",
      "[W ParallelNative.cpp:214] Warning: Cannot set number of intraop threads after parallel work has started or after set_num_threads call when using native parallel backend (function set_num_threads)\n",
      "[W ParallelNative.cpp:214] Warning: Cannot set number of intraop threads after parallel work has started or after set_num_threads call when using native parallel backend (function set_num_threads)\n",
      "[W ParallelNative.cpp:214] Warning: Cannot set number of intraop threads after parallel work has started or after set_num_threads call when using native parallel backend (function set_num_threads)\n",
      "[W ParallelNative.cpp:214] Warning: Cannot set number of intraop threads after parallel work has started or after set_num_threads call when using native parallel backend (function set_num_threads)\n",
      "[W ParallelNative.cpp:214] Warning: Cannot set number of intraop threads after parallel work has started or after set_num_threads call when using native parallel backend (function set_num_threads)\n",
      "[W ParallelNative.cpp:214] Warning: Cannot set number of intraop threads after parallel work has started or after set_num_threads call when using native parallel backend (function set_num_threads)\n",
      "[W ParallelNative.cpp:214] Warning: Cannot set number of intraop threads after parallel work has started or after set_num_threads call when using native parallel backend (function set_num_threads)\n"
     ]
    },
    {
     "name": "stdout",
     "output_type": "stream",
     "text": [
      "Epoch 1:  95%|█████████▌| 957/1007 [1:11:28<03:44,  4.48s/it, loss=7.420, v_num=0, P@GRP=0.658, R@GRP=0.622, F1@GRP=0.640, P@CW=0.522, R@CW=0.462, F1@CW=0.490, P@LOC=0.735, R@LOC=0.730, F1@LOC=0.732, P@PROD=0.350, R@PROD=0.293, F1@PROD=0.319, P@CORP=0.589, R@CORP=0.564, F1@CORP=0.577, P@PER=0.789, R@PER=0.835, F1@PER=0.811, micro@P=0.645, micro@R=0.619, micro@F1=0.632, MD@R=0.686, MD@P=0.715, MD@F1=0.700, ALLTRUE=23553.0, ALLRECALLED=16161.0, ALLPRED=22600.0, val_P@GRP=0.511, val_R@GRP=0.298, val_F1@GRP=0.376, val_P@CW=0.0191, val_R@CW=0.152, val_F1@CW=0.0339, val_P@LOC=0.255, val_R@LOC=0.371, val_F1@LOC=0.303, val_P@PROD=0.375, val_R@PROD=0.0554, val_F1@PROD=0.0965, val_P@CORP=0.473, val_R@CORP=0.197, val_F1@CORP=0.278, val_P@PER=0.604, val_R@PER=0.438, val_F1@PER=0.508, val_micro@P=0.148, val_micro@R=0.278, val_micro@F1=0.193, val_MD@R=0.325, val_MD@P=0.172, val_MD@F1=0.225, val_ALLTRUE=24783.0, val_ALLRECALLED=8045.0, val_ALLPRED=46743.0, val_loss=8.630]"
     ]
    },
    {
     "name": "stderr",
     "output_type": "stream",
     "text": [
      "[W ParallelNative.cpp:214] Warning: Cannot set number of intraop threads after parallel work has started or after set_num_threads call when using native parallel backend (function set_num_threads)\n",
      "[W ParallelNative.cpp:214] Warning: Cannot set number of intraop threads after parallel work has started or after set_num_threads call when using native parallel backend (function set_num_threads)\n",
      "[W ParallelNative.cpp:214] Warning: Cannot set number of intraop threads after parallel work has started or after set_num_threads call when using native parallel backend (function set_num_threads)\n",
      "[W ParallelNative.cpp:214] Warning: Cannot set number of intraop threads after parallel work has started or after set_num_threads call when using native parallel backend (function set_num_threads)\n",
      "[W ParallelNative.cpp:214] Warning: Cannot set number of intraop threads after parallel work has started or after set_num_threads call when using native parallel backend (function set_num_threads)\n",
      "[W ParallelNative.cpp:214] Warning: Cannot set number of intraop threads after parallel work has started or after set_num_threads call when using native parallel backend (function set_num_threads)\n",
      "[W ParallelNative.cpp:214] Warning: Cannot set number of intraop threads after parallel work has started or after set_num_threads call when using native parallel backend (function set_num_threads)\n",
      "[W ParallelNative.cpp:214] Warning: Cannot set number of intraop threads after parallel work has started or after set_num_threads call when using native parallel backend (function set_num_threads)\n",
      "[W ParallelNative.cpp:214] Warning: Cannot set number of intraop threads after parallel work has started or after set_num_threads call when using native parallel backend (function set_num_threads)\n",
      "[W ParallelNative.cpp:214] Warning: Cannot set number of intraop threads after parallel work has started or after set_num_threads call when using native parallel backend (function set_num_threads)\n"
     ]
    },
    {
     "name": "stdout",
     "output_type": "stream",
     "text": [
      "Epoch 2:   0%|          | 0/1007 [00:00<?, ?it/s, loss=7.420, v_num=0, P@GRP=0.658, R@GRP=0.622, F1@GRP=0.640, P@CW=0.522, R@CW=0.462, F1@CW=0.490, P@LOC=0.735, R@LOC=0.730, F1@LOC=0.732, P@PROD=0.350, R@PROD=0.293, F1@PROD=0.319, P@CORP=0.589, R@CORP=0.564, F1@CORP=0.577, P@PER=0.789, R@PER=0.835, F1@PER=0.811, micro@P=0.645, micro@R=0.619, micro@F1=0.632, MD@R=0.686, MD@P=0.715, MD@F1=0.700, ALLTRUE=23553.0, ALLRECALLED=16161.0, ALLPRED=22600.0, val_P@GRP=0.660, val_R@GRP=0.623, val_F1@GRP=0.641, val_P@CW=0.521, val_R@CW=0.464, val_F1@CW=0.491, val_P@LOC=0.732, val_R@LOC=0.735, val_F1@LOC=0.733, val_P@PROD=0.356, val_R@PROD=0.301, val_F1@PROD=0.326, val_P@CORP=0.598, val_R@CORP=0.571, val_F1@CORP=0.584, val_P@PER=0.793, val_R@PER=0.838, val_F1@PER=0.815, val_micro@P=0.647, val_micro@R=0.623, val_micro@F1=0.635, val_MD@R=0.691, val_MD@P=0.717, val_MD@F1=0.704, val_ALLTRUE=24783.0, val_ALLRECALLED=17113.0, val_ALLPRED=23867.0, val_loss=6.440]"
     ]
    },
    {
     "name": "stderr",
     "output_type": "stream",
     "text": [
      "[W ParallelNative.cpp:214] Warning: Cannot set number of intraop threads after parallel work has started or after set_num_threads call when using native parallel backend (function set_num_threads)\n",
      "[W ParallelNative.cpp:214] Warning: Cannot set number of intraop threads after parallel work has started or after set_num_threads call when using native parallel backend (function set_num_threads)\n",
      "[W ParallelNative.cpp:214] Warning: Cannot set number of intraop threads after parallel work has started or after set_num_threads call when using native parallel backend (function set_num_threads)\n",
      "[W ParallelNative.cpp:214] Warning: Cannot set number of intraop threads after parallel work has started or after set_num_threads call when using native parallel backend (function set_num_threads)\n",
      "[W ParallelNative.cpp:214] Warning: Cannot set number of intraop threads after parallel work has started or after set_num_threads call when using native parallel backend (function set_num_threads)\n",
      "[W ParallelNative.cpp:214] Warning: Cannot set number of intraop threads after parallel work has started or after set_num_threads call when using native parallel backend (function set_num_threads)\n",
      "[W ParallelNative.cpp:214] Warning: Cannot set number of intraop threads after parallel work has started or after set_num_threads call when using native parallel backend (function set_num_threads)\n",
      "[W ParallelNative.cpp:214] Warning: Cannot set number of intraop threads after parallel work has started or after set_num_threads call when using native parallel backend (function set_num_threads)\n",
      "[W ParallelNative.cpp:214] Warning: Cannot set number of intraop threads after parallel work has started or after set_num_threads call when using native parallel backend (function set_num_threads)\n",
      "[W ParallelNative.cpp:214] Warning: Cannot set number of intraop threads after parallel work has started or after set_num_threads call when using native parallel backend (function set_num_threads)\n"
     ]
    },
    {
     "name": "stdout",
     "output_type": "stream",
     "text": [
      "Epoch 2:  95%|█████████▌| 957/1007 [1:10:59<03:42,  4.45s/it, loss=6.000, v_num=0, P@GRP=0.728, R@GRP=0.680, F1@GRP=0.703, P@CW=0.595, R@CW=0.559, F1@CW=0.577, P@LOC=0.778, R@LOC=0.792, F1@LOC=0.785, P@PROD=0.437, R@PROD=0.436, F1@PROD=0.436, P@CORP=0.674, R@CORP=0.662, F1@CORP=0.668, P@PER=0.857, R@PER=0.881, F1@PER=0.869, micro@P=0.705, micro@R=0.697, micro@F1=0.701, MD@R=0.755, MD@P=0.764, MD@F1=0.759, ALLTRUE=23553.0, ALLRECALLED=17775.0, ALLPRED=23263.0, val_P@GRP=0.660, val_R@GRP=0.623, val_F1@GRP=0.641, val_P@CW=0.521, val_R@CW=0.464, val_F1@CW=0.491, val_P@LOC=0.732, val_R@LOC=0.735, val_F1@LOC=0.733, val_P@PROD=0.356, val_R@PROD=0.301, val_F1@PROD=0.326, val_P@CORP=0.598, val_R@CORP=0.571, val_F1@CORP=0.584, val_P@PER=0.793, val_R@PER=0.838, val_F1@PER=0.815, val_micro@P=0.647, val_micro@R=0.623, val_micro@F1=0.635, val_MD@R=0.691, val_MD@P=0.717, val_MD@F1=0.704, val_ALLTRUE=24783.0, val_ALLRECALLED=17113.0, val_ALLPRED=23867.0, val_loss=6.440]"
     ]
    },
    {
     "name": "stderr",
     "output_type": "stream",
     "text": [
      "[W ParallelNative.cpp:214] Warning: Cannot set number of intraop threads after parallel work has started or after set_num_threads call when using native parallel backend (function set_num_threads)\n",
      "[W ParallelNative.cpp:214] Warning: Cannot set number of intraop threads after parallel work has started or after set_num_threads call when using native parallel backend (function set_num_threads)\n",
      "[W ParallelNative.cpp:214] Warning: Cannot set number of intraop threads after parallel work has started or after set_num_threads call when using native parallel backend (function set_num_threads)\n",
      "[W ParallelNative.cpp:214] Warning: Cannot set number of intraop threads after parallel work has started or after set_num_threads call when using native parallel backend (function set_num_threads)\n",
      "[W ParallelNative.cpp:214] Warning: Cannot set number of intraop threads after parallel work has started or after set_num_threads call when using native parallel backend (function set_num_threads)\n",
      "[W ParallelNative.cpp:214] Warning: Cannot set number of intraop threads after parallel work has started or after set_num_threads call when using native parallel backend (function set_num_threads)\n",
      "[W ParallelNative.cpp:214] Warning: Cannot set number of intraop threads after parallel work has started or after set_num_threads call when using native parallel backend (function set_num_threads)\n",
      "[W ParallelNative.cpp:214] Warning: Cannot set number of intraop threads after parallel work has started or after set_num_threads call when using native parallel backend (function set_num_threads)\n",
      "[W ParallelNative.cpp:214] Warning: Cannot set number of intraop threads after parallel work has started or after set_num_threads call when using native parallel backend (function set_num_threads)\n",
      "[W ParallelNative.cpp:214] Warning: Cannot set number of intraop threads after parallel work has started or after set_num_threads call when using native parallel backend (function set_num_threads)\n"
     ]
    },
    {
     "name": "stdout",
     "output_type": "stream",
     "text": [
      "Epoch 3:   0%|          | 0/1007 [00:00<?, ?it/s, loss=6.000, v_num=0, P@GRP=0.728, R@GRP=0.680, F1@GRP=0.703, P@CW=0.595, R@CW=0.559, F1@CW=0.577, P@LOC=0.778, R@LOC=0.792, F1@LOC=0.785, P@PROD=0.437, R@PROD=0.436, F1@PROD=0.436, P@CORP=0.674, R@CORP=0.662, F1@CORP=0.668, P@PER=0.857, R@PER=0.881, F1@PER=0.869, micro@P=0.705, micro@R=0.697, micro@F1=0.701, MD@R=0.755, MD@P=0.764, MD@F1=0.759, ALLTRUE=23553.0, ALLRECALLED=17775.0, ALLPRED=23263.0, val_P@GRP=0.727, val_R@GRP=0.679, val_F1@GRP=0.702, val_P@CW=0.593, val_R@CW=0.561, val_F1@CW=0.576, val_P@LOC=0.775, val_R@LOC=0.795, val_F1@LOC=0.785, val_P@PROD=0.439, val_R@PROD=0.437, val_F1@PROD=0.438, val_P@CORP=0.680, val_R@CORP=0.665, val_F1@CORP=0.672, val_P@PER=0.858, val_R@PER=0.882, val_F1@PER=0.870, val_micro@P=0.706, val_micro@R=0.699, val_micro@F1=0.702, val_MD@R=0.757, val_MD@P=0.765, val_MD@F1=0.761, val_ALLTRUE=24783.0, val_ALLRECALLED=18764.0, val_ALLPRED=24520.0, val_loss=5.820]"
     ]
    },
    {
     "name": "stderr",
     "output_type": "stream",
     "text": [
      "[W ParallelNative.cpp:214] Warning: Cannot set number of intraop threads after parallel work has started or after set_num_threads call when using native parallel backend (function set_num_threads)\n",
      "[W ParallelNative.cpp:214] Warning: Cannot set number of intraop threads after parallel work has started or after set_num_threads call when using native parallel backend (function set_num_threads)\n",
      "[W ParallelNative.cpp:214] Warning: Cannot set number of intraop threads after parallel work has started or after set_num_threads call when using native parallel backend (function set_num_threads)\n",
      "[W ParallelNative.cpp:214] Warning: Cannot set number of intraop threads after parallel work has started or after set_num_threads call when using native parallel backend (function set_num_threads)\n",
      "[W ParallelNative.cpp:214] Warning: Cannot set number of intraop threads after parallel work has started or after set_num_threads call when using native parallel backend (function set_num_threads)\n",
      "[W ParallelNative.cpp:214] Warning: Cannot set number of intraop threads after parallel work has started or after set_num_threads call when using native parallel backend (function set_num_threads)\n",
      "[W ParallelNative.cpp:214] Warning: Cannot set number of intraop threads after parallel work has started or after set_num_threads call when using native parallel backend (function set_num_threads)\n",
      "[W ParallelNative.cpp:214] Warning: Cannot set number of intraop threads after parallel work has started or after set_num_threads call when using native parallel backend (function set_num_threads)\n",
      "[W ParallelNative.cpp:214] Warning: Cannot set number of intraop threads after parallel work has started or after set_num_threads call when using native parallel backend (function set_num_threads)\n",
      "[W ParallelNative.cpp:214] Warning: Cannot set number of intraop threads after parallel work has started or after set_num_threads call when using native parallel backend (function set_num_threads)\n"
     ]
    },
    {
     "name": "stdout",
     "output_type": "stream",
     "text": [
      "Epoch 3:  95%|█████████▌| 957/1007 [1:10:41<03:41,  4.43s/it, loss=5.100, v_num=0, P@GRP=0.778, R@GRP=0.730, F1@GRP=0.753, P@CW=0.649, R@CW=0.627, F1@CW=0.638, P@LOC=0.813, R@LOC=0.826, F1@LOC=0.820, P@PROD=0.505, R@PROD=0.527, F1@PROD=0.516, P@CORP=0.730, R@CORP=0.726, F1@CORP=0.728, P@PER=0.883, R@PER=0.902, F1@PER=0.893, micro@P=0.748, micro@R=0.747, micro@F1=0.748, MD@R=0.797, MD@P=0.798, MD@F1=0.798, ALLTRUE=23553.0, ALLRECALLED=18774.0, ALLPRED=23517.0, val_P@GRP=0.727, val_R@GRP=0.679, val_F1@GRP=0.702, val_P@CW=0.593, val_R@CW=0.561, val_F1@CW=0.576, val_P@LOC=0.775, val_R@LOC=0.795, val_F1@LOC=0.785, val_P@PROD=0.439, val_R@PROD=0.437, val_F1@PROD=0.438, val_P@CORP=0.680, val_R@CORP=0.665, val_F1@CORP=0.672, val_P@PER=0.858, val_R@PER=0.882, val_F1@PER=0.870, val_micro@P=0.706, val_micro@R=0.699, val_micro@F1=0.702, val_MD@R=0.757, val_MD@P=0.765, val_MD@F1=0.761, val_ALLTRUE=24783.0, val_ALLRECALLED=18764.0, val_ALLPRED=24520.0, val_loss=5.820]"
     ]
    },
    {
     "name": "stderr",
     "output_type": "stream",
     "text": [
      "[W ParallelNative.cpp:214] Warning: Cannot set number of intraop threads after parallel work has started or after set_num_threads call when using native parallel backend (function set_num_threads)\n",
      "[W ParallelNative.cpp:214] Warning: Cannot set number of intraop threads after parallel work has started or after set_num_threads call when using native parallel backend (function set_num_threads)\n",
      "[W ParallelNative.cpp:214] Warning: Cannot set number of intraop threads after parallel work has started or after set_num_threads call when using native parallel backend (function set_num_threads)\n",
      "[W ParallelNative.cpp:214] Warning: Cannot set number of intraop threads after parallel work has started or after set_num_threads call when using native parallel backend (function set_num_threads)\n",
      "[W ParallelNative.cpp:214] Warning: Cannot set number of intraop threads after parallel work has started or after set_num_threads call when using native parallel backend (function set_num_threads)\n",
      "[W ParallelNative.cpp:214] Warning: Cannot set number of intraop threads after parallel work has started or after set_num_threads call when using native parallel backend (function set_num_threads)\n",
      "[W ParallelNative.cpp:214] Warning: Cannot set number of intraop threads after parallel work has started or after set_num_threads call when using native parallel backend (function set_num_threads)\n",
      "[W ParallelNative.cpp:214] Warning: Cannot set number of intraop threads after parallel work has started or after set_num_threads call when using native parallel backend (function set_num_threads)\n",
      "[W ParallelNative.cpp:214] Warning: Cannot set number of intraop threads after parallel work has started or after set_num_threads call when using native parallel backend (function set_num_threads)\n",
      "[W ParallelNative.cpp:214] Warning: Cannot set number of intraop threads after parallel work has started or after set_num_threads call when using native parallel backend (function set_num_threads)\n"
     ]
    },
    {
     "name": "stdout",
     "output_type": "stream",
     "text": [
      "Epoch 4:   0%|          | 0/1007 [00:00<?, ?it/s, loss=5.100, v_num=0, P@GRP=0.778, R@GRP=0.730, F1@GRP=0.753, P@CW=0.649, R@CW=0.627, F1@CW=0.638, P@LOC=0.813, R@LOC=0.826, F1@LOC=0.820, P@PROD=0.505, R@PROD=0.527, F1@PROD=0.516, P@CORP=0.730, R@CORP=0.726, F1@CORP=0.728, P@PER=0.883, R@PER=0.902, F1@PER=0.893, micro@P=0.748, micro@R=0.747, micro@F1=0.748, MD@R=0.797, MD@P=0.798, MD@F1=0.798, ALLTRUE=23553.0, ALLRECALLED=18774.0, ALLPRED=23517.0, val_P@GRP=0.776, val_R@GRP=0.729, val_F1@GRP=0.752, val_P@CW=0.645, val_R@CW=0.628, val_F1@CW=0.636, val_P@LOC=0.809, val_R@LOC=0.828, val_F1@LOC=0.818, val_P@PROD=0.503, val_R@PROD=0.528, val_F1@PROD=0.515, val_P@CORP=0.732, val_R@CORP=0.726, val_F1@CORP=0.729, val_P@PER=0.883, val_R@PER=0.903, val_F1@PER=0.893, val_micro@P=0.747, val_micro@R=0.748, val_micro@F1=0.747, val_MD@R=0.798, val_MD@P=0.797, val_MD@F1=0.798, val_ALLTRUE=24783.0, val_ALLRECALLED=19787.0, val_ALLPRED=24812.0, val_loss=5.530]"
     ]
    },
    {
     "name": "stderr",
     "output_type": "stream",
     "text": [
      "[W ParallelNative.cpp:214] Warning: Cannot set number of intraop threads after parallel work has started or after set_num_threads call when using native parallel backend (function set_num_threads)\n",
      "[W ParallelNative.cpp:214] Warning: Cannot set number of intraop threads after parallel work has started or after set_num_threads call when using native parallel backend (function set_num_threads)\n",
      "[W ParallelNative.cpp:214] Warning: Cannot set number of intraop threads after parallel work has started or after set_num_threads call when using native parallel backend (function set_num_threads)\n",
      "[W ParallelNative.cpp:214] Warning: Cannot set number of intraop threads after parallel work has started or after set_num_threads call when using native parallel backend (function set_num_threads)\n",
      "[W ParallelNative.cpp:214] Warning: Cannot set number of intraop threads after parallel work has started or after set_num_threads call when using native parallel backend (function set_num_threads)\n",
      "[W ParallelNative.cpp:214] Warning: Cannot set number of intraop threads after parallel work has started or after set_num_threads call when using native parallel backend (function set_num_threads)\n",
      "[W ParallelNative.cpp:214] Warning: Cannot set number of intraop threads after parallel work has started or after set_num_threads call when using native parallel backend (function set_num_threads)\n",
      "[W ParallelNative.cpp:214] Warning: Cannot set number of intraop threads after parallel work has started or after set_num_threads call when using native parallel backend (function set_num_threads)\n",
      "[W ParallelNative.cpp:214] Warning: Cannot set number of intraop threads after parallel work has started or after set_num_threads call when using native parallel backend (function set_num_threads)\n",
      "[W ParallelNative.cpp:214] Warning: Cannot set number of intraop threads after parallel work has started or after set_num_threads call when using native parallel backend (function set_num_threads)\n"
     ]
    },
    {
     "name": "stdout",
     "output_type": "stream",
     "text": [
      "Epoch 4:  95%|█████████▌| 957/1007 [1:10:41<03:41,  4.43s/it, loss=4.310, v_num=0, P@GRP=0.813, R@GRP=0.773, F1@GRP=0.793, P@CW=0.699, R@CW=0.685, F1@CW=0.692, P@LOC=0.835, R@LOC=0.853, F1@LOC=0.844, P@PROD=0.557, R@PROD=0.583, F1@PROD=0.570, P@CORP=0.753, R@CORP=0.754, F1@CORP=0.754, P@PER=0.907, R@PER=0.918, F1@PER=0.913, micro@P=0.781, micro@R=0.783, micro@F1=0.782, MD@R=0.826, MD@P=0.824, MD@F1=0.825, ALLTRUE=23553.0, ALLRECALLED=19462.0, ALLPRED=23615.0, val_P@GRP=0.776, val_R@GRP=0.729, val_F1@GRP=0.752, val_P@CW=0.645, val_R@CW=0.628, val_F1@CW=0.636, val_P@LOC=0.809, val_R@LOC=0.828, val_F1@LOC=0.818, val_P@PROD=0.503, val_R@PROD=0.528, val_F1@PROD=0.515, val_P@CORP=0.732, val_R@CORP=0.726, val_F1@CORP=0.729, val_P@PER=0.883, val_R@PER=0.903, val_F1@PER=0.893, val_micro@P=0.747, val_micro@R=0.748, val_micro@F1=0.747, val_MD@R=0.798, val_MD@P=0.797, val_MD@F1=0.798, val_ALLTRUE=24783.0, val_ALLRECALLED=19787.0, val_ALLPRED=24812.0, val_loss=5.530]"
     ]
    },
    {
     "name": "stderr",
     "output_type": "stream",
     "text": [
      "[W ParallelNative.cpp:214] Warning: Cannot set number of intraop threads after parallel work has started or after set_num_threads call when using native parallel backend (function set_num_threads)\n",
      "[W ParallelNative.cpp:214] Warning: Cannot set number of intraop threads after parallel work has started or after set_num_threads call when using native parallel backend (function set_num_threads)\n",
      "[W ParallelNative.cpp:214] Warning: Cannot set number of intraop threads after parallel work has started or after set_num_threads call when using native parallel backend (function set_num_threads)\n",
      "[W ParallelNative.cpp:214] Warning: Cannot set number of intraop threads after parallel work has started or after set_num_threads call when using native parallel backend (function set_num_threads)\n",
      "[W ParallelNative.cpp:214] Warning: Cannot set number of intraop threads after parallel work has started or after set_num_threads call when using native parallel backend (function set_num_threads)\n",
      "[W ParallelNative.cpp:214] Warning: Cannot set number of intraop threads after parallel work has started or after set_num_threads call when using native parallel backend (function set_num_threads)\n",
      "[W ParallelNative.cpp:214] Warning: Cannot set number of intraop threads after parallel work has started or after set_num_threads call when using native parallel backend (function set_num_threads)\n",
      "[W ParallelNative.cpp:214] Warning: Cannot set number of intraop threads after parallel work has started or after set_num_threads call when using native parallel backend (function set_num_threads)\n",
      "[W ParallelNative.cpp:214] Warning: Cannot set number of intraop threads after parallel work has started or after set_num_threads call when using native parallel backend (function set_num_threads)\n",
      "[W ParallelNative.cpp:214] Warning: Cannot set number of intraop threads after parallel work has started or after set_num_threads call when using native parallel backend (function set_num_threads)\n"
     ]
    },
    {
     "name": "stdout",
     "output_type": "stream",
     "text": [
      "Epoch 4: 100%|██████████| 1007/1007 [1:11:45<00:00,  4.28s/it, loss=4.310, v_num=0, P@GRP=0.813, R@GRP=0.773, F1@GRP=0.793, P@CW=0.699, R@CW=0.685, F1@CW=0.692, P@LOC=0.835, R@LOC=0.853, F1@LOC=0.844, P@PROD=0.557, R@PROD=0.583, F1@PROD=0.570, P@CORP=0.753, R@CORP=0.754, F1@CORP=0.754, P@PER=0.907, R@PER=0.918, F1@PER=0.913, micro@P=0.781, micro@R=0.783, micro@F1=0.782, MD@R=0.826, MD@P=0.824, MD@F1=0.825, ALLTRUE=23553.0, ALLRECALLED=19462.0, ALLPRED=23615.0, val_P@GRP=0.811, val_R@GRP=0.770, val_F1@GRP=0.790, val_P@CW=0.694, val_R@CW=0.682, val_F1@CW=0.688, val_P@LOC=0.833, val_R@LOC=0.853, val_F1@LOC=0.843, val_P@PROD=0.555, val_R@PROD=0.581, val_F1@PROD=0.568, val_P@CORP=0.754, val_R@CORP=0.755, val_F1@CORP=0.754, val_P@PER=0.906, val_R@PER=0.918, val_F1@PER=0.912, val_micro@P=0.779, val_micro@R=0.781, val_micro@F1=0.780, val_MD@R=0.826, val_MD@P=0.823, val_MD@F1=0.825, val_ALLTRUE=24783.0, val_ALLRECALLED=20476.0, val_ALLPRED=24873.0, val_loss=5.320]\n"
     ]
    },
    {
     "name": "stderr",
     "output_type": "stream",
     "text": [
      "2021-12-02 15:18:10 - INFO - util - Stored model roberta-train/lightning_logs/version_0/checkpoints//roberta-train_timestamp_1638429490.282762_final.ckpt.\n"
     ]
    }
   ],
   "source": [
    "train_data = get_reader(file_path=train_file, target_vocab=wnut_iob, encoder_model=encoder_model, max_instances=-1, max_length=50)\n",
    "dev_data = get_reader(file_path=dev_file, target_vocab=wnut_iob, encoder_model=encoder_model, max_instances=-1, max_length=50)\n",
    "\n",
    "model = create_model(train_data=train_data, dev_data=dev_data, tag_to_id=train_data.get_target_vocab(),\n",
    "                     dropout_rate=0.1, batch_size=16, stage='fit', lr=1e-5,\n",
    "                     encoder_model=checkpoint, num_gpus=1)\n",
    "\n",
    "trainer = train_model(model=model, out_dir=output_dir, epochs=5)\n",
    "\n",
    "# use pytorch lightnings saver here.\n",
    "out_model_path = save_model(trainer=trainer, out_dir=output_dir, model_name=output_dir, timestamp=time.time())"
   ]
  },
  {
   "cell_type": "code",
   "execution_count": null,
   "metadata": {},
   "outputs": [],
   "source": []
  }
 ],
 "metadata": {
  "interpreter": {
   "hash": "26273649c1ad55e65f8b33df1791b797f344b761a59a759c3ddbb97d149ed09b"
  },
  "kernelspec": {
   "display_name": "Python 3.7.11 64-bit ('sem_eval': conda)",
   "language": "python",
   "name": "python3"
  },
  "language_info": {
   "codemirror_mode": {
    "name": "ipython",
    "version": 3
   },
   "file_extension": ".py",
   "mimetype": "text/x-python",
   "name": "python",
   "nbconvert_exporter": "python",
   "pygments_lexer": "ipython3",
   "version": "3.7.11"
  },
  "orig_nbformat": 4
 },
 "nbformat": 4,
 "nbformat_minor": 2
}
