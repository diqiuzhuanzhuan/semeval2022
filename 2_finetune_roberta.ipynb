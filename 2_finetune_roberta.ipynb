{
 "cells": [
  {
   "cell_type": "code",
   "execution_count": 1,
   "metadata": {},
   "outputs": [],
   "source": [
    "from utils.util import get_reader, train_model, save_model, parse_args, get_tagset, load_model, wnut_iob\n",
    "import time"
   ]
  },
  {
   "cell_type": "code",
   "execution_count": null,
   "metadata": {},
   "outputs": [],
   "source": [
    "checkpoint = \"./roberta-retrained/checkpoint-2500\"\n",
    "train_file = \"./training_data/EN-English/en_train.conll\"\n",
    "dev_file = \"./training_data/EN-English/en_dev.conll\"\n",
    "output_dir = \"roberta-finetune\"\n",
    "iob_tagging = wnut_iob"
   ]
  },
  {
   "cell_type": "code",
   "execution_count": null,
   "metadata": {},
   "outputs": [],
   "source": [
    "train_data = get_reader(file_path=train_file, target_vocab=wnut_iob, encoder_model=checkpoint, max_instances=-1, max_length=50)\n",
    "model = load_model(checkpoint, tag_to_id=wnut_iob, stage='finetune')\n",
    "\n",
    "trainer = train_model(model=model, out_dir=output_dir, epochs=5)\n",
    "out_model_path = save_model(trainer=trainer, out_dir=output_dir, model_name=\"finetune\", timestamp=time.time())"
   ]
  }
 ],
 "metadata": {
  "interpreter": {
   "hash": "26273649c1ad55e65f8b33df1791b797f344b761a59a759c3ddbb97d149ed09b"
  },
  "kernelspec": {
   "display_name": "Python 3.7.11 64-bit ('sem_eval': conda)",
   "language": "python",
   "name": "python3"
  },
  "language_info": {
   "codemirror_mode": {
    "name": "ipython",
    "version": 3
   },
   "file_extension": ".py",
   "mimetype": "text/x-python",
   "name": "python",
   "nbconvert_exporter": "python",
   "pygments_lexer": "ipython3",
   "version": "3.7.11"
  },
  "orig_nbformat": 4
 },
 "nbformat": 4,
 "nbformat_minor": 2
}
