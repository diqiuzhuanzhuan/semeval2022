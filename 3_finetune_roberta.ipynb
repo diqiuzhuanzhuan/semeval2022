{
 "cells": [
  {
   "cell_type": "code",
   "execution_count": 8,
   "metadata": {},
   "outputs": [
    {
     "name": "stdout",
     "output_type": "stream",
     "text": [
      "not in colab\n",
      "Requirement already satisfied: absl-py==0.9 in /Users/malong/opt/anaconda3/envs/sem_eval/lib/python3.7/site-packages (from -r requirements.txt (line 1)) (0.9.0)\n",
      "Requirement already satisfied: aiohttp==3.8.1 in /Users/malong/opt/anaconda3/envs/sem_eval/lib/python3.7/site-packages (from -r requirements.txt (line 2)) (3.8.1)\n",
      "Requirement already satisfied: aiosignal==1.2.0 in /Users/malong/opt/anaconda3/envs/sem_eval/lib/python3.7/site-packages (from -r requirements.txt (line 3)) (1.2.0)\n",
      "Requirement already satisfied: allennlp==2.8.0 in /Users/malong/opt/anaconda3/envs/sem_eval/lib/python3.7/site-packages (from -r requirements.txt (line 4)) (2.8.0)\n",
      "Requirement already satisfied: appnope==0.1.2 in /Users/malong/opt/anaconda3/envs/sem_eval/lib/python3.7/site-packages (from -r requirements.txt (line 5)) (0.1.2)\n",
      "Requirement already satisfied: argcomplete==1.12.3 in /Users/malong/opt/anaconda3/envs/sem_eval/lib/python3.7/site-packages (from -r requirements.txt (line 6)) (1.12.3)\n",
      "Requirement already satisfied: argon2-cffi==21.1.0 in /Users/malong/opt/anaconda3/envs/sem_eval/lib/python3.7/site-packages (from -r requirements.txt (line 7)) (21.1.0)\n",
      "Requirement already satisfied: async-timeout==4.0.1 in /Users/malong/opt/anaconda3/envs/sem_eval/lib/python3.7/site-packages (from -r requirements.txt (line 8)) (4.0.1)\n",
      "Requirement already satisfied: asynctest==0.13.0 in /Users/malong/opt/anaconda3/envs/sem_eval/lib/python3.7/site-packages (from -r requirements.txt (line 9)) (0.13.0)\n",
      "Requirement already satisfied: attrs==21.2.0 in /Users/malong/opt/anaconda3/envs/sem_eval/lib/python3.7/site-packages (from -r requirements.txt (line 10)) (21.2.0)\n",
      "Requirement already satisfied: backcall==0.2.0 in /Users/malong/opt/anaconda3/envs/sem_eval/lib/python3.7/site-packages (from -r requirements.txt (line 11)) (0.2.0)\n",
      "Requirement already satisfied: backports.csv==1.0.7 in /Users/malong/opt/anaconda3/envs/sem_eval/lib/python3.7/site-packages (from -r requirements.txt (line 12)) (1.0.7)\n",
      "Requirement already satisfied: base58==2.1.1 in /Users/malong/opt/anaconda3/envs/sem_eval/lib/python3.7/site-packages (from -r requirements.txt (line 13)) (2.1.1)\n",
      "Requirement already satisfied: beautifulsoup4==4.10.0 in /Users/malong/opt/anaconda3/envs/sem_eval/lib/python3.7/site-packages (from -r requirements.txt (line 14)) (4.10.0)\n",
      "Requirement already satisfied: bleach==4.1.0 in /Users/malong/opt/anaconda3/envs/sem_eval/lib/python3.7/site-packages (from -r requirements.txt (line 15)) (4.1.0)\n",
      "Requirement already satisfied: blis==0.7.5 in /Users/malong/opt/anaconda3/envs/sem_eval/lib/python3.7/site-packages (from -r requirements.txt (line 16)) (0.7.5)\n",
      "Requirement already satisfied: boto3==1.20.6 in /Users/malong/opt/anaconda3/envs/sem_eval/lib/python3.7/site-packages (from -r requirements.txt (line 17)) (1.20.6)\n",
      "Requirement already satisfied: botocore==1.23.6 in /Users/malong/opt/anaconda3/envs/sem_eval/lib/python3.7/site-packages (from -r requirements.txt (line 18)) (1.23.6)\n",
      "Requirement already satisfied: cached-path==0.3.2 in /Users/malong/opt/anaconda3/envs/sem_eval/lib/python3.7/site-packages (from -r requirements.txt (line 19)) (0.3.2)\n",
      "Requirement already satisfied: cached-property==1.5.2 in /Users/malong/opt/anaconda3/envs/sem_eval/lib/python3.7/site-packages (from -r requirements.txt (line 20)) (1.5.2)\n",
      "Requirement already satisfied: cachetools==4.2.4 in /Users/malong/opt/anaconda3/envs/sem_eval/lib/python3.7/site-packages (from -r requirements.txt (line 21)) (4.2.4)\n",
      "Requirement already satisfied: catalogue==2.0.6 in /Users/malong/opt/anaconda3/envs/sem_eval/lib/python3.7/site-packages (from -r requirements.txt (line 22)) (2.0.6)\n",
      "Requirement already satisfied: certifi==2021.10.8 in /Users/malong/opt/anaconda3/envs/sem_eval/lib/python3.7/site-packages (from -r requirements.txt (line 23)) (2021.10.8)\n",
      "Requirement already satisfied: cffi==1.15.0 in /Users/malong/opt/anaconda3/envs/sem_eval/lib/python3.7/site-packages (from -r requirements.txt (line 24)) (1.15.0)\n",
      "Requirement already satisfied: chardet==4.0.0 in /Users/malong/opt/anaconda3/envs/sem_eval/lib/python3.7/site-packages (from -r requirements.txt (line 25)) (4.0.0)\n",
      "Requirement already satisfied: charset-normalizer==2.0.7 in /Users/malong/opt/anaconda3/envs/sem_eval/lib/python3.7/site-packages (from -r requirements.txt (line 26)) (2.0.7)\n",
      "Requirement already satisfied: checklist==0.0.11 in /Users/malong/opt/anaconda3/envs/sem_eval/lib/python3.7/site-packages (from -r requirements.txt (line 27)) (0.0.11)\n",
      "Requirement already satisfied: cheroot==8.5.2 in /Users/malong/opt/anaconda3/envs/sem_eval/lib/python3.7/site-packages (from -r requirements.txt (line 28)) (8.5.2)\n",
      "Requirement already satisfied: CherryPy==18.6.1 in /Users/malong/opt/anaconda3/envs/sem_eval/lib/python3.7/site-packages (from -r requirements.txt (line 29)) (18.6.1)\n",
      "Requirement already satisfied: click==8.0.3 in /Users/malong/opt/anaconda3/envs/sem_eval/lib/python3.7/site-packages (from -r requirements.txt (line 30)) (8.0.3)\n",
      "Requirement already satisfied: configparser==5.1.0 in /Users/malong/opt/anaconda3/envs/sem_eval/lib/python3.7/site-packages (from -r requirements.txt (line 31)) (5.1.0)\n",
      "Requirement already satisfied: cryptography==35.0.0 in /Users/malong/opt/anaconda3/envs/sem_eval/lib/python3.7/site-packages (from -r requirements.txt (line 32)) (35.0.0)\n",
      "Requirement already satisfied: cymem==2.0.6 in /Users/malong/opt/anaconda3/envs/sem_eval/lib/python3.7/site-packages (from -r requirements.txt (line 33)) (2.0.6)\n",
      "Requirement already satisfied: datasets==1.15.1 in /Users/malong/opt/anaconda3/envs/sem_eval/lib/python3.7/site-packages (from -r requirements.txt (line 34)) (1.15.1)\n",
      "Requirement already satisfied: debugpy==1.5.1 in /Users/malong/opt/anaconda3/envs/sem_eval/lib/python3.7/site-packages (from -r requirements.txt (line 35)) (1.5.1)\n",
      "Requirement already satisfied: decorator==5.1.0 in /Users/malong/opt/anaconda3/envs/sem_eval/lib/python3.7/site-packages (from -r requirements.txt (line 36)) (5.1.0)\n",
      "Requirement already satisfied: defusedxml==0.7.1 in /Users/malong/opt/anaconda3/envs/sem_eval/lib/python3.7/site-packages (from -r requirements.txt (line 37)) (0.7.1)\n",
      "Requirement already satisfied: dill==0.3.4 in /Users/malong/opt/anaconda3/envs/sem_eval/lib/python3.7/site-packages (from -r requirements.txt (line 38)) (0.3.4)\n",
      "Requirement already satisfied: docker-pycreds==0.4.0 in /Users/malong/opt/anaconda3/envs/sem_eval/lib/python3.7/site-packages (from -r requirements.txt (line 39)) (0.4.0)\n",
      "Requirement already satisfied: entrypoints==0.3 in /Users/malong/opt/anaconda3/envs/sem_eval/lib/python3.7/site-packages (from -r requirements.txt (line 40)) (0.3)\n",
      "Requirement already satisfied: fairscale==0.4.0 in /Users/malong/opt/anaconda3/envs/sem_eval/lib/python3.7/site-packages (from -r requirements.txt (line 41)) (0.4.0)\n",
      "Requirement already satisfied: feedparser==6.0.8 in /Users/malong/opt/anaconda3/envs/sem_eval/lib/python3.7/site-packages (from -r requirements.txt (line 42)) (6.0.8)\n",
      "Requirement already satisfied: filelock==3.3.2 in /Users/malong/opt/anaconda3/envs/sem_eval/lib/python3.7/site-packages (from -r requirements.txt (line 43)) (3.3.2)\n",
      "Requirement already satisfied: frozenlist==1.2.0 in /Users/malong/opt/anaconda3/envs/sem_eval/lib/python3.7/site-packages (from -r requirements.txt (line 44)) (1.2.0)\n",
      "Requirement already satisfied: fsspec==2021.11.0 in /Users/malong/opt/anaconda3/envs/sem_eval/lib/python3.7/site-packages (from -r requirements.txt (line 45)) (2021.11.0)\n",
      "Requirement already satisfied: future==0.18.2 in /Users/malong/opt/anaconda3/envs/sem_eval/lib/python3.7/site-packages (from -r requirements.txt (line 46)) (0.18.2)\n",
      "Requirement already satisfied: gitdb==4.0.9 in /Users/malong/opt/anaconda3/envs/sem_eval/lib/python3.7/site-packages (from -r requirements.txt (line 47)) (4.0.9)\n",
      "Requirement already satisfied: GitPython==3.1.24 in /Users/malong/opt/anaconda3/envs/sem_eval/lib/python3.7/site-packages (from -r requirements.txt (line 48)) (3.1.24)\n",
      "Requirement already satisfied: google-api-core==2.2.2 in /Users/malong/opt/anaconda3/envs/sem_eval/lib/python3.7/site-packages (from -r requirements.txt (line 49)) (2.2.2)\n",
      "Requirement already satisfied: google-auth==2.3.3 in /Users/malong/opt/anaconda3/envs/sem_eval/lib/python3.7/site-packages (from -r requirements.txt (line 50)) (2.3.3)\n",
      "Requirement already satisfied: google-auth-oauthlib==0.4.6 in /Users/malong/opt/anaconda3/envs/sem_eval/lib/python3.7/site-packages (from -r requirements.txt (line 51)) (0.4.6)\n",
      "Requirement already satisfied: google-cloud-core==2.2.1 in /Users/malong/opt/anaconda3/envs/sem_eval/lib/python3.7/site-packages (from -r requirements.txt (line 52)) (2.2.1)\n",
      "Requirement already satisfied: google-cloud-storage==1.42.3 in /Users/malong/opt/anaconda3/envs/sem_eval/lib/python3.7/site-packages (from -r requirements.txt (line 53)) (1.42.3)\n",
      "Requirement already satisfied: google-crc32c==1.3.0 in /Users/malong/opt/anaconda3/envs/sem_eval/lib/python3.7/site-packages (from -r requirements.txt (line 54)) (1.3.0)\n",
      "Requirement already satisfied: google-resumable-media==2.1.0 in /Users/malong/opt/anaconda3/envs/sem_eval/lib/python3.7/site-packages (from -r requirements.txt (line 55)) (2.1.0)\n",
      "Requirement already satisfied: googleapis-common-protos==1.53.0 in /Users/malong/opt/anaconda3/envs/sem_eval/lib/python3.7/site-packages (from -r requirements.txt (line 56)) (1.53.0)\n",
      "Requirement already satisfied: grpcio==1.41.1 in /Users/malong/opt/anaconda3/envs/sem_eval/lib/python3.7/site-packages (from -r requirements.txt (line 57)) (1.41.1)\n",
      "Requirement already satisfied: h5py==3.5.0 in /Users/malong/opt/anaconda3/envs/sem_eval/lib/python3.7/site-packages (from -r requirements.txt (line 58)) (3.5.0)\n",
      "Requirement already satisfied: huggingface-hub==0.1.2 in /Users/malong/opt/anaconda3/envs/sem_eval/lib/python3.7/site-packages (from -r requirements.txt (line 59)) (0.1.2)\n",
      "Requirement already satisfied: idna==3.3 in /Users/malong/opt/anaconda3/envs/sem_eval/lib/python3.7/site-packages (from -r requirements.txt (line 60)) (3.3)\n",
      "Requirement already satisfied: importlib-metadata==4.8.2 in /Users/malong/opt/anaconda3/envs/sem_eval/lib/python3.7/site-packages (from -r requirements.txt (line 61)) (4.8.2)\n",
      "Requirement already satisfied: importlib-resources==5.4.0 in /Users/malong/opt/anaconda3/envs/sem_eval/lib/python3.7/site-packages (from -r requirements.txt (line 62)) (5.4.0)\n",
      "Requirement already satisfied: iniconfig==1.1.1 in /Users/malong/opt/anaconda3/envs/sem_eval/lib/python3.7/site-packages (from -r requirements.txt (line 63)) (1.1.1)\n",
      "Requirement already satisfied: ipykernel==6.5.0 in /Users/malong/opt/anaconda3/envs/sem_eval/lib/python3.7/site-packages (from -r requirements.txt (line 64)) (6.5.0)\n",
      "Requirement already satisfied: ipython==7.29.0 in /Users/malong/opt/anaconda3/envs/sem_eval/lib/python3.7/site-packages (from -r requirements.txt (line 65)) (7.29.0)\n",
      "Requirement already satisfied: ipython-genutils==0.2.0 in /Users/malong/opt/anaconda3/envs/sem_eval/lib/python3.7/site-packages (from -r requirements.txt (line 66)) (0.2.0)\n",
      "Requirement already satisfied: ipywidgets==7.6.5 in /Users/malong/opt/anaconda3/envs/sem_eval/lib/python3.7/site-packages (from -r requirements.txt (line 67)) (7.6.5)\n",
      "Requirement already satisfied: iso-639==0.4.5 in /Users/malong/opt/anaconda3/envs/sem_eval/lib/python3.7/site-packages (from -r requirements.txt (line 68)) (0.4.5)\n",
      "Requirement already satisfied: jaraco.classes==3.2.1 in /Users/malong/opt/anaconda3/envs/sem_eval/lib/python3.7/site-packages (from -r requirements.txt (line 69)) (3.2.1)\n",
      "Requirement already satisfied: jaraco.collections==3.4.0 in /Users/malong/opt/anaconda3/envs/sem_eval/lib/python3.7/site-packages (from -r requirements.txt (line 70)) (3.4.0)\n",
      "Requirement already satisfied: jaraco.functools==3.4.0 in /Users/malong/opt/anaconda3/envs/sem_eval/lib/python3.7/site-packages (from -r requirements.txt (line 71)) (3.4.0)\n",
      "Requirement already satisfied: jaraco.text==3.6.0 in /Users/malong/opt/anaconda3/envs/sem_eval/lib/python3.7/site-packages (from -r requirements.txt (line 72)) (3.6.0)\n",
      "Requirement already satisfied: jedi==0.18.0 in /Users/malong/opt/anaconda3/envs/sem_eval/lib/python3.7/site-packages (from -r requirements.txt (line 73)) (0.18.0)\n",
      "Requirement already satisfied: Jinja2==3.0.3 in /Users/malong/opt/anaconda3/envs/sem_eval/lib/python3.7/site-packages (from -r requirements.txt (line 74)) (3.0.3)\n",
      "Requirement already satisfied: jmespath==0.10.0 in /Users/malong/opt/anaconda3/envs/sem_eval/lib/python3.7/site-packages (from -r requirements.txt (line 75)) (0.10.0)\n",
      "Requirement already satisfied: joblib==1.1.0 in /Users/malong/opt/anaconda3/envs/sem_eval/lib/python3.7/site-packages (from -r requirements.txt (line 76)) (1.1.0)\n",
      "Requirement already satisfied: jsonnet==0.17.0 in /Users/malong/opt/anaconda3/envs/sem_eval/lib/python3.7/site-packages (from -r requirements.txt (line 77)) (0.17.0)\n",
      "Requirement already satisfied: jsonschema==4.2.1 in /Users/malong/opt/anaconda3/envs/sem_eval/lib/python3.7/site-packages (from -r requirements.txt (line 78)) (4.2.1)\n",
      "Requirement already satisfied: jupyter==1.0.0 in /Users/malong/opt/anaconda3/envs/sem_eval/lib/python3.7/site-packages (from -r requirements.txt (line 79)) (1.0.0)\n",
      "Requirement already satisfied: jupyter-client==7.0.6 in /Users/malong/opt/anaconda3/envs/sem_eval/lib/python3.7/site-packages (from -r requirements.txt (line 80)) (7.0.6)\n",
      "Requirement already satisfied: jupyter-console==6.4.0 in /Users/malong/opt/anaconda3/envs/sem_eval/lib/python3.7/site-packages (from -r requirements.txt (line 81)) (6.4.0)\n",
      "Requirement already satisfied: jupyter-core==4.9.1 in /Users/malong/opt/anaconda3/envs/sem_eval/lib/python3.7/site-packages (from -r requirements.txt (line 82)) (4.9.1)\n",
      "Requirement already satisfied: jupyterlab-pygments==0.1.2 in /Users/malong/opt/anaconda3/envs/sem_eval/lib/python3.7/site-packages (from -r requirements.txt (line 83)) (0.1.2)\n",
      "Requirement already satisfied: jupyterlab-widgets==1.0.2 in /Users/malong/opt/anaconda3/envs/sem_eval/lib/python3.7/site-packages (from -r requirements.txt (line 84)) (1.0.2)\n",
      "Requirement already satisfied: lmdb==1.2.1 in /Users/malong/opt/anaconda3/envs/sem_eval/lib/python3.7/site-packages (from -r requirements.txt (line 85)) (1.2.1)\n",
      "Requirement already satisfied: lxml==4.6.4 in /Users/malong/opt/anaconda3/envs/sem_eval/lib/python3.7/site-packages (from -r requirements.txt (line 86)) (4.6.4)\n",
      "Requirement already satisfied: Markdown==3.3.4 in /Users/malong/opt/anaconda3/envs/sem_eval/lib/python3.7/site-packages (from -r requirements.txt (line 87)) (3.3.4)\n",
      "Requirement already satisfied: MarkupSafe==2.0.1 in /Users/malong/opt/anaconda3/envs/sem_eval/lib/python3.7/site-packages (from -r requirements.txt (line 88)) (2.0.1)\n",
      "Requirement already satisfied: matplotlib-inline==0.1.3 in /Users/malong/opt/anaconda3/envs/sem_eval/lib/python3.7/site-packages (from -r requirements.txt (line 89)) (0.1.3)\n",
      "Requirement already satisfied: mistune==0.8.4 in /Users/malong/opt/anaconda3/envs/sem_eval/lib/python3.7/site-packages (from -r requirements.txt (line 90)) (0.8.4)\n",
      "Requirement already satisfied: more-itertools==8.11.0 in /Users/malong/opt/anaconda3/envs/sem_eval/lib/python3.7/site-packages (from -r requirements.txt (line 91)) (8.11.0)\n",
      "Requirement already satisfied: multidict==5.2.0 in /Users/malong/opt/anaconda3/envs/sem_eval/lib/python3.7/site-packages (from -r requirements.txt (line 92)) (5.2.0)\n",
      "Requirement already satisfied: multiprocess==0.70.12.2 in /Users/malong/opt/anaconda3/envs/sem_eval/lib/python3.7/site-packages (from -r requirements.txt (line 93)) (0.70.12.2)\n",
      "Requirement already satisfied: munch==2.5.0 in /Users/malong/opt/anaconda3/envs/sem_eval/lib/python3.7/site-packages (from -r requirements.txt (line 94)) (2.5.0)\n",
      "Requirement already satisfied: murmurhash==1.0.6 in /Users/malong/opt/anaconda3/envs/sem_eval/lib/python3.7/site-packages (from -r requirements.txt (line 95)) (1.0.6)\n",
      "Requirement already satisfied: nbclient==0.5.8 in /Users/malong/opt/anaconda3/envs/sem_eval/lib/python3.7/site-packages (from -r requirements.txt (line 96)) (0.5.8)\n",
      "Requirement already satisfied: nbconvert==6.3.0 in /Users/malong/opt/anaconda3/envs/sem_eval/lib/python3.7/site-packages (from -r requirements.txt (line 97)) (6.3.0)\n",
      "Requirement already satisfied: nbformat==5.1.3 in /Users/malong/opt/anaconda3/envs/sem_eval/lib/python3.7/site-packages (from -r requirements.txt (line 98)) (5.1.3)\n",
      "Requirement already satisfied: nest-asyncio==1.5.1 in /Users/malong/opt/anaconda3/envs/sem_eval/lib/python3.7/site-packages (from -r requirements.txt (line 99)) (1.5.1)\n",
      "Requirement already satisfied: nltk==3.6.5 in /Users/malong/opt/anaconda3/envs/sem_eval/lib/python3.7/site-packages (from -r requirements.txt (line 100)) (3.6.5)\n",
      "Requirement already satisfied: notebook==6.4.5 in /Users/malong/opt/anaconda3/envs/sem_eval/lib/python3.7/site-packages (from -r requirements.txt (line 101)) (6.4.5)\n",
      "Requirement already satisfied: numpy==1.21.4 in /Users/malong/opt/anaconda3/envs/sem_eval/lib/python3.7/site-packages (from -r requirements.txt (line 102)) (1.21.4)\n",
      "Requirement already satisfied: oauthlib==3.1.1 in /Users/malong/opt/anaconda3/envs/sem_eval/lib/python3.7/site-packages (from -r requirements.txt (line 103)) (3.1.1)\n",
      "Requirement already satisfied: overrides==3.1.0 in /Users/malong/opt/anaconda3/envs/sem_eval/lib/python3.7/site-packages (from -r requirements.txt (line 104)) (3.1.0)\n",
      "Requirement already satisfied: packaging==21.2 in /Users/malong/opt/anaconda3/envs/sem_eval/lib/python3.7/site-packages (from -r requirements.txt (line 105)) (21.2)\n",
      "Requirement already satisfied: pandas==1.3.4 in /Users/malong/opt/anaconda3/envs/sem_eval/lib/python3.7/site-packages (from -r requirements.txt (line 106)) (1.3.4)\n",
      "Requirement already satisfied: pandocfilters==1.5.0 in /Users/malong/opt/anaconda3/envs/sem_eval/lib/python3.7/site-packages (from -r requirements.txt (line 107)) (1.5.0)\n",
      "Requirement already satisfied: parso==0.8.2 in /Users/malong/opt/anaconda3/envs/sem_eval/lib/python3.7/site-packages (from -r requirements.txt (line 108)) (0.8.2)\n",
      "Requirement already satisfied: pathtools==0.1.2 in /Users/malong/opt/anaconda3/envs/sem_eval/lib/python3.7/site-packages (from -r requirements.txt (line 109)) (0.1.2)\n",
      "Requirement already satisfied: pathy==0.6.1 in /Users/malong/opt/anaconda3/envs/sem_eval/lib/python3.7/site-packages (from -r requirements.txt (line 110)) (0.6.1)\n",
      "Requirement already satisfied: patternfork-nosql==3.6 in /Users/malong/opt/anaconda3/envs/sem_eval/lib/python3.7/site-packages (from -r requirements.txt (line 111)) (3.6)\n",
      "Requirement already satisfied: pdfminer.six==20211012 in /Users/malong/opt/anaconda3/envs/sem_eval/lib/python3.7/site-packages (from -r requirements.txt (line 112)) (20211012)\n",
      "Requirement already satisfied: pexpect==4.8.0 in /Users/malong/opt/anaconda3/envs/sem_eval/lib/python3.7/site-packages (from -r requirements.txt (line 113)) (4.8.0)\n",
      "Requirement already satisfied: pickleshare==0.7.5 in /Users/malong/opt/anaconda3/envs/sem_eval/lib/python3.7/site-packages (from -r requirements.txt (line 114)) (0.7.5)\n",
      "Requirement already satisfied: Pillow==8.4.0 in /Users/malong/opt/anaconda3/envs/sem_eval/lib/python3.7/site-packages (from -r requirements.txt (line 115)) (8.4.0)\n",
      "Requirement already satisfied: pluggy==1.0.0 in /Users/malong/opt/anaconda3/envs/sem_eval/lib/python3.7/site-packages (from -r requirements.txt (line 116)) (1.0.0)\n",
      "Requirement already satisfied: portend==3.0.0 in /Users/malong/opt/anaconda3/envs/sem_eval/lib/python3.7/site-packages (from -r requirements.txt (line 117)) (3.0.0)\n",
      "Requirement already satisfied: preshed==3.0.6 in /Users/malong/opt/anaconda3/envs/sem_eval/lib/python3.7/site-packages (from -r requirements.txt (line 118)) (3.0.6)\n",
      "Requirement already satisfied: prometheus-client==0.12.0 in /Users/malong/opt/anaconda3/envs/sem_eval/lib/python3.7/site-packages (from -r requirements.txt (line 119)) (0.12.0)\n",
      "Requirement already satisfied: promise==2.3 in /Users/malong/opt/anaconda3/envs/sem_eval/lib/python3.7/site-packages (from -r requirements.txt (line 120)) (2.3)\n",
      "Requirement already satisfied: prompt-toolkit==3.0.22 in /Users/malong/opt/anaconda3/envs/sem_eval/lib/python3.7/site-packages (from -r requirements.txt (line 121)) (3.0.22)\n",
      "Requirement already satisfied: protobuf==3.19.1 in /Users/malong/opt/anaconda3/envs/sem_eval/lib/python3.7/site-packages (from -r requirements.txt (line 122)) (3.19.1)\n",
      "Requirement already satisfied: psutil==5.8.0 in /Users/malong/opt/anaconda3/envs/sem_eval/lib/python3.7/site-packages (from -r requirements.txt (line 123)) (5.8.0)\n",
      "Requirement already satisfied: ptyprocess==0.7.0 in /Users/malong/opt/anaconda3/envs/sem_eval/lib/python3.7/site-packages (from -r requirements.txt (line 124)) (0.7.0)\n",
      "Requirement already satisfied: py==1.11.0 in /Users/malong/opt/anaconda3/envs/sem_eval/lib/python3.7/site-packages (from -r requirements.txt (line 125)) (1.11.0)\n",
      "Requirement already satisfied: pyarrow==6.0.0 in /Users/malong/opt/anaconda3/envs/sem_eval/lib/python3.7/site-packages (from -r requirements.txt (line 126)) (6.0.0)\n",
      "Requirement already satisfied: pyasn1==0.4.8 in /Users/malong/opt/anaconda3/envs/sem_eval/lib/python3.7/site-packages (from -r requirements.txt (line 127)) (0.4.8)\n",
      "Requirement already satisfied: pyasn1-modules==0.2.8 in /Users/malong/opt/anaconda3/envs/sem_eval/lib/python3.7/site-packages (from -r requirements.txt (line 128)) (0.2.8)\n",
      "Requirement already satisfied: pycparser==2.21 in /Users/malong/opt/anaconda3/envs/sem_eval/lib/python3.7/site-packages (from -r requirements.txt (line 129)) (2.21)\n",
      "Requirement already satisfied: pydantic==1.8.2 in /Users/malong/opt/anaconda3/envs/sem_eval/lib/python3.7/site-packages (from -r requirements.txt (line 130)) (1.8.2)\n",
      "Requirement already satisfied: pyDeprecate==0.3.1 in /Users/malong/opt/anaconda3/envs/sem_eval/lib/python3.7/site-packages (from -r requirements.txt (line 131)) (0.3.1)\n",
      "Requirement already satisfied: Pygments==2.10.0 in /Users/malong/opt/anaconda3/envs/sem_eval/lib/python3.7/site-packages (from -r requirements.txt (line 132)) (2.10.0)\n",
      "Requirement already satisfied: pyparsing==2.4.7 in /Users/malong/opt/anaconda3/envs/sem_eval/lib/python3.7/site-packages (from -r requirements.txt (line 133)) (2.4.7)\n",
      "Requirement already satisfied: pyrsistent==0.18.0 in /Users/malong/opt/anaconda3/envs/sem_eval/lib/python3.7/site-packages (from -r requirements.txt (line 134)) (0.18.0)\n",
      "Requirement already satisfied: PySocks==1.7.1 in /Users/malong/opt/anaconda3/envs/sem_eval/lib/python3.7/site-packages (from -r requirements.txt (line 135)) (1.7.1)\n",
      "Requirement already satisfied: pytest==6.2.5 in /Users/malong/opt/anaconda3/envs/sem_eval/lib/python3.7/site-packages (from -r requirements.txt (line 136)) (6.2.5)\n",
      "Requirement already satisfied: python-dateutil==2.8.2 in /Users/malong/opt/anaconda3/envs/sem_eval/lib/python3.7/site-packages (from -r requirements.txt (line 137)) (2.8.2)\n",
      "Requirement already satisfied: python-docx==0.8.11 in /Users/malong/opt/anaconda3/envs/sem_eval/lib/python3.7/site-packages (from -r requirements.txt (line 138)) (0.8.11)\n",
      "Requirement already satisfied: pytorch-lightning==1.5.1 in /Users/malong/opt/anaconda3/envs/sem_eval/lib/python3.7/site-packages (from -r requirements.txt (line 139)) (1.5.1)\n",
      "Requirement already satisfied: pytz==2021.3 in /Users/malong/opt/anaconda3/envs/sem_eval/lib/python3.7/site-packages (from -r requirements.txt (line 140)) (2021.3)\n",
      "Requirement already satisfied: PyYAML==6.0 in /Users/malong/opt/anaconda3/envs/sem_eval/lib/python3.7/site-packages (from -r requirements.txt (line 141)) (6.0)\n",
      "Requirement already satisfied: pyzmq==22.3.0 in /Users/malong/opt/anaconda3/envs/sem_eval/lib/python3.7/site-packages (from -r requirements.txt (line 142)) (22.3.0)\n",
      "Requirement already satisfied: qtconsole==5.2.0 in /Users/malong/opt/anaconda3/envs/sem_eval/lib/python3.7/site-packages (from -r requirements.txt (line 143)) (5.2.0)\n",
      "Requirement already satisfied: QtPy==1.11.2 in /Users/malong/opt/anaconda3/envs/sem_eval/lib/python3.7/site-packages (from -r requirements.txt (line 144)) (1.11.2)\n",
      "Requirement already satisfied: regex==2021.11.10 in /Users/malong/opt/anaconda3/envs/sem_eval/lib/python3.7/site-packages (from -r requirements.txt (line 145)) (2021.11.10)\n",
      "Requirement already satisfied: requests==2.26.0 in /Users/malong/opt/anaconda3/envs/sem_eval/lib/python3.7/site-packages (from -r requirements.txt (line 146)) (2.26.0)\n",
      "Requirement already satisfied: requests-oauthlib==1.3.0 in /Users/malong/opt/anaconda3/envs/sem_eval/lib/python3.7/site-packages (from -r requirements.txt (line 147)) (1.3.0)\n",
      "Requirement already satisfied: rsa==4.7.2 in /Users/malong/opt/anaconda3/envs/sem_eval/lib/python3.7/site-packages (from -r requirements.txt (line 148)) (4.7.2)\n",
      "Requirement already satisfied: s3transfer==0.5.0 in /Users/malong/opt/anaconda3/envs/sem_eval/lib/python3.7/site-packages (from -r requirements.txt (line 149)) (0.5.0)\n",
      "Requirement already satisfied: sacremoses==0.0.46 in /Users/malong/opt/anaconda3/envs/sem_eval/lib/python3.7/site-packages (from -r requirements.txt (line 150)) (0.0.46)\n",
      "Requirement already satisfied: scikit-learn==1.0.1 in /Users/malong/opt/anaconda3/envs/sem_eval/lib/python3.7/site-packages (from -r requirements.txt (line 151)) (1.0.1)\n",
      "Requirement already satisfied: scipy==1.7.2 in /Users/malong/opt/anaconda3/envs/sem_eval/lib/python3.7/site-packages (from -r requirements.txt (line 152)) (1.7.2)\n",
      "Requirement already satisfied: Send2Trash==1.8.0 in /Users/malong/opt/anaconda3/envs/sem_eval/lib/python3.7/site-packages (from -r requirements.txt (line 153)) (1.8.0)\n",
      "Requirement already satisfied: sentencepiece==0.1.96 in /Users/malong/opt/anaconda3/envs/sem_eval/lib/python3.7/site-packages (from -r requirements.txt (line 154)) (0.1.96)\n",
      "Requirement already satisfied: sentry-sdk==1.4.3 in /Users/malong/opt/anaconda3/envs/sem_eval/lib/python3.7/site-packages (from -r requirements.txt (line 155)) (1.4.3)\n",
      "Requirement already satisfied: sgmllib3k==1.0.0 in /Users/malong/opt/anaconda3/envs/sem_eval/lib/python3.7/site-packages (from -r requirements.txt (line 156)) (1.0.0)\n",
      "Requirement already satisfied: shortuuid==1.0.8 in /Users/malong/opt/anaconda3/envs/sem_eval/lib/python3.7/site-packages (from -r requirements.txt (line 157)) (1.0.8)\n",
      "Requirement already satisfied: six==1.16.0 in /Users/malong/opt/anaconda3/envs/sem_eval/lib/python3.7/site-packages (from -r requirements.txt (line 158)) (1.16.0)\n",
      "Requirement already satisfied: smart-open==5.2.1 in /Users/malong/opt/anaconda3/envs/sem_eval/lib/python3.7/site-packages (from -r requirements.txt (line 159)) (5.2.1)\n",
      "Requirement already satisfied: smmap==5.0.0 in /Users/malong/opt/anaconda3/envs/sem_eval/lib/python3.7/site-packages (from -r requirements.txt (line 160)) (5.0.0)\n",
      "Requirement already satisfied: soupsieve==2.3.1 in /Users/malong/opt/anaconda3/envs/sem_eval/lib/python3.7/site-packages (from -r requirements.txt (line 161)) (2.3.1)\n",
      "Requirement already satisfied: spacy==3.1.4 in /Users/malong/opt/anaconda3/envs/sem_eval/lib/python3.7/site-packages (from -r requirements.txt (line 162)) (3.1.4)\n",
      "Requirement already satisfied: spacy-legacy==3.0.8 in /Users/malong/opt/anaconda3/envs/sem_eval/lib/python3.7/site-packages (from -r requirements.txt (line 163)) (3.0.8)\n",
      "Requirement already satisfied: sqlitedict==1.7.0 in /Users/malong/opt/anaconda3/envs/sem_eval/lib/python3.7/site-packages (from -r requirements.txt (line 164)) (1.7.0)\n",
      "Requirement already satisfied: srsly==2.4.2 in /Users/malong/opt/anaconda3/envs/sem_eval/lib/python3.7/site-packages (from -r requirements.txt (line 165)) (2.4.2)\n",
      "Requirement already satisfied: subprocess32==3.5.4 in /Users/malong/opt/anaconda3/envs/sem_eval/lib/python3.7/site-packages (from -r requirements.txt (line 166)) (3.5.4)\n",
      "Requirement already satisfied: tempora==4.1.2 in /Users/malong/opt/anaconda3/envs/sem_eval/lib/python3.7/site-packages (from -r requirements.txt (line 167)) (4.1.2)\n",
      "Requirement already satisfied: tensorboard==2.7.0 in /Users/malong/opt/anaconda3/envs/sem_eval/lib/python3.7/site-packages (from -r requirements.txt (line 168)) (2.7.0)\n",
      "Requirement already satisfied: tensorboard-data-server==0.6.1 in /Users/malong/opt/anaconda3/envs/sem_eval/lib/python3.7/site-packages (from -r requirements.txt (line 169)) (0.6.1)\n",
      "Requirement already satisfied: tensorboard-plugin-wit==1.8.0 in /Users/malong/opt/anaconda3/envs/sem_eval/lib/python3.7/site-packages (from -r requirements.txt (line 170)) (1.8.0)\n",
      "Requirement already satisfied: tensorboardX==2.4 in /Users/malong/opt/anaconda3/envs/sem_eval/lib/python3.7/site-packages (from -r requirements.txt (line 171)) (2.4)\n",
      "Requirement already satisfied: termcolor==1.1.0 in /Users/malong/opt/anaconda3/envs/sem_eval/lib/python3.7/site-packages (from -r requirements.txt (line 172)) (1.1.0)\n",
      "Requirement already satisfied: terminado==0.12.1 in /Users/malong/opt/anaconda3/envs/sem_eval/lib/python3.7/site-packages (from -r requirements.txt (line 173)) (0.12.1)\n",
      "Requirement already satisfied: testpath==0.5.0 in /Users/malong/opt/anaconda3/envs/sem_eval/lib/python3.7/site-packages (from -r requirements.txt (line 174)) (0.5.0)\n",
      "Requirement already satisfied: thinc==8.0.13 in /Users/malong/opt/anaconda3/envs/sem_eval/lib/python3.7/site-packages (from -r requirements.txt (line 175)) (8.0.13)\n",
      "Requirement already satisfied: threadpoolctl==3.0.0 in /Users/malong/opt/anaconda3/envs/sem_eval/lib/python3.7/site-packages (from -r requirements.txt (line 176)) (3.0.0)\n",
      "Requirement already satisfied: tokenizers==0.10.3 in /Users/malong/opt/anaconda3/envs/sem_eval/lib/python3.7/site-packages (from -r requirements.txt (line 177)) (0.10.3)\n",
      "Requirement already satisfied: toml==0.10.2 in /Users/malong/opt/anaconda3/envs/sem_eval/lib/python3.7/site-packages (from -r requirements.txt (line 178)) (0.10.2)\n",
      "Requirement already satisfied: torch==1.10.0 in /Users/malong/opt/anaconda3/envs/sem_eval/lib/python3.7/site-packages (from -r requirements.txt (line 179)) (1.10.0)\n",
      "Requirement already satisfied: torchmetrics==0.6.0 in /Users/malong/opt/anaconda3/envs/sem_eval/lib/python3.7/site-packages (from -r requirements.txt (line 180)) (0.6.0)\n",
      "Requirement already satisfied: torchvision==0.11.1 in /Users/malong/opt/anaconda3/envs/sem_eval/lib/python3.7/site-packages (from -r requirements.txt (line 181)) (0.11.1)\n",
      "Requirement already satisfied: tornado==6.1 in /Users/malong/opt/anaconda3/envs/sem_eval/lib/python3.7/site-packages (from -r requirements.txt (line 182)) (6.1)\n",
      "Requirement already satisfied: tqdm==4.62.3 in /Users/malong/opt/anaconda3/envs/sem_eval/lib/python3.7/site-packages (from -r requirements.txt (line 183)) (4.62.3)\n",
      "Requirement already satisfied: traitlets==5.1.1 in /Users/malong/opt/anaconda3/envs/sem_eval/lib/python3.7/site-packages (from -r requirements.txt (line 184)) (5.1.1)\n",
      "Requirement already satisfied: transformers==4.12.3 in /Users/malong/opt/anaconda3/envs/sem_eval/lib/python3.7/site-packages (from -r requirements.txt (line 185)) (4.12.3)\n",
      "Requirement already satisfied: typer==0.4.0 in /Users/malong/opt/anaconda3/envs/sem_eval/lib/python3.7/site-packages (from -r requirements.txt (line 186)) (0.4.0)\n",
      "Requirement already satisfied: typing-extensions==3.10.0.2 in /Users/malong/opt/anaconda3/envs/sem_eval/lib/python3.7/site-packages (from -r requirements.txt (line 187)) (3.10.0.2)\n",
      "Requirement already satisfied: urllib3==1.26.7 in /Users/malong/opt/anaconda3/envs/sem_eval/lib/python3.7/site-packages (from -r requirements.txt (line 188)) (1.26.7)\n",
      "Requirement already satisfied: wandb==0.12.6 in /Users/malong/opt/anaconda3/envs/sem_eval/lib/python3.7/site-packages (from -r requirements.txt (line 189)) (0.12.6)\n",
      "Requirement already satisfied: wasabi==0.8.2 in /Users/malong/opt/anaconda3/envs/sem_eval/lib/python3.7/site-packages (from -r requirements.txt (line 190)) (0.8.2)\n",
      "Requirement already satisfied: wcwidth==0.2.5 in /Users/malong/opt/anaconda3/envs/sem_eval/lib/python3.7/site-packages (from -r requirements.txt (line 191)) (0.2.5)\n",
      "Requirement already satisfied: webencodings==0.5.1 in /Users/malong/opt/anaconda3/envs/sem_eval/lib/python3.7/site-packages (from -r requirements.txt (line 192)) (0.5.1)\n",
      "Requirement already satisfied: Werkzeug==2.0.2 in /Users/malong/opt/anaconda3/envs/sem_eval/lib/python3.7/site-packages (from -r requirements.txt (line 193)) (2.0.2)\n",
      "Requirement already satisfied: widgetsnbextension==3.5.2 in /Users/malong/opt/anaconda3/envs/sem_eval/lib/python3.7/site-packages (from -r requirements.txt (line 194)) (3.5.2)\n",
      "Requirement already satisfied: xxhash==2.0.2 in /Users/malong/opt/anaconda3/envs/sem_eval/lib/python3.7/site-packages (from -r requirements.txt (line 195)) (2.0.2)\n",
      "Requirement already satisfied: yarl==1.7.2 in /Users/malong/opt/anaconda3/envs/sem_eval/lib/python3.7/site-packages (from -r requirements.txt (line 196)) (1.7.2)\n",
      "Requirement already satisfied: yaspin==2.1.0 in /Users/malong/opt/anaconda3/envs/sem_eval/lib/python3.7/site-packages (from -r requirements.txt (line 197)) (2.1.0)\n",
      "Requirement already satisfied: zc.lockfile==2.0 in /Users/malong/opt/anaconda3/envs/sem_eval/lib/python3.7/site-packages (from -r requirements.txt (line 198)) (2.0)\n",
      "Requirement already satisfied: zipp==3.6.0 in /Users/malong/opt/anaconda3/envs/sem_eval/lib/python3.7/site-packages (from -r requirements.txt (line 199)) (3.6.0)\n",
      "Requirement already satisfied: setuptools>=40.3.0 in /Users/malong/opt/anaconda3/envs/sem_eval/lib/python3.7/site-packages (from google-api-core==2.2.2->-r requirements.txt (line 49)) (58.0.4)\n",
      "Requirement already satisfied: wheel>=0.26 in /Users/malong/opt/anaconda3/envs/sem_eval/lib/python3.7/site-packages (from tensorboard==2.7.0->-r requirements.txt (line 168)) (0.37.0)\n"
     ]
    }
   ],
   "source": [
    "try:\n",
    "    from google.colab import drive\n",
    "    drive.mount('/content/drive')\n",
    "except ModuleNotFoundError as e:\n",
    "    print(\"not in colab\")\n",
    "    pass\n",
    "import os\n",
    "base_dir = \"/content/drive/MyDrive/semeval2022\"\n",
    "if not os.path.exists(base_dir):\n",
    "  !pip install -r requirements.txt\n",
    "  base_dir = \"\"\n",
    "else:\n",
    "  !pip install -r /content/drive/MyDrive/semeval2022/requirements.txt\n",
    "  !cp -rf /content/drive/MyDrive/semeval2022/*.py . \n",
    "  !cp -rf /content/drive/MyDrive/semeval2022/utils .\n",
    "  !cp -rf /content/drive/MyDrive/semeval2022/model ."
   ]
  },
  {
   "cell_type": "code",
   "execution_count": 9,
   "metadata": {},
   "outputs": [],
   "source": [
    "from utils.util import get_reader, train_model, save_model, parse_args, get_tagset, load_model, wnut_iob\n",
    "import time"
   ]
  },
  {
   "cell_type": "code",
   "execution_count": 10,
   "metadata": {},
   "outputs": [],
   "source": [
    "encoder_model = \"roberta-base\"\n",
    "checkpoint = os.path.join(base_dir, \"./roberta-train/lightning_logs/version_0/checkpoints/roberta-train_timestamp_1638429490.282762_final.ckpt\")\n",
    "train_file = os.path.join(base_dir, \"./training_data/EN-English/en_train.conll\")\n",
    "dev_file = os.path.join(base_dir, \"./training_data/EN-English/en_dev.conll\")\n",
    "output_dir = os.path.join(base_dir, \"roberta-finetune\")\n",
    "iob_tagging = wnut_iob"
   ]
  },
  {
   "cell_type": "code",
   "execution_count": 6,
   "metadata": {},
   "outputs": [
    {
     "name": "stderr",
     "output_type": "stream",
     "text": [
      "2021-12-03 09:41:54 - INFO - reader - Reading file ./training_data/EN-English/en_train.conll\n",
      "2021-12-03 09:42:11 - INFO - reader - Finished reading 15300 instances from file ./training_data/EN-English/en_train.conll\n",
      "Some weights of the model checkpoint at ./roberta-retrained/checkpoint-5000 were not used when initializing RobertaModel: ['lm_head.dense.bias', 'lm_head.layer_norm.weight', 'lm_head.dense.weight', 'lm_head.layer_norm.bias', 'lm_head.bias']\n",
      "- This IS expected if you are initializing RobertaModel from the checkpoint of a model trained on another task or with another architecture (e.g. initializing a BertForSequenceClassification model from a BertForPreTraining model).\n",
      "- This IS NOT expected if you are initializing RobertaModel from the checkpoint of a model that you expect to be exactly identical (initializing a BertForSequenceClassification model from a BertForSequenceClassification model).\n",
      "Some weights of RobertaModel were not initialized from the model checkpoint at ./roberta-retrained/checkpoint-5000 and are newly initialized: ['roberta.pooler.dense.bias', 'roberta.pooler.dense.weight']\n",
      "You should probably TRAIN this model on a down-stream task to be able to use it for predictions and inference.\n",
      "Global seed set to 42\n",
      "GPU available: False, used: False\n",
      "TPU available: False, using: 0 TPU cores\n",
      "IPU available: False, using: 0 IPUs\n",
      "\n",
      "  | Name        | Type                   | Params\n",
      "-------------------------------------------------------\n",
      "0 | encoder     | RobertaModel           | 124 M \n",
      "1 | feedforward | Linear                 | 10.0 K\n",
      "2 | crf_layer   | ConditionalRandomField | 420   \n",
      "3 | dropout     | Dropout                | 0     \n",
      "-------------------------------------------------------\n",
      "124 M     Trainable params\n",
      "225       Non-trainable params\n",
      "124 M     Total params\n",
      "498.624   Total estimated model params size (MB)\n"
     ]
    },
    {
     "name": "stdout",
     "output_type": "stream",
     "text": [
      "                                           "
     ]
    },
    {
     "name": "stderr",
     "output_type": "stream",
     "text": [
      "Global seed set to 42\n"
     ]
    },
    {
     "name": "stdout",
     "output_type": "stream",
     "text": [
      "Epoch 0:   0%|          | 0/957 [00:00<?, ?it/s] "
     ]
    },
    {
     "name": "stderr",
     "output_type": "stream",
     "text": [
      "[W ParallelNative.cpp:214] Warning: Cannot set number of intraop threads after parallel work has started or after set_num_threads call when using native parallel backend (function set_num_threads)\n",
      "[W ParallelNative.cpp:214] Warning: Cannot set number of intraop threads after parallel work has started or after set_num_threads call when using native parallel backend (function set_num_threads)\n",
      "[W ParallelNative.cpp:214] Warning: Cannot set number of intraop threads after parallel work has started or after set_num_threads call when using native parallel backend (function set_num_threads)\n",
      "[W ParallelNative.cpp:214] Warning: Cannot set number of intraop threads after parallel work has started or after set_num_threads call when using native parallel backend (function set_num_threads)\n",
      "[W ParallelNative.cpp:214] Warning: Cannot set number of intraop threads after parallel work has started or after set_num_threads call when using native parallel backend (function set_num_threads)\n",
      "[W ParallelNative.cpp:214] Warning: Cannot set number of intraop threads after parallel work has started or after set_num_threads call when using native parallel backend (function set_num_threads)\n",
      "[W ParallelNative.cpp:214] Warning: Cannot set number of intraop threads after parallel work has started or after set_num_threads call when using native parallel backend (function set_num_threads)\n",
      "[W ParallelNative.cpp:214] Warning: Cannot set number of intraop threads after parallel work has started or after set_num_threads call when using native parallel backend (function set_num_threads)\n",
      "[W ParallelNative.cpp:214] Warning: Cannot set number of intraop threads after parallel work has started or after set_num_threads call when using native parallel backend (function set_num_threads)\n",
      "[W ParallelNative.cpp:214] Warning: Cannot set number of intraop threads after parallel work has started or after set_num_threads call when using native parallel backend (function set_num_threads)\n"
     ]
    },
    {
     "name": "stdout",
     "output_type": "stream",
     "text": [
      "Epoch 1:   0%|          | 0/957 [00:00<?, ?it/s, loss=2.770, v_num=1, P@GRP=0.846, R@GRP=0.797, F1@GRP=0.821, P@PER=0.928, R@PER=0.939, F1@PER=0.934, P@CORP=0.784, R@CORP=0.798, F1@CORP=0.791, P@PROD=0.622, R@PROD=0.655, F1@PROD=0.638, P@CW=0.732, R@CW=0.719, F1@CW=0.725, P@LOC=0.874, R@LOC=0.886, F1@LOC=0.880, micro@P=0.815, micro@R=0.818, micro@F1=0.817, MD@R=0.855, MD@P=0.852, MD@F1=0.854, ALLTRUE=23553.0, ALLRECALLED=20135.0, ALLPRED=23621.0]"
     ]
    },
    {
     "name": "stderr",
     "output_type": "stream",
     "text": [
      "[W ParallelNative.cpp:214] Warning: Cannot set number of intraop threads after parallel work has started or after set_num_threads call when using native parallel backend (function set_num_threads)\n",
      "[W ParallelNative.cpp:214] Warning: Cannot set number of intraop threads after parallel work has started or after set_num_threads call when using native parallel backend (function set_num_threads)\n",
      "[W ParallelNative.cpp:214] Warning: Cannot set number of intraop threads after parallel work has started or after set_num_threads call when using native parallel backend (function set_num_threads)\n",
      "[W ParallelNative.cpp:214] Warning: Cannot set number of intraop threads after parallel work has started or after set_num_threads call when using native parallel backend (function set_num_threads)\n",
      "[W ParallelNative.cpp:214] Warning: Cannot set number of intraop threads after parallel work has started or after set_num_threads call when using native parallel backend (function set_num_threads)\n",
      "[W ParallelNative.cpp:214] Warning: Cannot set number of intraop threads after parallel work has started or after set_num_threads call when using native parallel backend (function set_num_threads)\n",
      "[W ParallelNative.cpp:214] Warning: Cannot set number of intraop threads after parallel work has started or after set_num_threads call when using native parallel backend (function set_num_threads)\n",
      "[W ParallelNative.cpp:214] Warning: Cannot set number of intraop threads after parallel work has started or after set_num_threads call when using native parallel backend (function set_num_threads)\n",
      "[W ParallelNative.cpp:214] Warning: Cannot set number of intraop threads after parallel work has started or after set_num_threads call when using native parallel backend (function set_num_threads)\n",
      "[W ParallelNative.cpp:214] Warning: Cannot set number of intraop threads after parallel work has started or after set_num_threads call when using native parallel backend (function set_num_threads)\n"
     ]
    },
    {
     "name": "stdout",
     "output_type": "stream",
     "text": [
      "Epoch 2:   0%|          | 0/957 [00:00<?, ?it/s, loss=4.060, v_num=1, P@GRP=0.860, R@GRP=0.817, F1@GRP=0.838, P@PER=0.926, R@PER=0.935, F1@PER=0.930, P@CORP=0.803, R@CORP=0.820, F1@CORP=0.812, P@PROD=0.668, R@PROD=0.697, F1@PROD=0.682, P@CW=0.770, R@CW=0.758, F1@CW=0.764, P@LOC=0.883, R@LOC=0.894, F1@LOC=0.888, micro@P=0.833, micro@R=0.836, micro@F1=0.835, MD@R=0.871, MD@P=0.868, MD@F1=0.870, ALLTRUE=23553.0, ALLRECALLED=20510.0, ALLPRED=23617.0]"
     ]
    },
    {
     "name": "stderr",
     "output_type": "stream",
     "text": [
      "[W ParallelNative.cpp:214] Warning: Cannot set number of intraop threads after parallel work has started or after set_num_threads call when using native parallel backend (function set_num_threads)\n",
      "[W ParallelNative.cpp:214] Warning: Cannot set number of intraop threads after parallel work has started or after set_num_threads call when using native parallel backend (function set_num_threads)\n",
      "[W ParallelNative.cpp:214] Warning: Cannot set number of intraop threads after parallel work has started or after set_num_threads call when using native parallel backend (function set_num_threads)\n",
      "[W ParallelNative.cpp:214] Warning: Cannot set number of intraop threads after parallel work has started or after set_num_threads call when using native parallel backend (function set_num_threads)\n",
      "[W ParallelNative.cpp:214] Warning: Cannot set number of intraop threads after parallel work has started or after set_num_threads call when using native parallel backend (function set_num_threads)\n",
      "[W ParallelNative.cpp:214] Warning: Cannot set number of intraop threads after parallel work has started or after set_num_threads call when using native parallel backend (function set_num_threads)\n",
      "[W ParallelNative.cpp:214] Warning: Cannot set number of intraop threads after parallel work has started or after set_num_threads call when using native parallel backend (function set_num_threads)\n",
      "[W ParallelNative.cpp:214] Warning: Cannot set number of intraop threads after parallel work has started or after set_num_threads call when using native parallel backend (function set_num_threads)\n",
      "[W ParallelNative.cpp:214] Warning: Cannot set number of intraop threads after parallel work has started or after set_num_threads call when using native parallel backend (function set_num_threads)\n",
      "[W ParallelNative.cpp:214] Warning: Cannot set number of intraop threads after parallel work has started or after set_num_threads call when using native parallel backend (function set_num_threads)\n"
     ]
    },
    {
     "name": "stdout",
     "output_type": "stream",
     "text": [
      "Epoch 3:   0%|          | 0/957 [00:00<?, ?it/s, loss=3.950, v_num=1, P@GRP=0.875, R@GRP=0.839, F1@GRP=0.856, P@PER=0.937, R@PER=0.946, F1@PER=0.942, P@CORP=0.830, R@CORP=0.848, F1@CORP=0.838, P@PROD=0.702, R@PROD=0.730, F1@PROD=0.716, P@CW=0.789, R@CW=0.786, F1@CW=0.788, P@LOC=0.890, R@LOC=0.900, F1@LOC=0.895, micro@P=0.850, micro@R=0.855, micro@F1=0.853, MD@R=0.885, MD@P=0.880, MD@F1=0.882, ALLTRUE=23553.0, ALLRECALLED=20839.0, ALLPRED=23683.0]"
     ]
    },
    {
     "name": "stderr",
     "output_type": "stream",
     "text": [
      "[W ParallelNative.cpp:214] Warning: Cannot set number of intraop threads after parallel work has started or after set_num_threads call when using native parallel backend (function set_num_threads)\n",
      "[W ParallelNative.cpp:214] Warning: Cannot set number of intraop threads after parallel work has started or after set_num_threads call when using native parallel backend (function set_num_threads)\n",
      "[W ParallelNative.cpp:214] Warning: Cannot set number of intraop threads after parallel work has started or after set_num_threads call when using native parallel backend (function set_num_threads)\n",
      "[W ParallelNative.cpp:214] Warning: Cannot set number of intraop threads after parallel work has started or after set_num_threads call when using native parallel backend (function set_num_threads)\n",
      "[W ParallelNative.cpp:214] Warning: Cannot set number of intraop threads after parallel work has started or after set_num_threads call when using native parallel backend (function set_num_threads)\n",
      "[W ParallelNative.cpp:214] Warning: Cannot set number of intraop threads after parallel work has started or after set_num_threads call when using native parallel backend (function set_num_threads)\n",
      "[W ParallelNative.cpp:214] Warning: Cannot set number of intraop threads after parallel work has started or after set_num_threads call when using native parallel backend (function set_num_threads)\n",
      "[W ParallelNative.cpp:214] Warning: Cannot set number of intraop threads after parallel work has started or after set_num_threads call when using native parallel backend (function set_num_threads)\n",
      "[W ParallelNative.cpp:214] Warning: Cannot set number of intraop threads after parallel work has started or after set_num_threads call when using native parallel backend (function set_num_threads)\n",
      "[W ParallelNative.cpp:214] Warning: Cannot set number of intraop threads after parallel work has started or after set_num_threads call when using native parallel backend (function set_num_threads)\n"
     ]
    },
    {
     "name": "stdout",
     "output_type": "stream",
     "text": [
      "Epoch 4:   0%|          | 0/957 [00:00<?, ?it/s, loss=2.160, v_num=1, P@GRP=0.887, R@GRP=0.856, F1@GRP=0.871, P@PER=0.948, R@PER=0.953, F1@PER=0.951, P@CORP=0.858, R@CORP=0.864, F1@CORP=0.861, P@PROD=0.762, R@PROD=0.788, F1@PROD=0.775, P@CW=0.820, R@CW=0.817, F1@CW=0.818, P@LOC=0.910, R@LOC=0.919, F1@LOC=0.915, micro@P=0.875, micro@R=0.878, micro@F1=0.876, MD@R=0.904, MD@P=0.902, MD@F1=0.903, ALLTRUE=23553.0, ALLRECALLED=21297.0, ALLPRED=23612.0]"
     ]
    },
    {
     "name": "stderr",
     "output_type": "stream",
     "text": [
      "[W ParallelNative.cpp:214] Warning: Cannot set number of intraop threads after parallel work has started or after set_num_threads call when using native parallel backend (function set_num_threads)\n",
      "[W ParallelNative.cpp:214] Warning: Cannot set number of intraop threads after parallel work has started or after set_num_threads call when using native parallel backend (function set_num_threads)\n",
      "[W ParallelNative.cpp:214] Warning: Cannot set number of intraop threads after parallel work has started or after set_num_threads call when using native parallel backend (function set_num_threads)\n",
      "[W ParallelNative.cpp:214] Warning: Cannot set number of intraop threads after parallel work has started or after set_num_threads call when using native parallel backend (function set_num_threads)\n",
      "[W ParallelNative.cpp:214] Warning: Cannot set number of intraop threads after parallel work has started or after set_num_threads call when using native parallel backend (function set_num_threads)\n",
      "[W ParallelNative.cpp:214] Warning: Cannot set number of intraop threads after parallel work has started or after set_num_threads call when using native parallel backend (function set_num_threads)\n",
      "[W ParallelNative.cpp:214] Warning: Cannot set number of intraop threads after parallel work has started or after set_num_threads call when using native parallel backend (function set_num_threads)\n",
      "[W ParallelNative.cpp:214] Warning: Cannot set number of intraop threads after parallel work has started or after set_num_threads call when using native parallel backend (function set_num_threads)\n",
      "[W ParallelNative.cpp:214] Warning: Cannot set number of intraop threads after parallel work has started or after set_num_threads call when using native parallel backend (function set_num_threads)\n",
      "[W ParallelNative.cpp:214] Warning: Cannot set number of intraop threads after parallel work has started or after set_num_threads call when using native parallel backend (function set_num_threads)\n"
     ]
    },
    {
     "name": "stdout",
     "output_type": "stream",
     "text": [
      "Epoch 4: 100%|██████████| 957/957 [1:09:56<00:00,  4.39s/it, loss=2.590, v_num=1, P@GRP=0.906, R@GRP=0.871, F1@GRP=0.888, P@PER=0.951, R@PER=0.958, F1@PER=0.954, P@CORP=0.873, R@CORP=0.884, F1@CORP=0.879, P@PROD=0.788, R@PROD=0.811, F1@PROD=0.800, P@CW=0.831, R@CW=0.835, F1@CW=0.833, P@LOC=0.916, R@LOC=0.923, F1@LOC=0.920, micro@P=0.887, micro@R=0.890, micro@F1=0.889, MD@R=0.913, MD@P=0.910, MD@F1=0.912, ALLTRUE=23553.0, ALLRECALLED=21508.0, ALLPRED=23631.0]\n"
     ]
    },
    {
     "name": "stderr",
     "output_type": "stream",
     "text": [
      "2021-12-03 15:30:10 - INFO - util - Stored model roberta-finetune/lightning_logs/version_1/checkpoints//finetune_timestamp_1638516609.385282_final.ckpt.\n"
     ]
    }
   ],
   "source": [
    "train_data = get_reader(file_path=train_file, target_vocab=wnut_iob, encoder_model=encoder_model, max_instances=-1, max_length=50)\n",
    "model = load_model(checkpoint, tag_to_id=wnut_iob, stage='finetune')\n",
    "model.train_data = train_data\n",
    "trainer = train_model(model=model, out_dir=output_dir, epochs=5)\n",
    "out_model_path = save_model(trainer=trainer, out_dir=output_dir, model_name=\"finetune\", timestamp=time.time())"
   ]
  },
  {
   "cell_type": "code",
   "execution_count": null,
   "metadata": {},
   "outputs": [],
   "source": []
  }
 ],
 "metadata": {
  "interpreter": {
   "hash": "26273649c1ad55e65f8b33df1791b797f344b761a59a759c3ddbb97d149ed09b"
  },
  "kernelspec": {
   "display_name": "Python 3.7.11 64-bit ('sem_eval': conda)",
   "language": "python",
   "name": "python3"
  },
  "language_info": {
   "codemirror_mode": {
    "name": "ipython",
    "version": 3
   },
   "file_extension": ".py",
   "mimetype": "text/x-python",
   "name": "python",
   "nbconvert_exporter": "python",
   "pygments_lexer": "ipython3",
   "version": "3.7.11"
  },
  "orig_nbformat": 4
 },
 "nbformat": 4,
 "nbformat_minor": 2
}
