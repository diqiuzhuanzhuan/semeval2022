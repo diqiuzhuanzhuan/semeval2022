{
 "cells": [
  {
   "cell_type": "code",
   "execution_count": 1,
   "metadata": {},
   "outputs": [
    {
     "name": "stderr",
     "output_type": "stream",
     "text": [
      "2021-12-01 09:53:07 - INFO - reader - Reading file ./training_data/EN-English/en_train.conll\n",
      "2021-12-01 09:53:25 - INFO - reader - Finished reading 15300 instances from file ./training_data/EN-English/en_train.conll\n",
      "2021-12-01 09:53:36 - INFO - reader - Reading file ./training_data/EN-English/en_dev.conll\n",
      "2021-12-01 09:53:37 - INFO - reader - Finished reading 800 instances from file ./training_data/EN-English/en_dev.conll\n"
     ]
    }
   ],
   "source": [
    "# prepare data\n",
    "from utils.util import conll_iob\n",
    "from utils.util import get_reader, train_model, create_model, save_model, parse_args, get_tagset\n",
    "train_file = \"./training_data/EN-English/en_train.conll\"\n",
    "dev_file = \"./training_data/EN-English/en_dev.conll\"\n",
    "encoder_model = \"roberta-base\"\n",
    "train_reader = get_reader(file_path=train_file, target_vocab=get_tagset(conll_iob), encoder_model=encoder_model)\n",
    "dev_reader = get_reader(file_path=dev_file, target_vocab=get_tagset(conll_iob), encoder_model=encoder_model)\n"
   ]
  },
  {
   "cell_type": "code",
   "execution_count": 5,
   "metadata": {},
   "outputs": [
    {
     "name": "stdout",
     "output_type": "stream",
     "text": [
      "15300\n",
      "800\n"
     ]
    }
   ],
   "source": [
    "print(train_reader.sentences.__len__())\n",
    "print(dev_reader.__len__())\n",
    "from typing import List\n",
    "def write_roberta_pretrain_sentences(data: List[List], filename: str):\n",
    "    with open(filename, \"w\") as f:\n",
    "        for sentences in data:\n",
    "            for sentence in sentences:\n",
    "                f.write(sentence)\n",
    "                f.write(\"\\n\")\n",
    "\n",
    "write_roberta_pretrain_sentences([train_reader.sentences, dev_reader.sentences], \"roberta.txt\")\n",
    "    "
   ]
  },
  {
   "cell_type": "code",
   "execution_count": 4,
   "metadata": {},
   "outputs": [
    {
     "name": "stderr",
     "output_type": "stream",
     "text": [
      "loading file https://huggingface.co/roberta-base/resolve/main/vocab.json from cache at /Users/malong/.cache/huggingface/transformers/d3ccdbfeb9aaa747ef20432d4976c32ee3fa69663b379deb253ccfce2bb1fdc5.d67d6b367eb24ab43b08ad55e014cf254076934f71d832bbab9ad35644a375ab\n",
      "loading file https://huggingface.co/roberta-base/resolve/main/merges.txt from cache at /Users/malong/.cache/huggingface/transformers/cafdecc90fcab17011e12ac813dd574b4b3fea39da6dd817813efa010262ff3f.5d12962c5ee615a4c803841266e9c3be9a691a924f72d395d3a6c6c81157788b\n",
      "loading file https://huggingface.co/roberta-base/resolve/main/added_tokens.json from cache at None\n",
      "loading file https://huggingface.co/roberta-base/resolve/main/special_tokens_map.json from cache at None\n",
      "loading file https://huggingface.co/roberta-base/resolve/main/tokenizer_config.json from cache at None\n",
      "loading file https://huggingface.co/roberta-base/resolve/main/tokenizer.json from cache at /Users/malong/.cache/huggingface/transformers/d53fc0fa09b8342651efd4073d75e19617b3e51287c2a535becda5808a8db287.fc9576039592f026ad76a1c231b89aee8668488c671dfbe6616bab2ed298d730\n",
      "loading configuration file https://huggingface.co/roberta-base/resolve/main/config.json from cache at /Users/malong/.cache/huggingface/transformers/733bade19e5f0ce98e6531021dd5180994bb2f7b8bd7e80c7968805834ba351e.35205c6cfc956461d8515139f0f8dd5d207a2f336c0c3a83b4bc8dca3518e37b\n",
      "Model config RobertaConfig {\n",
      "  \"architectures\": [\n",
      "    \"RobertaForMaskedLM\"\n",
      "  ],\n",
      "  \"attention_probs_dropout_prob\": 0.1,\n",
      "  \"bos_token_id\": 0,\n",
      "  \"classifier_dropout\": null,\n",
      "  \"eos_token_id\": 2,\n",
      "  \"hidden_act\": \"gelu\",\n",
      "  \"hidden_dropout_prob\": 0.1,\n",
      "  \"hidden_size\": 768,\n",
      "  \"initializer_range\": 0.02,\n",
      "  \"intermediate_size\": 3072,\n",
      "  \"layer_norm_eps\": 1e-05,\n",
      "  \"max_position_embeddings\": 514,\n",
      "  \"model_type\": \"roberta\",\n",
      "  \"num_attention_heads\": 12,\n",
      "  \"num_hidden_layers\": 12,\n",
      "  \"pad_token_id\": 1,\n",
      "  \"position_embedding_type\": \"absolute\",\n",
      "  \"transformers_version\": \"4.12.3\",\n",
      "  \"type_vocab_size\": 1,\n",
      "  \"use_cache\": true,\n",
      "  \"vocab_size\": 50265\n",
      "}\n",
      "\n",
      "loading configuration file ./roberta-retrained/checkpoint-1000/config.json\n",
      "Model config RobertaConfig {\n",
      "  \"_name_or_path\": \"./roberta-retrained/checkpoint-12500\",\n",
      "  \"architectures\": [\n",
      "    \"RobertaForMaskedLM\"\n",
      "  ],\n",
      "  \"attention_probs_dropout_prob\": 0.1,\n",
      "  \"bos_token_id\": 0,\n",
      "  \"classifier_dropout\": null,\n",
      "  \"eos_token_id\": 2,\n",
      "  \"hidden_act\": \"gelu\",\n",
      "  \"hidden_dropout_prob\": 0.1,\n",
      "  \"hidden_size\": 768,\n",
      "  \"initializer_range\": 0.02,\n",
      "  \"intermediate_size\": 3072,\n",
      "  \"layer_norm_eps\": 1e-05,\n",
      "  \"max_position_embeddings\": 514,\n",
      "  \"model_type\": \"roberta\",\n",
      "  \"num_attention_heads\": 12,\n",
      "  \"num_hidden_layers\": 12,\n",
      "  \"pad_token_id\": 1,\n",
      "  \"position_embedding_type\": \"absolute\",\n",
      "  \"torch_dtype\": \"float32\",\n",
      "  \"transformers_version\": \"4.12.3\",\n",
      "  \"type_vocab_size\": 1,\n",
      "  \"use_cache\": true,\n",
      "  \"vocab_size\": 50265\n",
      "}\n",
      "\n",
      "loading weights file ./roberta-retrained/checkpoint-1000/pytorch_model.bin\n",
      "All model checkpoint weights were used when initializing RobertaForMaskedLM.\n",
      "\n",
      "All the weights of RobertaForMaskedLM were initialized from the model checkpoint at ./roberta-retrained/checkpoint-1000.\n",
      "If your task is similar to the task the model of the checkpoint was trained on, you can already use RobertaForMaskedLM for predictions without further training.\n",
      "/Users/malong/opt/anaconda3/envs/sem_eval/lib/python3.7/site-packages/transformers/data/datasets/language_modeling.py:125: FutureWarning: This dataset will be removed from the library soon, preprocessing should be handled with the 🤗 Datasets library. You can have a look at this example script for pointers: https://github.com/huggingface/transformers/blob/master/examples/pytorch/language-modeling/run_mlm.py\n",
      "  FutureWarning,\n",
      "Creating features from dataset file at roberta.txt\n",
      "PyTorch: setting up devices\n",
      "The default value for the training argument `--report_to` will change in v5 (from all installed integrations to none). In v5, you will need to use `--report_to all` to get the same behavior as now. You should start updating your code and make this info disappear :-).\n",
      "***** Running training *****\n",
      "  Num examples = 16100\n",
      "  Num Epochs = 5\n",
      "  Instantaneous batch size per device = 16\n",
      "  Total train batch size (w. parallel, distributed & accumulation) = 16\n",
      "  Gradient Accumulation steps = 1\n",
      "  Total optimization steps = 5035\n",
      "Automatic Weights & Biases logging enabled, to disable set os.environ[\"WANDB_DISABLED\"] = \"true\"\n",
      " 10%|▉         | 500/5035 [49:28<8:05:44,  6.43s/it]Saving model checkpoint to ./roberta-retrained/checkpoint-500\n",
      "Configuration saved in ./roberta-retrained/checkpoint-500/config.json\n"
     ]
    },
    {
     "name": "stdout",
     "output_type": "stream",
     "text": [
      "{'loss': 0.3033, 'learning_rate': 4.503475670307845e-05, 'epoch': 0.5}\n"
     ]
    },
    {
     "name": "stderr",
     "output_type": "stream",
     "text": [
      "Model weights saved in ./roberta-retrained/checkpoint-500/pytorch_model.bin\n",
      " 20%|█▉        | 1000/5035 [1:38:09<6:40:03,  5.95s/it]Saving model checkpoint to ./roberta-retrained/checkpoint-1000\n",
      "Configuration saved in ./roberta-retrained/checkpoint-1000/config.json\n"
     ]
    },
    {
     "name": "stdout",
     "output_type": "stream",
     "text": [
      "{'loss': 0.6139, 'learning_rate': 4.006951340615691e-05, 'epoch': 0.99}\n"
     ]
    },
    {
     "name": "stderr",
     "output_type": "stream",
     "text": [
      "Model weights saved in ./roberta-retrained/checkpoint-1000/pytorch_model.bin\n",
      " 30%|██▉       | 1500/5035 [2:26:36<5:40:00,  5.77s/it]Saving model checkpoint to ./roberta-retrained/checkpoint-1500\n",
      "Configuration saved in ./roberta-retrained/checkpoint-1500/config.json\n"
     ]
    },
    {
     "name": "stdout",
     "output_type": "stream",
     "text": [
      "{'loss': 0.962, 'learning_rate': 3.5104270109235354e-05, 'epoch': 1.49}\n"
     ]
    },
    {
     "name": "stderr",
     "output_type": "stream",
     "text": [
      "Model weights saved in ./roberta-retrained/checkpoint-1500/pytorch_model.bin\n",
      "Deleting older checkpoint [roberta-retrained/checkpoint-500] due to args.save_total_limit\n",
      " 40%|███▉      | 2000/5035 [3:15:51<5:26:36,  6.46s/it]Saving model checkpoint to ./roberta-retrained/checkpoint-2000\n",
      "Configuration saved in ./roberta-retrained/checkpoint-2000/config.json\n"
     ]
    },
    {
     "name": "stdout",
     "output_type": "stream",
     "text": [
      "{'loss': 0.9578, 'learning_rate': 3.0139026812313804e-05, 'epoch': 1.99}\n"
     ]
    },
    {
     "name": "stderr",
     "output_type": "stream",
     "text": [
      "Model weights saved in ./roberta-retrained/checkpoint-2000/pytorch_model.bin\n",
      "Deleting older checkpoint [roberta-retrained/checkpoint-1000] due to args.save_total_limit\n",
      " 50%|████▉     | 2500/5035 [4:04:46<4:43:15,  6.70s/it]Saving model checkpoint to ./roberta-retrained/checkpoint-2500\n",
      "Configuration saved in ./roberta-retrained/checkpoint-2500/config.json\n"
     ]
    },
    {
     "name": "stdout",
     "output_type": "stream",
     "text": [
      "{'loss': 0.8525, 'learning_rate': 2.5173783515392257e-05, 'epoch': 2.48}\n"
     ]
    },
    {
     "name": "stderr",
     "output_type": "stream",
     "text": [
      "Model weights saved in ./roberta-retrained/checkpoint-2500/pytorch_model.bin\n",
      "Deleting older checkpoint [roberta-retrained/checkpoint-1500] due to args.save_total_limit\n",
      " 60%|█████▉    | 3000/5035 [4:53:27<3:26:47,  6.10s/it]Saving model checkpoint to ./roberta-retrained/checkpoint-3000\n",
      "Configuration saved in ./roberta-retrained/checkpoint-3000/config.json\n"
     ]
    },
    {
     "name": "stdout",
     "output_type": "stream",
     "text": [
      "{'loss': 0.9111, 'learning_rate': 2.0208540218470706e-05, 'epoch': 2.98}\n"
     ]
    },
    {
     "name": "stderr",
     "output_type": "stream",
     "text": [
      "Model weights saved in ./roberta-retrained/checkpoint-3000/pytorch_model.bin\n",
      "Deleting older checkpoint [roberta-retrained/checkpoint-2000] due to args.save_total_limit\n",
      " 70%|██████▉   | 3500/5035 [5:42:11<2:43:42,  6.40s/it]Saving model checkpoint to ./roberta-retrained/checkpoint-3500\n",
      "Configuration saved in ./roberta-retrained/checkpoint-3500/config.json\n"
     ]
    },
    {
     "name": "stdout",
     "output_type": "stream",
     "text": [
      "{'loss': 0.8219, 'learning_rate': 1.5243296921549157e-05, 'epoch': 3.48}\n"
     ]
    },
    {
     "name": "stderr",
     "output_type": "stream",
     "text": [
      "Model weights saved in ./roberta-retrained/checkpoint-3500/pytorch_model.bin\n",
      "Deleting older checkpoint [roberta-retrained/checkpoint-2500] due to args.save_total_limit\n",
      " 79%|███████▉  | 4000/5035 [6:30:39<1:46:26,  6.17s/it]Saving model checkpoint to ./roberta-retrained/checkpoint-4000\n",
      "Configuration saved in ./roberta-retrained/checkpoint-4000/config.json\n"
     ]
    },
    {
     "name": "stdout",
     "output_type": "stream",
     "text": [
      "{'loss': 0.8071, 'learning_rate': 1.0278053624627607e-05, 'epoch': 3.97}\n"
     ]
    },
    {
     "name": "stderr",
     "output_type": "stream",
     "text": [
      "Model weights saved in ./roberta-retrained/checkpoint-4000/pytorch_model.bin\n",
      "Deleting older checkpoint [roberta-retrained/checkpoint-3000] due to args.save_total_limit\n",
      " 89%|████████▉ | 4500/5035 [7:19:19<56:16,  6.31s/it]Saving model checkpoint to ./roberta-retrained/checkpoint-4500\n",
      "Configuration saved in ./roberta-retrained/checkpoint-4500/config.json\n"
     ]
    },
    {
     "name": "stdout",
     "output_type": "stream",
     "text": [
      "{'loss': 0.7983, 'learning_rate': 5.312810327706058e-06, 'epoch': 4.47}\n"
     ]
    },
    {
     "name": "stderr",
     "output_type": "stream",
     "text": [
      "Model weights saved in ./roberta-retrained/checkpoint-4500/pytorch_model.bin\n",
      "Deleting older checkpoint [roberta-retrained/checkpoint-3500] due to args.save_total_limit\n",
      " 99%|█████████▉| 5000/5035 [8:12:24<03:40,  6.30s/it]Saving model checkpoint to ./roberta-retrained/checkpoint-5000\n",
      "Configuration saved in ./roberta-retrained/checkpoint-5000/config.json\n"
     ]
    },
    {
     "name": "stdout",
     "output_type": "stream",
     "text": [
      "{'loss': 0.8031, 'learning_rate': 3.475670307845084e-07, 'epoch': 4.97}\n"
     ]
    },
    {
     "name": "stderr",
     "output_type": "stream",
     "text": [
      "Model weights saved in ./roberta-retrained/checkpoint-5000/pytorch_model.bin\n",
      "Deleting older checkpoint [roberta-retrained/checkpoint-4000] due to args.save_total_limit\n",
      "100%|██████████| 5035/5035 [8:15:41<00:00,  4.67s/it]\n",
      "\n",
      "Training completed. Do not forget to share your model on huggingface.co/models =)\n",
      "\n",
      "\n",
      "100%|██████████| 5035/5035 [8:15:41<00:00,  5.91s/it]"
     ]
    },
    {
     "name": "stdout",
     "output_type": "stream",
     "text": [
      "{'train_runtime': 29741.9841, 'train_samples_per_second': 2.707, 'train_steps_per_second': 0.169, 'train_loss': 0.7823451268519048, 'epoch': 5.0}\n"
     ]
    },
    {
     "name": "stderr",
     "output_type": "stream",
     "text": [
      "\n"
     ]
    },
    {
     "data": {
      "text/plain": [
       "TrainOutput(global_step=5035, training_loss=0.7823451268519048, metrics={'train_runtime': 29741.9841, 'train_samples_per_second': 2.707, 'train_steps_per_second': 0.169, 'train_loss': 0.7823451268519048, 'epoch': 5.0})"
      ]
     },
     "execution_count": 4,
     "metadata": {},
     "output_type": "execute_result"
    },
    {
     "name": "stderr",
     "output_type": "stream",
     "text": [
      "wandb: Network error (ProxyError), entering retry loop.\n"
     ]
    }
   ],
   "source": [
    "from transformers import RobertaTokenizer, RobertaForMaskedLM\n",
    "from transformers import LineByLineTextDataset\n",
    "from transformers import DataCollatorForLanguageModeling\n",
    "from transformers import Trainer, TrainingArguments\n",
    "import os\n",
    "\n",
    "encoder_model = \"roberta-base\"\n",
    "tokenizer = RobertaTokenizer.from_pretrained(encoder_model)\n",
    "checkpoint = \"./roberta-retrained/checkpoint-1000\"\n",
    "if os.path.exists(checkpoint):\n",
    "    model = RobertaForMaskedLM.from_pretrained(checkpoint)\n",
    "else:\n",
    "    model = RobertaForMaskedLM.from_pretrained(encoder_model)\n",
    "dataset = LineByLineTextDataset(\n",
    "    tokenizer=tokenizer,\n",
    "    file_path=\"roberta.txt\",\n",
    "    block_size=512,\n",
    ")\n",
    "data_collator = DataCollatorForLanguageModeling(\n",
    "    tokenizer=tokenizer, mlm=True, mlm_probability=0.15\n",
    ")\n",
    "training_args = TrainingArguments(\n",
    "    output_dir=\"./roberta-retrained\",\n",
    "    overwrite_output_dir=True,\n",
    "    num_train_epochs=5,\n",
    "    per_device_train_batch_size=16,\n",
    "    save_steps=500,\n",
    "    save_total_limit=2,\n",
    "    seed=1\n",
    ")\n",
    "\n",
    "trainer = Trainer(\n",
    "    model=model,\n",
    "    args=training_args,\n",
    "    data_collator=data_collator,\n",
    "    train_dataset=dataset\n",
    ")\n",
    "trainer.train()"
   ]
  },
  {
   "cell_type": "code",
   "execution_count": null,
   "metadata": {},
   "outputs": [],
   "source": []
  }
 ],
 "metadata": {
  "interpreter": {
   "hash": "26273649c1ad55e65f8b33df1791b797f344b761a59a759c3ddbb97d149ed09b"
  },
  "kernelspec": {
   "display_name": "Python 3.7.11 64-bit ('sem_eval': conda)",
   "language": "python",
   "name": "python3"
  },
  "language_info": {
   "codemirror_mode": {
    "name": "ipython",
    "version": 3
   },
   "file_extension": ".py",
   "mimetype": "text/x-python",
   "name": "python",
   "nbconvert_exporter": "python",
   "pygments_lexer": "ipython3",
   "version": "3.7.11"
  },
  "orig_nbformat": 4
 },
 "nbformat": 4,
 "nbformat_minor": 2
}
