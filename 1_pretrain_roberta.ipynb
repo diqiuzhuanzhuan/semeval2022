{
  "cells": [
    {
      "cell_type": "code",
      "execution_count": 7,
      "metadata": {
        "colab": {
          "base_uri": "https://localhost:8080/"
        },
        "id": "5JwivFRBcyuF",
        "outputId": "a1cf19eb-c504-4101-eba5-f9973e7bbdc3"
      },
      "outputs": [
        {
          "name": "stdout",
          "output_type": "stream",
          "text": [
            "Requirement already satisfied: absl-py==0.9 in /Users/malong/opt/anaconda3/envs/sem_eval/lib/python3.7/site-packages (from -r requirements.txt (line 1)) (0.9.0)\n",
            "Requirement already satisfied: aiohttp==3.8.1 in /Users/malong/opt/anaconda3/envs/sem_eval/lib/python3.7/site-packages (from -r requirements.txt (line 2)) (3.8.1)\n",
            "Requirement already satisfied: aiosignal==1.2.0 in /Users/malong/opt/anaconda3/envs/sem_eval/lib/python3.7/site-packages (from -r requirements.txt (line 3)) (1.2.0)\n",
            "Requirement already satisfied: allennlp==2.8.0 in /Users/malong/opt/anaconda3/envs/sem_eval/lib/python3.7/site-packages (from -r requirements.txt (line 4)) (2.8.0)\n",
            "Requirement already satisfied: appnope==0.1.2 in /Users/malong/opt/anaconda3/envs/sem_eval/lib/python3.7/site-packages (from -r requirements.txt (line 5)) (0.1.2)\n",
            "Requirement already satisfied: argcomplete==1.12.3 in /Users/malong/opt/anaconda3/envs/sem_eval/lib/python3.7/site-packages (from -r requirements.txt (line 6)) (1.12.3)\n",
            "Requirement already satisfied: argon2-cffi==21.1.0 in /Users/malong/opt/anaconda3/envs/sem_eval/lib/python3.7/site-packages (from -r requirements.txt (line 7)) (21.1.0)\n",
            "Requirement already satisfied: async-timeout==4.0.1 in /Users/malong/opt/anaconda3/envs/sem_eval/lib/python3.7/site-packages (from -r requirements.txt (line 8)) (4.0.1)\n",
            "Requirement already satisfied: asynctest==0.13.0 in /Users/malong/opt/anaconda3/envs/sem_eval/lib/python3.7/site-packages (from -r requirements.txt (line 9)) (0.13.0)\n",
            "Requirement already satisfied: attrs==21.2.0 in /Users/malong/opt/anaconda3/envs/sem_eval/lib/python3.7/site-packages (from -r requirements.txt (line 10)) (21.2.0)\n",
            "Requirement already satisfied: backcall==0.2.0 in /Users/malong/opt/anaconda3/envs/sem_eval/lib/python3.7/site-packages (from -r requirements.txt (line 11)) (0.2.0)\n",
            "Requirement already satisfied: backports.csv==1.0.7 in /Users/malong/opt/anaconda3/envs/sem_eval/lib/python3.7/site-packages (from -r requirements.txt (line 12)) (1.0.7)\n",
            "Requirement already satisfied: base58==2.1.1 in /Users/malong/opt/anaconda3/envs/sem_eval/lib/python3.7/site-packages (from -r requirements.txt (line 13)) (2.1.1)\n",
            "Requirement already satisfied: beautifulsoup4==4.10.0 in /Users/malong/opt/anaconda3/envs/sem_eval/lib/python3.7/site-packages (from -r requirements.txt (line 14)) (4.10.0)\n",
            "Requirement already satisfied: bleach==4.1.0 in /Users/malong/opt/anaconda3/envs/sem_eval/lib/python3.7/site-packages (from -r requirements.txt (line 15)) (4.1.0)\n",
            "Requirement already satisfied: blis==0.7.5 in /Users/malong/opt/anaconda3/envs/sem_eval/lib/python3.7/site-packages (from -r requirements.txt (line 16)) (0.7.5)\n",
            "Requirement already satisfied: boto3==1.20.6 in /Users/malong/opt/anaconda3/envs/sem_eval/lib/python3.7/site-packages (from -r requirements.txt (line 17)) (1.20.6)\n",
            "Requirement already satisfied: botocore==1.23.6 in /Users/malong/opt/anaconda3/envs/sem_eval/lib/python3.7/site-packages (from -r requirements.txt (line 18)) (1.23.6)\n",
            "Requirement already satisfied: cached-path==0.3.2 in /Users/malong/opt/anaconda3/envs/sem_eval/lib/python3.7/site-packages (from -r requirements.txt (line 19)) (0.3.2)\n",
            "Requirement already satisfied: cached-property==1.5.2 in /Users/malong/opt/anaconda3/envs/sem_eval/lib/python3.7/site-packages (from -r requirements.txt (line 20)) (1.5.2)\n",
            "Requirement already satisfied: cachetools==4.2.4 in /Users/malong/opt/anaconda3/envs/sem_eval/lib/python3.7/site-packages (from -r requirements.txt (line 21)) (4.2.4)\n",
            "Requirement already satisfied: catalogue==2.0.6 in /Users/malong/opt/anaconda3/envs/sem_eval/lib/python3.7/site-packages (from -r requirements.txt (line 22)) (2.0.6)\n",
            "Requirement already satisfied: certifi==2021.10.8 in /Users/malong/opt/anaconda3/envs/sem_eval/lib/python3.7/site-packages (from -r requirements.txt (line 23)) (2021.10.8)\n",
            "Requirement already satisfied: cffi==1.15.0 in /Users/malong/opt/anaconda3/envs/sem_eval/lib/python3.7/site-packages (from -r requirements.txt (line 24)) (1.15.0)\n",
            "Requirement already satisfied: chardet==4.0.0 in /Users/malong/opt/anaconda3/envs/sem_eval/lib/python3.7/site-packages (from -r requirements.txt (line 25)) (4.0.0)\n",
            "Requirement already satisfied: charset-normalizer==2.0.7 in /Users/malong/opt/anaconda3/envs/sem_eval/lib/python3.7/site-packages (from -r requirements.txt (line 26)) (2.0.7)\n",
            "Requirement already satisfied: checklist==0.0.11 in /Users/malong/opt/anaconda3/envs/sem_eval/lib/python3.7/site-packages (from -r requirements.txt (line 27)) (0.0.11)\n",
            "Requirement already satisfied: cheroot==8.5.2 in /Users/malong/opt/anaconda3/envs/sem_eval/lib/python3.7/site-packages (from -r requirements.txt (line 28)) (8.5.2)\n",
            "Requirement already satisfied: CherryPy==18.6.1 in /Users/malong/opt/anaconda3/envs/sem_eval/lib/python3.7/site-packages (from -r requirements.txt (line 29)) (18.6.1)\n",
            "Requirement already satisfied: click==8.0.3 in /Users/malong/opt/anaconda3/envs/sem_eval/lib/python3.7/site-packages (from -r requirements.txt (line 30)) (8.0.3)\n",
            "Requirement already satisfied: configparser==5.1.0 in /Users/malong/opt/anaconda3/envs/sem_eval/lib/python3.7/site-packages (from -r requirements.txt (line 31)) (5.1.0)\n",
            "Requirement already satisfied: cryptography==35.0.0 in /Users/malong/opt/anaconda3/envs/sem_eval/lib/python3.7/site-packages (from -r requirements.txt (line 32)) (35.0.0)\n",
            "Requirement already satisfied: cymem==2.0.6 in /Users/malong/opt/anaconda3/envs/sem_eval/lib/python3.7/site-packages (from -r requirements.txt (line 33)) (2.0.6)\n",
            "Requirement already satisfied: datasets==1.15.1 in /Users/malong/opt/anaconda3/envs/sem_eval/lib/python3.7/site-packages (from -r requirements.txt (line 34)) (1.15.1)\n",
            "Requirement already satisfied: debugpy==1.5.1 in /Users/malong/opt/anaconda3/envs/sem_eval/lib/python3.7/site-packages (from -r requirements.txt (line 35)) (1.5.1)\n",
            "Requirement already satisfied: decorator==5.1.0 in /Users/malong/opt/anaconda3/envs/sem_eval/lib/python3.7/site-packages (from -r requirements.txt (line 36)) (5.1.0)\n",
            "Requirement already satisfied: defusedxml==0.7.1 in /Users/malong/opt/anaconda3/envs/sem_eval/lib/python3.7/site-packages (from -r requirements.txt (line 37)) (0.7.1)\n",
            "Requirement already satisfied: dill==0.3.4 in /Users/malong/opt/anaconda3/envs/sem_eval/lib/python3.7/site-packages (from -r requirements.txt (line 38)) (0.3.4)\n",
            "Requirement already satisfied: docker-pycreds==0.4.0 in /Users/malong/opt/anaconda3/envs/sem_eval/lib/python3.7/site-packages (from -r requirements.txt (line 39)) (0.4.0)\n",
            "Requirement already satisfied: entrypoints==0.3 in /Users/malong/opt/anaconda3/envs/sem_eval/lib/python3.7/site-packages (from -r requirements.txt (line 40)) (0.3)\n",
            "Requirement already satisfied: fairscale==0.4.0 in /Users/malong/opt/anaconda3/envs/sem_eval/lib/python3.7/site-packages (from -r requirements.txt (line 41)) (0.4.0)\n",
            "Requirement already satisfied: feedparser==6.0.8 in /Users/malong/opt/anaconda3/envs/sem_eval/lib/python3.7/site-packages (from -r requirements.txt (line 42)) (6.0.8)\n",
            "Requirement already satisfied: filelock==3.3.2 in /Users/malong/opt/anaconda3/envs/sem_eval/lib/python3.7/site-packages (from -r requirements.txt (line 43)) (3.3.2)\n",
            "Requirement already satisfied: frozenlist==1.2.0 in /Users/malong/opt/anaconda3/envs/sem_eval/lib/python3.7/site-packages (from -r requirements.txt (line 44)) (1.2.0)\n",
            "Requirement already satisfied: fsspec==2021.11.0 in /Users/malong/opt/anaconda3/envs/sem_eval/lib/python3.7/site-packages (from -r requirements.txt (line 45)) (2021.11.0)\n",
            "Requirement already satisfied: future==0.18.2 in /Users/malong/opt/anaconda3/envs/sem_eval/lib/python3.7/site-packages (from -r requirements.txt (line 46)) (0.18.2)\n",
            "Requirement already satisfied: gitdb==4.0.9 in /Users/malong/opt/anaconda3/envs/sem_eval/lib/python3.7/site-packages (from -r requirements.txt (line 47)) (4.0.9)\n",
            "Requirement already satisfied: GitPython==3.1.24 in /Users/malong/opt/anaconda3/envs/sem_eval/lib/python3.7/site-packages (from -r requirements.txt (line 48)) (3.1.24)\n",
            "Requirement already satisfied: google-api-core==2.2.2 in /Users/malong/opt/anaconda3/envs/sem_eval/lib/python3.7/site-packages (from -r requirements.txt (line 49)) (2.2.2)\n",
            "Requirement already satisfied: google-auth==2.3.3 in /Users/malong/opt/anaconda3/envs/sem_eval/lib/python3.7/site-packages (from -r requirements.txt (line 50)) (2.3.3)\n",
            "Requirement already satisfied: google-auth-oauthlib==0.4.6 in /Users/malong/opt/anaconda3/envs/sem_eval/lib/python3.7/site-packages (from -r requirements.txt (line 51)) (0.4.6)\n",
            "Requirement already satisfied: google-cloud-core==2.2.1 in /Users/malong/opt/anaconda3/envs/sem_eval/lib/python3.7/site-packages (from -r requirements.txt (line 52)) (2.2.1)\n",
            "Requirement already satisfied: google-cloud-storage==1.42.3 in /Users/malong/opt/anaconda3/envs/sem_eval/lib/python3.7/site-packages (from -r requirements.txt (line 53)) (1.42.3)\n",
            "Requirement already satisfied: google-crc32c==1.3.0 in /Users/malong/opt/anaconda3/envs/sem_eval/lib/python3.7/site-packages (from -r requirements.txt (line 54)) (1.3.0)\n",
            "Requirement already satisfied: google-resumable-media==2.1.0 in /Users/malong/opt/anaconda3/envs/sem_eval/lib/python3.7/site-packages (from -r requirements.txt (line 55)) (2.1.0)\n",
            "Requirement already satisfied: googleapis-common-protos==1.53.0 in /Users/malong/opt/anaconda3/envs/sem_eval/lib/python3.7/site-packages (from -r requirements.txt (line 56)) (1.53.0)\n",
            "Requirement already satisfied: grpcio==1.41.1 in /Users/malong/opt/anaconda3/envs/sem_eval/lib/python3.7/site-packages (from -r requirements.txt (line 57)) (1.41.1)\n",
            "Requirement already satisfied: h5py==3.5.0 in /Users/malong/opt/anaconda3/envs/sem_eval/lib/python3.7/site-packages (from -r requirements.txt (line 58)) (3.5.0)\n",
            "Requirement already satisfied: huggingface-hub==0.1.2 in /Users/malong/opt/anaconda3/envs/sem_eval/lib/python3.7/site-packages (from -r requirements.txt (line 59)) (0.1.2)\n",
            "Requirement already satisfied: idna==3.3 in /Users/malong/opt/anaconda3/envs/sem_eval/lib/python3.7/site-packages (from -r requirements.txt (line 60)) (3.3)\n",
            "Requirement already satisfied: importlib-metadata==4.8.2 in /Users/malong/opt/anaconda3/envs/sem_eval/lib/python3.7/site-packages (from -r requirements.txt (line 61)) (4.8.2)\n",
            "Requirement already satisfied: importlib-resources==5.4.0 in /Users/malong/opt/anaconda3/envs/sem_eval/lib/python3.7/site-packages (from -r requirements.txt (line 62)) (5.4.0)\n",
            "Requirement already satisfied: iniconfig==1.1.1 in /Users/malong/opt/anaconda3/envs/sem_eval/lib/python3.7/site-packages (from -r requirements.txt (line 63)) (1.1.1)\n",
            "Requirement already satisfied: ipykernel==6.5.0 in /Users/malong/opt/anaconda3/envs/sem_eval/lib/python3.7/site-packages (from -r requirements.txt (line 64)) (6.5.0)\n",
            "Requirement already satisfied: ipython==7.29.0 in /Users/malong/opt/anaconda3/envs/sem_eval/lib/python3.7/site-packages (from -r requirements.txt (line 65)) (7.29.0)\n",
            "Requirement already satisfied: ipython-genutils==0.2.0 in /Users/malong/opt/anaconda3/envs/sem_eval/lib/python3.7/site-packages (from -r requirements.txt (line 66)) (0.2.0)\n",
            "Requirement already satisfied: ipywidgets==7.6.5 in /Users/malong/opt/anaconda3/envs/sem_eval/lib/python3.7/site-packages (from -r requirements.txt (line 67)) (7.6.5)\n",
            "Requirement already satisfied: iso-639==0.4.5 in /Users/malong/opt/anaconda3/envs/sem_eval/lib/python3.7/site-packages (from -r requirements.txt (line 68)) (0.4.5)\n",
            "Requirement already satisfied: jaraco.classes==3.2.1 in /Users/malong/opt/anaconda3/envs/sem_eval/lib/python3.7/site-packages (from -r requirements.txt (line 69)) (3.2.1)\n",
            "Requirement already satisfied: jaraco.collections==3.4.0 in /Users/malong/opt/anaconda3/envs/sem_eval/lib/python3.7/site-packages (from -r requirements.txt (line 70)) (3.4.0)\n",
            "Requirement already satisfied: jaraco.functools==3.4.0 in /Users/malong/opt/anaconda3/envs/sem_eval/lib/python3.7/site-packages (from -r requirements.txt (line 71)) (3.4.0)\n",
            "Requirement already satisfied: jaraco.text==3.6.0 in /Users/malong/opt/anaconda3/envs/sem_eval/lib/python3.7/site-packages (from -r requirements.txt (line 72)) (3.6.0)\n",
            "Requirement already satisfied: jedi==0.18.0 in /Users/malong/opt/anaconda3/envs/sem_eval/lib/python3.7/site-packages (from -r requirements.txt (line 73)) (0.18.0)\n",
            "Requirement already satisfied: Jinja2==3.0.3 in /Users/malong/opt/anaconda3/envs/sem_eval/lib/python3.7/site-packages (from -r requirements.txt (line 74)) (3.0.3)\n",
            "Requirement already satisfied: jmespath==0.10.0 in /Users/malong/opt/anaconda3/envs/sem_eval/lib/python3.7/site-packages (from -r requirements.txt (line 75)) (0.10.0)\n",
            "Requirement already satisfied: joblib==1.1.0 in /Users/malong/opt/anaconda3/envs/sem_eval/lib/python3.7/site-packages (from -r requirements.txt (line 76)) (1.1.0)\n",
            "Requirement already satisfied: jsonnet==0.17.0 in /Users/malong/opt/anaconda3/envs/sem_eval/lib/python3.7/site-packages (from -r requirements.txt (line 77)) (0.17.0)\n",
            "Requirement already satisfied: jsonschema==4.2.1 in /Users/malong/opt/anaconda3/envs/sem_eval/lib/python3.7/site-packages (from -r requirements.txt (line 78)) (4.2.1)\n",
            "Requirement already satisfied: jupyter==1.0.0 in /Users/malong/opt/anaconda3/envs/sem_eval/lib/python3.7/site-packages (from -r requirements.txt (line 79)) (1.0.0)\n",
            "Requirement already satisfied: jupyter-client==7.0.6 in /Users/malong/opt/anaconda3/envs/sem_eval/lib/python3.7/site-packages (from -r requirements.txt (line 80)) (7.0.6)\n",
            "Requirement already satisfied: jupyter-console==6.4.0 in /Users/malong/opt/anaconda3/envs/sem_eval/lib/python3.7/site-packages (from -r requirements.txt (line 81)) (6.4.0)\n",
            "Requirement already satisfied: jupyter-core==4.9.1 in /Users/malong/opt/anaconda3/envs/sem_eval/lib/python3.7/site-packages (from -r requirements.txt (line 82)) (4.9.1)\n",
            "Requirement already satisfied: jupyterlab-pygments==0.1.2 in /Users/malong/opt/anaconda3/envs/sem_eval/lib/python3.7/site-packages (from -r requirements.txt (line 83)) (0.1.2)\n",
            "Requirement already satisfied: jupyterlab-widgets==1.0.2 in /Users/malong/opt/anaconda3/envs/sem_eval/lib/python3.7/site-packages (from -r requirements.txt (line 84)) (1.0.2)\n",
            "Requirement already satisfied: lmdb==1.2.1 in /Users/malong/opt/anaconda3/envs/sem_eval/lib/python3.7/site-packages (from -r requirements.txt (line 85)) (1.2.1)\n",
            "Requirement already satisfied: lxml==4.6.4 in /Users/malong/opt/anaconda3/envs/sem_eval/lib/python3.7/site-packages (from -r requirements.txt (line 86)) (4.6.4)\n",
            "Requirement already satisfied: Markdown==3.3.4 in /Users/malong/opt/anaconda3/envs/sem_eval/lib/python3.7/site-packages (from -r requirements.txt (line 87)) (3.3.4)\n",
            "Requirement already satisfied: MarkupSafe==2.0.1 in /Users/malong/opt/anaconda3/envs/sem_eval/lib/python3.7/site-packages (from -r requirements.txt (line 88)) (2.0.1)\n",
            "Requirement already satisfied: matplotlib-inline==0.1.3 in /Users/malong/opt/anaconda3/envs/sem_eval/lib/python3.7/site-packages (from -r requirements.txt (line 89)) (0.1.3)\n",
            "Requirement already satisfied: mistune==0.8.4 in /Users/malong/opt/anaconda3/envs/sem_eval/lib/python3.7/site-packages (from -r requirements.txt (line 90)) (0.8.4)\n",
            "Requirement already satisfied: more-itertools==8.11.0 in /Users/malong/opt/anaconda3/envs/sem_eval/lib/python3.7/site-packages (from -r requirements.txt (line 91)) (8.11.0)\n",
            "Requirement already satisfied: multidict==5.2.0 in /Users/malong/opt/anaconda3/envs/sem_eval/lib/python3.7/site-packages (from -r requirements.txt (line 92)) (5.2.0)\n",
            "Requirement already satisfied: multiprocess==0.70.12.2 in /Users/malong/opt/anaconda3/envs/sem_eval/lib/python3.7/site-packages (from -r requirements.txt (line 93)) (0.70.12.2)\n",
            "Requirement already satisfied: munch==2.5.0 in /Users/malong/opt/anaconda3/envs/sem_eval/lib/python3.7/site-packages (from -r requirements.txt (line 94)) (2.5.0)\n",
            "Requirement already satisfied: murmurhash==1.0.6 in /Users/malong/opt/anaconda3/envs/sem_eval/lib/python3.7/site-packages (from -r requirements.txt (line 95)) (1.0.6)\n",
            "Requirement already satisfied: nbclient==0.5.8 in /Users/malong/opt/anaconda3/envs/sem_eval/lib/python3.7/site-packages (from -r requirements.txt (line 96)) (0.5.8)\n",
            "Requirement already satisfied: nbconvert==6.3.0 in /Users/malong/opt/anaconda3/envs/sem_eval/lib/python3.7/site-packages (from -r requirements.txt (line 97)) (6.3.0)\n",
            "Requirement already satisfied: nbformat==5.1.3 in /Users/malong/opt/anaconda3/envs/sem_eval/lib/python3.7/site-packages (from -r requirements.txt (line 98)) (5.1.3)\n",
            "Requirement already satisfied: nest-asyncio==1.5.1 in /Users/malong/opt/anaconda3/envs/sem_eval/lib/python3.7/site-packages (from -r requirements.txt (line 99)) (1.5.1)\n",
            "Requirement already satisfied: nltk==3.6.5 in /Users/malong/opt/anaconda3/envs/sem_eval/lib/python3.7/site-packages (from -r requirements.txt (line 100)) (3.6.5)\n",
            "Requirement already satisfied: notebook==6.4.5 in /Users/malong/opt/anaconda3/envs/sem_eval/lib/python3.7/site-packages (from -r requirements.txt (line 101)) (6.4.5)\n",
            "Requirement already satisfied: numpy==1.21.4 in /Users/malong/opt/anaconda3/envs/sem_eval/lib/python3.7/site-packages (from -r requirements.txt (line 102)) (1.21.4)\n",
            "Requirement already satisfied: oauthlib==3.1.1 in /Users/malong/opt/anaconda3/envs/sem_eval/lib/python3.7/site-packages (from -r requirements.txt (line 103)) (3.1.1)\n",
            "Requirement already satisfied: overrides==3.1.0 in /Users/malong/opt/anaconda3/envs/sem_eval/lib/python3.7/site-packages (from -r requirements.txt (line 104)) (3.1.0)\n",
            "Requirement already satisfied: packaging==21.2 in /Users/malong/opt/anaconda3/envs/sem_eval/lib/python3.7/site-packages (from -r requirements.txt (line 105)) (21.2)\n",
            "Requirement already satisfied: pandas==1.3.4 in /Users/malong/opt/anaconda3/envs/sem_eval/lib/python3.7/site-packages (from -r requirements.txt (line 106)) (1.3.4)\n",
            "Requirement already satisfied: pandocfilters==1.5.0 in /Users/malong/opt/anaconda3/envs/sem_eval/lib/python3.7/site-packages (from -r requirements.txt (line 107)) (1.5.0)\n",
            "Requirement already satisfied: parso==0.8.2 in /Users/malong/opt/anaconda3/envs/sem_eval/lib/python3.7/site-packages (from -r requirements.txt (line 108)) (0.8.2)\n",
            "Requirement already satisfied: pathtools==0.1.2 in /Users/malong/opt/anaconda3/envs/sem_eval/lib/python3.7/site-packages (from -r requirements.txt (line 109)) (0.1.2)\n",
            "Requirement already satisfied: pathy==0.6.1 in /Users/malong/opt/anaconda3/envs/sem_eval/lib/python3.7/site-packages (from -r requirements.txt (line 110)) (0.6.1)\n",
            "Requirement already satisfied: patternfork-nosql==3.6 in /Users/malong/opt/anaconda3/envs/sem_eval/lib/python3.7/site-packages (from -r requirements.txt (line 111)) (3.6)\n",
            "Requirement already satisfied: pdfminer.six==20211012 in /Users/malong/opt/anaconda3/envs/sem_eval/lib/python3.7/site-packages (from -r requirements.txt (line 112)) (20211012)\n",
            "Requirement already satisfied: pexpect==4.8.0 in /Users/malong/opt/anaconda3/envs/sem_eval/lib/python3.7/site-packages (from -r requirements.txt (line 113)) (4.8.0)\n",
            "Requirement already satisfied: pickleshare==0.7.5 in /Users/malong/opt/anaconda3/envs/sem_eval/lib/python3.7/site-packages (from -r requirements.txt (line 114)) (0.7.5)\n",
            "Requirement already satisfied: Pillow==8.4.0 in /Users/malong/opt/anaconda3/envs/sem_eval/lib/python3.7/site-packages (from -r requirements.txt (line 115)) (8.4.0)\n",
            "Requirement already satisfied: pluggy==1.0.0 in /Users/malong/opt/anaconda3/envs/sem_eval/lib/python3.7/site-packages (from -r requirements.txt (line 116)) (1.0.0)\n",
            "Requirement already satisfied: portend==3.0.0 in /Users/malong/opt/anaconda3/envs/sem_eval/lib/python3.7/site-packages (from -r requirements.txt (line 117)) (3.0.0)\n",
            "Requirement already satisfied: preshed==3.0.6 in /Users/malong/opt/anaconda3/envs/sem_eval/lib/python3.7/site-packages (from -r requirements.txt (line 118)) (3.0.6)\n",
            "Requirement already satisfied: prometheus-client==0.12.0 in /Users/malong/opt/anaconda3/envs/sem_eval/lib/python3.7/site-packages (from -r requirements.txt (line 119)) (0.12.0)\n",
            "Requirement already satisfied: promise==2.3 in /Users/malong/opt/anaconda3/envs/sem_eval/lib/python3.7/site-packages (from -r requirements.txt (line 120)) (2.3)\n",
            "Requirement already satisfied: prompt-toolkit==3.0.22 in /Users/malong/opt/anaconda3/envs/sem_eval/lib/python3.7/site-packages (from -r requirements.txt (line 121)) (3.0.22)\n",
            "Requirement already satisfied: protobuf==3.19.1 in /Users/malong/opt/anaconda3/envs/sem_eval/lib/python3.7/site-packages (from -r requirements.txt (line 122)) (3.19.1)\n",
            "Requirement already satisfied: psutil==5.8.0 in /Users/malong/opt/anaconda3/envs/sem_eval/lib/python3.7/site-packages (from -r requirements.txt (line 123)) (5.8.0)\n",
            "Requirement already satisfied: ptyprocess==0.7.0 in /Users/malong/opt/anaconda3/envs/sem_eval/lib/python3.7/site-packages (from -r requirements.txt (line 124)) (0.7.0)\n",
            "Requirement already satisfied: py==1.11.0 in /Users/malong/opt/anaconda3/envs/sem_eval/lib/python3.7/site-packages (from -r requirements.txt (line 125)) (1.11.0)\n",
            "Requirement already satisfied: pyarrow==6.0.0 in /Users/malong/opt/anaconda3/envs/sem_eval/lib/python3.7/site-packages (from -r requirements.txt (line 126)) (6.0.0)\n",
            "Requirement already satisfied: pyasn1==0.4.8 in /Users/malong/opt/anaconda3/envs/sem_eval/lib/python3.7/site-packages (from -r requirements.txt (line 127)) (0.4.8)\n",
            "Requirement already satisfied: pyasn1-modules==0.2.8 in /Users/malong/opt/anaconda3/envs/sem_eval/lib/python3.7/site-packages (from -r requirements.txt (line 128)) (0.2.8)\n",
            "Requirement already satisfied: pycparser==2.21 in /Users/malong/opt/anaconda3/envs/sem_eval/lib/python3.7/site-packages (from -r requirements.txt (line 129)) (2.21)\n",
            "Requirement already satisfied: pydantic==1.8.2 in /Users/malong/opt/anaconda3/envs/sem_eval/lib/python3.7/site-packages (from -r requirements.txt (line 130)) (1.8.2)\n",
            "Requirement already satisfied: pyDeprecate==0.3.1 in /Users/malong/opt/anaconda3/envs/sem_eval/lib/python3.7/site-packages (from -r requirements.txt (line 131)) (0.3.1)\n",
            "Requirement already satisfied: Pygments==2.10.0 in /Users/malong/opt/anaconda3/envs/sem_eval/lib/python3.7/site-packages (from -r requirements.txt (line 132)) (2.10.0)\n",
            "Requirement already satisfied: pyparsing==2.4.7 in /Users/malong/opt/anaconda3/envs/sem_eval/lib/python3.7/site-packages (from -r requirements.txt (line 133)) (2.4.7)\n",
            "Requirement already satisfied: pyrsistent==0.18.0 in /Users/malong/opt/anaconda3/envs/sem_eval/lib/python3.7/site-packages (from -r requirements.txt (line 134)) (0.18.0)\n",
            "Requirement already satisfied: PySocks==1.7.1 in /Users/malong/opt/anaconda3/envs/sem_eval/lib/python3.7/site-packages (from -r requirements.txt (line 135)) (1.7.1)\n",
            "Requirement already satisfied: pytest==6.2.5 in /Users/malong/opt/anaconda3/envs/sem_eval/lib/python3.7/site-packages (from -r requirements.txt (line 136)) (6.2.5)\n",
            "Requirement already satisfied: python-dateutil==2.8.2 in /Users/malong/opt/anaconda3/envs/sem_eval/lib/python3.7/site-packages (from -r requirements.txt (line 137)) (2.8.2)\n",
            "Requirement already satisfied: python-docx==0.8.11 in /Users/malong/opt/anaconda3/envs/sem_eval/lib/python3.7/site-packages (from -r requirements.txt (line 138)) (0.8.11)\n",
            "Requirement already satisfied: pytorch-lightning==1.5.1 in /Users/malong/opt/anaconda3/envs/sem_eval/lib/python3.7/site-packages (from -r requirements.txt (line 139)) (1.5.1)\n",
            "Requirement already satisfied: pytz==2021.3 in /Users/malong/opt/anaconda3/envs/sem_eval/lib/python3.7/site-packages (from -r requirements.txt (line 140)) (2021.3)\n",
            "Requirement already satisfied: PyYAML==6.0 in /Users/malong/opt/anaconda3/envs/sem_eval/lib/python3.7/site-packages (from -r requirements.txt (line 141)) (6.0)\n",
            "Requirement already satisfied: pyzmq==22.3.0 in /Users/malong/opt/anaconda3/envs/sem_eval/lib/python3.7/site-packages (from -r requirements.txt (line 142)) (22.3.0)\n",
            "Requirement already satisfied: qtconsole==5.2.0 in /Users/malong/opt/anaconda3/envs/sem_eval/lib/python3.7/site-packages (from -r requirements.txt (line 143)) (5.2.0)\n",
            "Requirement already satisfied: QtPy==1.11.2 in /Users/malong/opt/anaconda3/envs/sem_eval/lib/python3.7/site-packages (from -r requirements.txt (line 144)) (1.11.2)\n",
            "Requirement already satisfied: regex==2021.11.10 in /Users/malong/opt/anaconda3/envs/sem_eval/lib/python3.7/site-packages (from -r requirements.txt (line 145)) (2021.11.10)\n",
            "Requirement already satisfied: requests==2.26.0 in /Users/malong/opt/anaconda3/envs/sem_eval/lib/python3.7/site-packages (from -r requirements.txt (line 146)) (2.26.0)\n",
            "Requirement already satisfied: requests-oauthlib==1.3.0 in /Users/malong/opt/anaconda3/envs/sem_eval/lib/python3.7/site-packages (from -r requirements.txt (line 147)) (1.3.0)\n",
            "Requirement already satisfied: rsa==4.7.2 in /Users/malong/opt/anaconda3/envs/sem_eval/lib/python3.7/site-packages (from -r requirements.txt (line 148)) (4.7.2)\n",
            "Requirement already satisfied: s3transfer==0.5.0 in /Users/malong/opt/anaconda3/envs/sem_eval/lib/python3.7/site-packages (from -r requirements.txt (line 149)) (0.5.0)\n",
            "Requirement already satisfied: sacremoses==0.0.46 in /Users/malong/opt/anaconda3/envs/sem_eval/lib/python3.7/site-packages (from -r requirements.txt (line 150)) (0.0.46)\n",
            "Requirement already satisfied: scikit-learn==1.0.1 in /Users/malong/opt/anaconda3/envs/sem_eval/lib/python3.7/site-packages (from -r requirements.txt (line 151)) (1.0.1)\n",
            "Requirement already satisfied: scipy==1.7.2 in /Users/malong/opt/anaconda3/envs/sem_eval/lib/python3.7/site-packages (from -r requirements.txt (line 152)) (1.7.2)\n",
            "Requirement already satisfied: Send2Trash==1.8.0 in /Users/malong/opt/anaconda3/envs/sem_eval/lib/python3.7/site-packages (from -r requirements.txt (line 153)) (1.8.0)\n",
            "Requirement already satisfied: sentencepiece==0.1.96 in /Users/malong/opt/anaconda3/envs/sem_eval/lib/python3.7/site-packages (from -r requirements.txt (line 154)) (0.1.96)\n",
            "Requirement already satisfied: sentry-sdk==1.4.3 in /Users/malong/opt/anaconda3/envs/sem_eval/lib/python3.7/site-packages (from -r requirements.txt (line 155)) (1.4.3)\n",
            "Requirement already satisfied: sgmllib3k==1.0.0 in /Users/malong/opt/anaconda3/envs/sem_eval/lib/python3.7/site-packages (from -r requirements.txt (line 156)) (1.0.0)\n",
            "Requirement already satisfied: shortuuid==1.0.8 in /Users/malong/opt/anaconda3/envs/sem_eval/lib/python3.7/site-packages (from -r requirements.txt (line 157)) (1.0.8)\n",
            "Requirement already satisfied: six==1.16.0 in /Users/malong/opt/anaconda3/envs/sem_eval/lib/python3.7/site-packages (from -r requirements.txt (line 158)) (1.16.0)\n",
            "Requirement already satisfied: smart-open==5.2.1 in /Users/malong/opt/anaconda3/envs/sem_eval/lib/python3.7/site-packages (from -r requirements.txt (line 159)) (5.2.1)\n",
            "Requirement already satisfied: smmap==5.0.0 in /Users/malong/opt/anaconda3/envs/sem_eval/lib/python3.7/site-packages (from -r requirements.txt (line 160)) (5.0.0)\n",
            "Requirement already satisfied: soupsieve==2.3.1 in /Users/malong/opt/anaconda3/envs/sem_eval/lib/python3.7/site-packages (from -r requirements.txt (line 161)) (2.3.1)\n",
            "Requirement already satisfied: spacy==3.1.4 in /Users/malong/opt/anaconda3/envs/sem_eval/lib/python3.7/site-packages (from -r requirements.txt (line 162)) (3.1.4)\n",
            "Requirement already satisfied: spacy-legacy==3.0.8 in /Users/malong/opt/anaconda3/envs/sem_eval/lib/python3.7/site-packages (from -r requirements.txt (line 163)) (3.0.8)\n",
            "Requirement already satisfied: sqlitedict==1.7.0 in /Users/malong/opt/anaconda3/envs/sem_eval/lib/python3.7/site-packages (from -r requirements.txt (line 164)) (1.7.0)\n",
            "Requirement already satisfied: srsly==2.4.2 in /Users/malong/opt/anaconda3/envs/sem_eval/lib/python3.7/site-packages (from -r requirements.txt (line 165)) (2.4.2)\n",
            "Requirement already satisfied: subprocess32==3.5.4 in /Users/malong/opt/anaconda3/envs/sem_eval/lib/python3.7/site-packages (from -r requirements.txt (line 166)) (3.5.4)\n",
            "Requirement already satisfied: tempora==4.1.2 in /Users/malong/opt/anaconda3/envs/sem_eval/lib/python3.7/site-packages (from -r requirements.txt (line 167)) (4.1.2)\n",
            "Requirement already satisfied: tensorboard==2.7.0 in /Users/malong/opt/anaconda3/envs/sem_eval/lib/python3.7/site-packages (from -r requirements.txt (line 168)) (2.7.0)\n",
            "Requirement already satisfied: tensorboard-data-server==0.6.1 in /Users/malong/opt/anaconda3/envs/sem_eval/lib/python3.7/site-packages (from -r requirements.txt (line 169)) (0.6.1)\n",
            "Requirement already satisfied: tensorboard-plugin-wit==1.8.0 in /Users/malong/opt/anaconda3/envs/sem_eval/lib/python3.7/site-packages (from -r requirements.txt (line 170)) (1.8.0)\n",
            "Requirement already satisfied: tensorboardX==2.4 in /Users/malong/opt/anaconda3/envs/sem_eval/lib/python3.7/site-packages (from -r requirements.txt (line 171)) (2.4)\n",
            "Requirement already satisfied: termcolor==1.1.0 in /Users/malong/opt/anaconda3/envs/sem_eval/lib/python3.7/site-packages (from -r requirements.txt (line 172)) (1.1.0)\n",
            "Requirement already satisfied: terminado==0.12.1 in /Users/malong/opt/anaconda3/envs/sem_eval/lib/python3.7/site-packages (from -r requirements.txt (line 173)) (0.12.1)\n",
            "Requirement already satisfied: testpath==0.5.0 in /Users/malong/opt/anaconda3/envs/sem_eval/lib/python3.7/site-packages (from -r requirements.txt (line 174)) (0.5.0)\n",
            "Requirement already satisfied: thinc==8.0.13 in /Users/malong/opt/anaconda3/envs/sem_eval/lib/python3.7/site-packages (from -r requirements.txt (line 175)) (8.0.13)\n",
            "Requirement already satisfied: threadpoolctl==3.0.0 in /Users/malong/opt/anaconda3/envs/sem_eval/lib/python3.7/site-packages (from -r requirements.txt (line 176)) (3.0.0)\n",
            "Requirement already satisfied: tokenizers==0.10.3 in /Users/malong/opt/anaconda3/envs/sem_eval/lib/python3.7/site-packages (from -r requirements.txt (line 177)) (0.10.3)\n",
            "Requirement already satisfied: toml==0.10.2 in /Users/malong/opt/anaconda3/envs/sem_eval/lib/python3.7/site-packages (from -r requirements.txt (line 178)) (0.10.2)\n",
            "Requirement already satisfied: torch==1.10.0 in /Users/malong/opt/anaconda3/envs/sem_eval/lib/python3.7/site-packages (from -r requirements.txt (line 179)) (1.10.0)\n",
            "Requirement already satisfied: torchmetrics==0.6.0 in /Users/malong/opt/anaconda3/envs/sem_eval/lib/python3.7/site-packages (from -r requirements.txt (line 180)) (0.6.0)\n",
            "Requirement already satisfied: torchvision==0.11.1 in /Users/malong/opt/anaconda3/envs/sem_eval/lib/python3.7/site-packages (from -r requirements.txt (line 181)) (0.11.1)\n",
            "Requirement already satisfied: tornado==6.1 in /Users/malong/opt/anaconda3/envs/sem_eval/lib/python3.7/site-packages (from -r requirements.txt (line 182)) (6.1)\n",
            "Requirement already satisfied: tqdm==4.62.3 in /Users/malong/opt/anaconda3/envs/sem_eval/lib/python3.7/site-packages (from -r requirements.txt (line 183)) (4.62.3)\n",
            "Requirement already satisfied: traitlets==5.1.1 in /Users/malong/opt/anaconda3/envs/sem_eval/lib/python3.7/site-packages (from -r requirements.txt (line 184)) (5.1.1)\n",
            "Requirement already satisfied: transformers==4.12.3 in /Users/malong/opt/anaconda3/envs/sem_eval/lib/python3.7/site-packages (from -r requirements.txt (line 185)) (4.12.3)\n",
            "Requirement already satisfied: typer==0.4.0 in /Users/malong/opt/anaconda3/envs/sem_eval/lib/python3.7/site-packages (from -r requirements.txt (line 186)) (0.4.0)\n",
            "Requirement already satisfied: typing-extensions==3.10.0.2 in /Users/malong/opt/anaconda3/envs/sem_eval/lib/python3.7/site-packages (from -r requirements.txt (line 187)) (3.10.0.2)\n",
            "Requirement already satisfied: urllib3==1.26.7 in /Users/malong/opt/anaconda3/envs/sem_eval/lib/python3.7/site-packages (from -r requirements.txt (line 188)) (1.26.7)\n",
            "Requirement already satisfied: wandb==0.12.6 in /Users/malong/opt/anaconda3/envs/sem_eval/lib/python3.7/site-packages (from -r requirements.txt (line 189)) (0.12.6)\n",
            "Requirement already satisfied: wasabi==0.8.2 in /Users/malong/opt/anaconda3/envs/sem_eval/lib/python3.7/site-packages (from -r requirements.txt (line 190)) (0.8.2)\n",
            "Requirement already satisfied: wcwidth==0.2.5 in /Users/malong/opt/anaconda3/envs/sem_eval/lib/python3.7/site-packages (from -r requirements.txt (line 191)) (0.2.5)\n",
            "Requirement already satisfied: webencodings==0.5.1 in /Users/malong/opt/anaconda3/envs/sem_eval/lib/python3.7/site-packages (from -r requirements.txt (line 192)) (0.5.1)\n",
            "Requirement already satisfied: Werkzeug==2.0.2 in /Users/malong/opt/anaconda3/envs/sem_eval/lib/python3.7/site-packages (from -r requirements.txt (line 193)) (2.0.2)\n",
            "Requirement already satisfied: widgetsnbextension==3.5.2 in /Users/malong/opt/anaconda3/envs/sem_eval/lib/python3.7/site-packages (from -r requirements.txt (line 194)) (3.5.2)\n",
            "Requirement already satisfied: xxhash==2.0.2 in /Users/malong/opt/anaconda3/envs/sem_eval/lib/python3.7/site-packages (from -r requirements.txt (line 195)) (2.0.2)\n",
            "Requirement already satisfied: yarl==1.7.2 in /Users/malong/opt/anaconda3/envs/sem_eval/lib/python3.7/site-packages (from -r requirements.txt (line 196)) (1.7.2)\n",
            "Requirement already satisfied: yaspin==2.1.0 in /Users/malong/opt/anaconda3/envs/sem_eval/lib/python3.7/site-packages (from -r requirements.txt (line 197)) (2.1.0)\n",
            "Requirement already satisfied: zc.lockfile==2.0 in /Users/malong/opt/anaconda3/envs/sem_eval/lib/python3.7/site-packages (from -r requirements.txt (line 198)) (2.0)\n",
            "Requirement already satisfied: zipp==3.6.0 in /Users/malong/opt/anaconda3/envs/sem_eval/lib/python3.7/site-packages (from -r requirements.txt (line 199)) (3.6.0)\n",
            "Requirement already satisfied: setuptools>=40.3.0 in /Users/malong/opt/anaconda3/envs/sem_eval/lib/python3.7/site-packages (from google-api-core==2.2.2->-r requirements.txt (line 49)) (58.0.4)\n",
            "Requirement already satisfied: wheel>=0.26 in /Users/malong/opt/anaconda3/envs/sem_eval/lib/python3.7/site-packages (from tensorboard==2.7.0->-r requirements.txt (line 168)) (0.37.0)\n"
          ]
        }
      ],
      "source": [
        "import os\n",
        "base_dir = \"/content/drive/MyDrive/semeval2022\"\n",
        "if not os.path.exists(base_dir):\n",
        "  !pip install -r requirements.txt\n",
        "  base_dir = \"\"\n",
        "else:\n",
        "  !pip install -r /content/drive/MyDrive/semeval2022/requirements.txt\n",
        "  !cp -rf /content/drive/MyDrive/semeval2022/*.py . \n",
        "  !cp -rf /content/drive/MyDrive/semeval2022/utils .\n",
        "  !cp -rf /content/drive/MyDrive/semeval2022/model ."
      ]
    },
    {
      "cell_type": "code",
      "execution_count": 18,
      "metadata": {
        "colab": {
          "base_uri": "https://localhost:8080/"
        },
        "id": "nqi1KLDUaXmS",
        "outputId": "1ade167d-8526-4235-8974-b64e3f36faf2"
      },
      "outputs": [
        {
          "name": "stdout",
          "output_type": "stream",
          "text": [
            "Drive already mounted at /content/drive; to attempt to forcibly remount, call drive.mount(\"/content/drive\", force_remount=True).\n"
          ]
        }
      ],
      "source": [
        "from google.colab import drive\n",
        "drive.mount('/content/drive')"
      ]
    },
    {
      "cell_type": "code",
      "execution_count": 24,
      "metadata": {
        "colab": {
          "base_uri": "https://localhost:8080/",
          "height": 537
        },
        "id": "fOPX9JoyaPcY",
        "outputId": "5c6fe3f4-5332-47ba-faa6-31860ea8f815"
      },
      "outputs": [
        {
          "ename": "ImportError",
          "evalue": "ignored",
          "output_type": "error",
          "traceback": [
            "\u001b[0;31m---------------------------------------------------------------------------\u001b[0m",
            "\u001b[0;31mImportError\u001b[0m                               Traceback (most recent call last)",
            "\u001b[0;32m<ipython-input-24-57e711dc2b51>\u001b[0m in \u001b[0;36m<module>\u001b[0;34m()\u001b[0m\n\u001b[1;32m      1\u001b[0m \u001b[0;31m# prepare data\u001b[0m\u001b[0;34m\u001b[0m\u001b[0;34m\u001b[0m\u001b[0;34m\u001b[0m\u001b[0m\n\u001b[0;32m----> 2\u001b[0;31m \u001b[0;32mfrom\u001b[0m \u001b[0mutils\u001b[0m\u001b[0;34m.\u001b[0m\u001b[0mutil\u001b[0m \u001b[0;32mimport\u001b[0m \u001b[0mwnut_iob\u001b[0m\u001b[0;34m\u001b[0m\u001b[0;34m\u001b[0m\u001b[0m\n\u001b[0m\u001b[1;32m      3\u001b[0m \u001b[0;32mimport\u001b[0m \u001b[0mos\u001b[0m\u001b[0;34m\u001b[0m\u001b[0;34m\u001b[0m\u001b[0m\n\u001b[1;32m      4\u001b[0m \u001b[0;32mfrom\u001b[0m \u001b[0;34m.\u001b[0m\u001b[0mutils\u001b[0m\u001b[0;34m.\u001b[0m\u001b[0mutil\u001b[0m \u001b[0;32mimport\u001b[0m \u001b[0mget_reader\u001b[0m\u001b[0;34m,\u001b[0m \u001b[0mtrain_model\u001b[0m\u001b[0;34m,\u001b[0m \u001b[0mcreate_model\u001b[0m\u001b[0;34m,\u001b[0m \u001b[0msave_model\u001b[0m\u001b[0;34m,\u001b[0m \u001b[0mparse_args\u001b[0m\u001b[0;34m,\u001b[0m \u001b[0mget_tagset\u001b[0m\u001b[0;34m\u001b[0m\u001b[0;34m\u001b[0m\u001b[0m\n\u001b[1;32m      5\u001b[0m \u001b[0mtrain_file\u001b[0m \u001b[0;34m=\u001b[0m \u001b[0mos\u001b[0m\u001b[0;34m.\u001b[0m\u001b[0mpath\u001b[0m\u001b[0;34m.\u001b[0m\u001b[0mjoin\u001b[0m\u001b[0;34m(\u001b[0m\u001b[0mbase_dir\u001b[0m\u001b[0;34m,\u001b[0m \u001b[0;34m\"training_data/EN-English/en_train.conll\"\u001b[0m\u001b[0;34m)\u001b[0m\u001b[0;34m\u001b[0m\u001b[0;34m\u001b[0m\u001b[0m\n",
            "\u001b[0;32m/content/utils/util.py\u001b[0m in \u001b[0;36m<module>\u001b[0;34m()\u001b[0m\n\u001b[1;32m     11\u001b[0m \u001b[0;34m\u001b[0m\u001b[0m\n\u001b[1;32m     12\u001b[0m \u001b[0;32mfrom\u001b[0m \u001b[0mlog\u001b[0m \u001b[0;32mimport\u001b[0m \u001b[0mlogger\u001b[0m\u001b[0;34m\u001b[0m\u001b[0;34m\u001b[0m\u001b[0m\n\u001b[0;32m---> 13\u001b[0;31m \u001b[0;32mfrom\u001b[0m \u001b[0mmodel\u001b[0m\u001b[0;34m.\u001b[0m\u001b[0mner_model\u001b[0m \u001b[0;32mimport\u001b[0m \u001b[0mNERBaseAnnotator\u001b[0m\u001b[0;34m\u001b[0m\u001b[0;34m\u001b[0m\u001b[0m\n\u001b[0m\u001b[1;32m     14\u001b[0m \u001b[0;32mfrom\u001b[0m \u001b[0mutils\u001b[0m\u001b[0;34m.\u001b[0m\u001b[0mreader\u001b[0m \u001b[0;32mimport\u001b[0m \u001b[0mCoNLLReader\u001b[0m\u001b[0;34m\u001b[0m\u001b[0;34m\u001b[0m\u001b[0m\n\u001b[1;32m     15\u001b[0m \u001b[0;34m\u001b[0m\u001b[0m\n",
            "\u001b[0;32m/content/model/ner_model.py\u001b[0m in \u001b[0;36m<module>\u001b[0;34m()\u001b[0m\n\u001b[1;32m      8\u001b[0m \u001b[0;32mimport\u001b[0m \u001b[0mnumpy\u001b[0m \u001b[0;32mas\u001b[0m \u001b[0mnp\u001b[0m\u001b[0;34m\u001b[0m\u001b[0;34m\u001b[0m\u001b[0m\n\u001b[1;32m      9\u001b[0m \u001b[0;34m\u001b[0m\u001b[0m\n\u001b[0;32m---> 10\u001b[0;31m \u001b[0;32mfrom\u001b[0m \u001b[0mallennlp\u001b[0m\u001b[0;34m.\u001b[0m\u001b[0mmodules\u001b[0m \u001b[0;32mimport\u001b[0m \u001b[0mConditionalRandomField\u001b[0m\u001b[0;34m\u001b[0m\u001b[0;34m\u001b[0m\u001b[0m\n\u001b[0m\u001b[1;32m     11\u001b[0m \u001b[0;32mfrom\u001b[0m \u001b[0mallennlp\u001b[0m\u001b[0;34m.\u001b[0m\u001b[0mmodules\u001b[0m\u001b[0;34m.\u001b[0m\u001b[0mconditional_random_field\u001b[0m \u001b[0;32mimport\u001b[0m \u001b[0mallowed_transitions\u001b[0m\u001b[0;34m\u001b[0m\u001b[0;34m\u001b[0m\u001b[0m\n\u001b[1;32m     12\u001b[0m \u001b[0;32mfrom\u001b[0m \u001b[0mtorch\u001b[0m \u001b[0;32mimport\u001b[0m \u001b[0mnn\u001b[0m\u001b[0;34m\u001b[0m\u001b[0;34m\u001b[0m\u001b[0m\n",
            "\u001b[0;32m/usr/local/lib/python3.7/dist-packages/allennlp/modules/__init__.py\u001b[0m in \u001b[0;36m<module>\u001b[0;34m()\u001b[0m\n\u001b[1;32m      5\u001b[0m \"\"\"\n\u001b[1;32m      6\u001b[0m \u001b[0;34m\u001b[0m\u001b[0m\n\u001b[0;32m----> 7\u001b[0;31m \u001b[0;32mfrom\u001b[0m \u001b[0mallennlp\u001b[0m\u001b[0;34m.\u001b[0m\u001b[0mmodules\u001b[0m\u001b[0;34m.\u001b[0m\u001b[0mattention\u001b[0m \u001b[0;32mimport\u001b[0m \u001b[0mAttention\u001b[0m\u001b[0;34m\u001b[0m\u001b[0;34m\u001b[0m\u001b[0m\n\u001b[0m\u001b[1;32m      8\u001b[0m \u001b[0;32mfrom\u001b[0m \u001b[0mallennlp\u001b[0m\u001b[0;34m.\u001b[0m\u001b[0mmodules\u001b[0m\u001b[0;34m.\u001b[0m\u001b[0mbackbones\u001b[0m \u001b[0;32mimport\u001b[0m \u001b[0mBackbone\u001b[0m\u001b[0;34m\u001b[0m\u001b[0;34m\u001b[0m\u001b[0m\n\u001b[1;32m      9\u001b[0m \u001b[0;32mfrom\u001b[0m \u001b[0mallennlp\u001b[0m\u001b[0;34m.\u001b[0m\u001b[0mmodules\u001b[0m\u001b[0;34m.\u001b[0m\u001b[0mbimpm_matching\u001b[0m \u001b[0;32mimport\u001b[0m \u001b[0mBiMpmMatching\u001b[0m\u001b[0;34m\u001b[0m\u001b[0;34m\u001b[0m\u001b[0m\n",
            "\u001b[0;32m/usr/local/lib/python3.7/dist-packages/allennlp/modules/attention/__init__.py\u001b[0m in \u001b[0;36m<module>\u001b[0;34m()\u001b[0m\n\u001b[0;32m----> 1\u001b[0;31m \u001b[0;32mfrom\u001b[0m \u001b[0mallennlp\u001b[0m\u001b[0;34m.\u001b[0m\u001b[0mmodules\u001b[0m\u001b[0;34m.\u001b[0m\u001b[0mattention\u001b[0m\u001b[0;34m.\u001b[0m\u001b[0mattention\u001b[0m \u001b[0;32mimport\u001b[0m \u001b[0mAttention\u001b[0m\u001b[0;34m\u001b[0m\u001b[0;34m\u001b[0m\u001b[0m\n\u001b[0m\u001b[1;32m      2\u001b[0m \u001b[0;32mfrom\u001b[0m \u001b[0mallennlp\u001b[0m\u001b[0;34m.\u001b[0m\u001b[0mmodules\u001b[0m\u001b[0;34m.\u001b[0m\u001b[0mattention\u001b[0m\u001b[0;34m.\u001b[0m\u001b[0mbilinear_attention\u001b[0m \u001b[0;32mimport\u001b[0m \u001b[0mBilinearAttention\u001b[0m\u001b[0;34m\u001b[0m\u001b[0;34m\u001b[0m\u001b[0m\n\u001b[1;32m      3\u001b[0m \u001b[0;32mfrom\u001b[0m \u001b[0mallennlp\u001b[0m\u001b[0;34m.\u001b[0m\u001b[0mmodules\u001b[0m\u001b[0;34m.\u001b[0m\u001b[0mattention\u001b[0m\u001b[0;34m.\u001b[0m\u001b[0madditive_attention\u001b[0m \u001b[0;32mimport\u001b[0m \u001b[0mAdditiveAttention\u001b[0m\u001b[0;34m\u001b[0m\u001b[0;34m\u001b[0m\u001b[0m\n\u001b[1;32m      4\u001b[0m \u001b[0;32mfrom\u001b[0m \u001b[0mallennlp\u001b[0m\u001b[0;34m.\u001b[0m\u001b[0mmodules\u001b[0m\u001b[0;34m.\u001b[0m\u001b[0mattention\u001b[0m\u001b[0;34m.\u001b[0m\u001b[0mcosine_attention\u001b[0m \u001b[0;32mimport\u001b[0m \u001b[0mCosineAttention\u001b[0m\u001b[0;34m\u001b[0m\u001b[0;34m\u001b[0m\u001b[0m\n\u001b[1;32m      5\u001b[0m \u001b[0;32mfrom\u001b[0m \u001b[0mallennlp\u001b[0m\u001b[0;34m.\u001b[0m\u001b[0mmodules\u001b[0m\u001b[0;34m.\u001b[0m\u001b[0mattention\u001b[0m\u001b[0;34m.\u001b[0m\u001b[0mdot_product_attention\u001b[0m \u001b[0;32mimport\u001b[0m \u001b[0mDotProductAttention\u001b[0m\u001b[0;34m\u001b[0m\u001b[0;34m\u001b[0m\u001b[0m\n",
            "\u001b[0;32m/usr/local/lib/python3.7/dist-packages/allennlp/modules/attention/attention.py\u001b[0m in \u001b[0;36m<module>\u001b[0;34m()\u001b[0m\n\u001b[1;32m      7\u001b[0m \u001b[0;34m\u001b[0m\u001b[0m\n\u001b[1;32m      8\u001b[0m \u001b[0;32mfrom\u001b[0m \u001b[0moverrides\u001b[0m \u001b[0;32mimport\u001b[0m \u001b[0moverrides\u001b[0m\u001b[0;34m\u001b[0m\u001b[0;34m\u001b[0m\u001b[0m\n\u001b[0;32m----> 9\u001b[0;31m \u001b[0;32mfrom\u001b[0m \u001b[0mallennlp\u001b[0m\u001b[0;34m.\u001b[0m\u001b[0mcommon\u001b[0m\u001b[0;34m.\u001b[0m\u001b[0mregistrable\u001b[0m \u001b[0;32mimport\u001b[0m \u001b[0mRegistrable\u001b[0m\u001b[0;34m\u001b[0m\u001b[0;34m\u001b[0m\u001b[0m\n\u001b[0m\u001b[1;32m     10\u001b[0m \u001b[0;32mfrom\u001b[0m \u001b[0mallennlp\u001b[0m\u001b[0;34m.\u001b[0m\u001b[0mnn\u001b[0m\u001b[0;34m.\u001b[0m\u001b[0mutil\u001b[0m \u001b[0;32mimport\u001b[0m \u001b[0mmasked_softmax\u001b[0m\u001b[0;34m\u001b[0m\u001b[0;34m\u001b[0m\u001b[0m\n\u001b[1;32m     11\u001b[0m \u001b[0;34m\u001b[0m\u001b[0m\n",
            "\u001b[0;32m/usr/local/lib/python3.7/dist-packages/allennlp/common/__init__.py\u001b[0m in \u001b[0;36m<module>\u001b[0;34m()\u001b[0m\n\u001b[0;32m----> 1\u001b[0;31m \u001b[0;32mfrom\u001b[0m \u001b[0mallennlp\u001b[0m\u001b[0;34m.\u001b[0m\u001b[0mcommon\u001b[0m\u001b[0;34m.\u001b[0m\u001b[0mfrom_params\u001b[0m \u001b[0;32mimport\u001b[0m \u001b[0mFromParams\u001b[0m\u001b[0;34m\u001b[0m\u001b[0;34m\u001b[0m\u001b[0m\n\u001b[0m\u001b[1;32m      2\u001b[0m \u001b[0;32mfrom\u001b[0m \u001b[0mallennlp\u001b[0m\u001b[0;34m.\u001b[0m\u001b[0mcommon\u001b[0m\u001b[0;34m.\u001b[0m\u001b[0mlazy\u001b[0m \u001b[0;32mimport\u001b[0m \u001b[0mLazy\u001b[0m\u001b[0;34m\u001b[0m\u001b[0;34m\u001b[0m\u001b[0m\n\u001b[1;32m      3\u001b[0m \u001b[0;32mfrom\u001b[0m \u001b[0mallennlp\u001b[0m\u001b[0;34m.\u001b[0m\u001b[0mcommon\u001b[0m\u001b[0;34m.\u001b[0m\u001b[0mparams\u001b[0m \u001b[0;32mimport\u001b[0m \u001b[0mParams\u001b[0m\u001b[0;34m\u001b[0m\u001b[0;34m\u001b[0m\u001b[0m\n\u001b[1;32m      4\u001b[0m \u001b[0;32mfrom\u001b[0m \u001b[0mallennlp\u001b[0m\u001b[0;34m.\u001b[0m\u001b[0mcommon\u001b[0m\u001b[0;34m.\u001b[0m\u001b[0mregistrable\u001b[0m \u001b[0;32mimport\u001b[0m \u001b[0mRegistrable\u001b[0m\u001b[0;34m\u001b[0m\u001b[0;34m\u001b[0m\u001b[0m\n\u001b[1;32m      5\u001b[0m \u001b[0;32mfrom\u001b[0m \u001b[0mallennlp\u001b[0m\u001b[0;34m.\u001b[0m\u001b[0mcommon\u001b[0m\u001b[0;34m.\u001b[0m\u001b[0mtqdm\u001b[0m \u001b[0;32mimport\u001b[0m \u001b[0mTqdm\u001b[0m\u001b[0;34m\u001b[0m\u001b[0;34m\u001b[0m\u001b[0m\n",
            "\u001b[0;32m/usr/local/lib/python3.7/dist-packages/allennlp/common/from_params.py\u001b[0m in \u001b[0;36m<module>\u001b[0;34m()\u001b[0m\n\u001b[1;32m     22\u001b[0m \u001b[0;32mfrom\u001b[0m \u001b[0mallennlp\u001b[0m\u001b[0;34m.\u001b[0m\u001b[0mcommon\u001b[0m\u001b[0;34m.\u001b[0m\u001b[0mchecks\u001b[0m \u001b[0;32mimport\u001b[0m \u001b[0mConfigurationError\u001b[0m\u001b[0;34m\u001b[0m\u001b[0;34m\u001b[0m\u001b[0m\n\u001b[1;32m     23\u001b[0m \u001b[0;32mfrom\u001b[0m \u001b[0mallennlp\u001b[0m\u001b[0;34m.\u001b[0m\u001b[0mcommon\u001b[0m\u001b[0;34m.\u001b[0m\u001b[0mdet_hash\u001b[0m \u001b[0;32mimport\u001b[0m \u001b[0mCustomDetHash\u001b[0m\u001b[0;34m\u001b[0m\u001b[0;34m\u001b[0m\u001b[0m\n\u001b[0;32m---> 24\u001b[0;31m \u001b[0;32mfrom\u001b[0m \u001b[0mallennlp\u001b[0m\u001b[0;34m.\u001b[0m\u001b[0mcommon\u001b[0m\u001b[0;34m.\u001b[0m\u001b[0mlazy\u001b[0m \u001b[0;32mimport\u001b[0m \u001b[0mLazy\u001b[0m\u001b[0;34m\u001b[0m\u001b[0;34m\u001b[0m\u001b[0m\n\u001b[0m\u001b[1;32m     25\u001b[0m \u001b[0;32mfrom\u001b[0m \u001b[0mallennlp\u001b[0m\u001b[0;34m.\u001b[0m\u001b[0mcommon\u001b[0m\u001b[0;34m.\u001b[0m\u001b[0mparams\u001b[0m \u001b[0;32mimport\u001b[0m \u001b[0mParams\u001b[0m\u001b[0;34m\u001b[0m\u001b[0;34m\u001b[0m\u001b[0m\n\u001b[1;32m     26\u001b[0m \u001b[0;34m\u001b[0m\u001b[0m\n",
            "\u001b[0;32m/usr/local/lib/python3.7/dist-packages/allennlp/common/lazy.py\u001b[0m in \u001b[0;36m<module>\u001b[0;34m()\u001b[0m\n\u001b[1;32m      3\u001b[0m \u001b[0;32mfrom\u001b[0m \u001b[0mtyping\u001b[0m \u001b[0;32mimport\u001b[0m \u001b[0mCallable\u001b[0m\u001b[0;34m,\u001b[0m \u001b[0mGeneric\u001b[0m\u001b[0;34m,\u001b[0m \u001b[0mTypeVar\u001b[0m\u001b[0;34m,\u001b[0m \u001b[0mType\u001b[0m\u001b[0;34m,\u001b[0m \u001b[0mUnion\u001b[0m\u001b[0;34m,\u001b[0m \u001b[0mOptional\u001b[0m\u001b[0;34m,\u001b[0m \u001b[0mDict\u001b[0m\u001b[0;34m,\u001b[0m \u001b[0mAny\u001b[0m\u001b[0;34m\u001b[0m\u001b[0;34m\u001b[0m\u001b[0m\n\u001b[1;32m      4\u001b[0m \u001b[0;34m\u001b[0m\u001b[0m\n\u001b[0;32m----> 5\u001b[0;31m \u001b[0;32mfrom\u001b[0m \u001b[0mallennlp\u001b[0m\u001b[0;34m.\u001b[0m\u001b[0mcommon\u001b[0m\u001b[0;34m.\u001b[0m\u001b[0mparams\u001b[0m \u001b[0;32mimport\u001b[0m \u001b[0mParams\u001b[0m\u001b[0;34m\u001b[0m\u001b[0;34m\u001b[0m\u001b[0m\n\u001b[0m\u001b[1;32m      6\u001b[0m \u001b[0;34m\u001b[0m\u001b[0m\n\u001b[1;32m      7\u001b[0m \u001b[0;34m\u001b[0m\u001b[0m\n",
            "\u001b[0;32m/usr/local/lib/python3.7/dist-packages/allennlp/common/params.py\u001b[0m in \u001b[0;36m<module>\u001b[0;34m()\u001b[0m\n\u001b[1;32m     32\u001b[0m \u001b[0;34m\u001b[0m\u001b[0m\n\u001b[1;32m     33\u001b[0m \u001b[0;32mfrom\u001b[0m \u001b[0mallennlp\u001b[0m\u001b[0;34m.\u001b[0m\u001b[0mcommon\u001b[0m\u001b[0;34m.\u001b[0m\u001b[0mchecks\u001b[0m \u001b[0;32mimport\u001b[0m \u001b[0mConfigurationError\u001b[0m\u001b[0;34m\u001b[0m\u001b[0;34m\u001b[0m\u001b[0m\n\u001b[0;32m---> 34\u001b[0;31m \u001b[0;32mfrom\u001b[0m \u001b[0mallennlp\u001b[0m\u001b[0;34m.\u001b[0m\u001b[0mcommon\u001b[0m\u001b[0;34m.\u001b[0m\u001b[0mfile_utils\u001b[0m \u001b[0;32mimport\u001b[0m \u001b[0mcached_path\u001b[0m\u001b[0;34m\u001b[0m\u001b[0;34m\u001b[0m\u001b[0m\n\u001b[0m\u001b[1;32m     35\u001b[0m \u001b[0;34m\u001b[0m\u001b[0m\n\u001b[1;32m     36\u001b[0m \u001b[0mlogger\u001b[0m \u001b[0;34m=\u001b[0m \u001b[0mlogging\u001b[0m\u001b[0;34m.\u001b[0m\u001b[0mgetLogger\u001b[0m\u001b[0;34m(\u001b[0m\u001b[0m__name__\u001b[0m\u001b[0;34m)\u001b[0m\u001b[0;34m\u001b[0m\u001b[0;34m\u001b[0m\u001b[0m\n",
            "\u001b[0;32m/usr/local/lib/python3.7/dist-packages/allennlp/common/file_utils.py\u001b[0m in \u001b[0;36m<module>\u001b[0;34m()\u001b[0m\n\u001b[1;32m     35\u001b[0m \u001b[0;32mimport\u001b[0m \u001b[0mwarnings\u001b[0m\u001b[0;34m\u001b[0m\u001b[0;34m\u001b[0m\u001b[0m\n\u001b[1;32m     36\u001b[0m \u001b[0;34m\u001b[0m\u001b[0m\n\u001b[0;32m---> 37\u001b[0;31m \u001b[0;32mimport\u001b[0m \u001b[0mcached_path\u001b[0m \u001b[0;32mas\u001b[0m \u001b[0m_cached_path\u001b[0m\u001b[0;34m\u001b[0m\u001b[0;34m\u001b[0m\u001b[0m\n\u001b[0m\u001b[1;32m     38\u001b[0m from cached_path import (  # noqa: F401\n\u001b[1;32m     39\u001b[0m     \u001b[0mresource_to_filename\u001b[0m \u001b[0;32mas\u001b[0m \u001b[0m_resource_to_filename\u001b[0m\u001b[0;34m,\u001b[0m\u001b[0;34m\u001b[0m\u001b[0;34m\u001b[0m\u001b[0m\n",
            "\u001b[0;32m/usr/local/lib/python3.7/dist-packages/cached_path/__init__.py\u001b[0m in \u001b[0;36m<module>\u001b[0;34m()\u001b[0m\n\u001b[1;32m     11\u001b[0m \"\"\"\n\u001b[1;32m     12\u001b[0m \u001b[0;34m\u001b[0m\u001b[0m\n\u001b[0;32m---> 13\u001b[0;31m \u001b[0;32mfrom\u001b[0m \u001b[0mcached_path\u001b[0m\u001b[0;34m.\u001b[0m\u001b[0m_cached_path\u001b[0m \u001b[0;32mimport\u001b[0m \u001b[0mcached_path\u001b[0m\u001b[0;34m\u001b[0m\u001b[0;34m\u001b[0m\u001b[0m\n\u001b[0m\u001b[1;32m     14\u001b[0m \u001b[0;32mfrom\u001b[0m \u001b[0mcached_path\u001b[0m\u001b[0;34m.\u001b[0m\u001b[0mcommon\u001b[0m \u001b[0;32mimport\u001b[0m \u001b[0mfile_friendly_logging\u001b[0m\u001b[0;34m,\u001b[0m \u001b[0mget_cache_dir\u001b[0m\u001b[0;34m,\u001b[0m \u001b[0mset_cache_dir\u001b[0m\u001b[0;34m\u001b[0m\u001b[0;34m\u001b[0m\u001b[0m\n\u001b[1;32m     15\u001b[0m \u001b[0;32mfrom\u001b[0m \u001b[0mcached_path\u001b[0m\u001b[0;34m.\u001b[0m\u001b[0mschemes\u001b[0m \u001b[0;32mimport\u001b[0m \u001b[0mSchemeClient\u001b[0m\u001b[0;34m,\u001b[0m \u001b[0madd_scheme_client\u001b[0m\u001b[0;34m\u001b[0m\u001b[0;34m\u001b[0m\u001b[0m\n",
            "\u001b[0;32m/usr/local/lib/python3.7/dist-packages/cached_path/_cached_path.py\u001b[0m in \u001b[0;36m<module>\u001b[0;34m()\u001b[0m\n\u001b[1;32m     12\u001b[0m \u001b[0;32mfrom\u001b[0m \u001b[0mcached_path\u001b[0m\u001b[0;34m.\u001b[0m\u001b[0mfile_lock\u001b[0m \u001b[0;32mimport\u001b[0m \u001b[0mFileLock\u001b[0m\u001b[0;34m\u001b[0m\u001b[0;34m\u001b[0m\u001b[0m\n\u001b[1;32m     13\u001b[0m \u001b[0;32mfrom\u001b[0m \u001b[0mcached_path\u001b[0m\u001b[0;34m.\u001b[0m\u001b[0mmeta\u001b[0m \u001b[0;32mimport\u001b[0m \u001b[0mMeta\u001b[0m\u001b[0;34m\u001b[0m\u001b[0;34m\u001b[0m\u001b[0m\n\u001b[0;32m---> 14\u001b[0;31m from cached_path.schemes import (\n\u001b[0m\u001b[1;32m     15\u001b[0m     \u001b[0mget_scheme_client\u001b[0m\u001b[0;34m,\u001b[0m\u001b[0;34m\u001b[0m\u001b[0;34m\u001b[0m\u001b[0m\n\u001b[1;32m     16\u001b[0m     \u001b[0mget_supported_schemes\u001b[0m\u001b[0;34m,\u001b[0m\u001b[0;34m\u001b[0m\u001b[0;34m\u001b[0m\u001b[0m\n",
            "\u001b[0;32m/usr/local/lib/python3.7/dist-packages/cached_path/schemes/__init__.py\u001b[0m in \u001b[0;36m<module>\u001b[0;34m()\u001b[0m\n\u001b[1;32m      1\u001b[0m \u001b[0;32mfrom\u001b[0m \u001b[0mtyping\u001b[0m \u001b[0;32mimport\u001b[0m \u001b[0mSet\u001b[0m\u001b[0;34m,\u001b[0m \u001b[0mType\u001b[0m\u001b[0;34m\u001b[0m\u001b[0;34m\u001b[0m\u001b[0m\n\u001b[1;32m      2\u001b[0m \u001b[0;34m\u001b[0m\u001b[0m\n\u001b[0;32m----> 3\u001b[0;31m \u001b[0;32mfrom\u001b[0m \u001b[0mcached_path\u001b[0m\u001b[0;34m.\u001b[0m\u001b[0mschemes\u001b[0m\u001b[0;34m.\u001b[0m\u001b[0mgs\u001b[0m \u001b[0;32mimport\u001b[0m \u001b[0mGsClient\u001b[0m\u001b[0;34m\u001b[0m\u001b[0;34m\u001b[0m\u001b[0m\n\u001b[0m\u001b[1;32m      4\u001b[0m \u001b[0;32mfrom\u001b[0m \u001b[0mcached_path\u001b[0m\u001b[0;34m.\u001b[0m\u001b[0mschemes\u001b[0m\u001b[0;34m.\u001b[0m\u001b[0mhf\u001b[0m \u001b[0;32mimport\u001b[0m \u001b[0mhf_get_from_cache\u001b[0m\u001b[0;34m\u001b[0m\u001b[0;34m\u001b[0m\u001b[0m\n\u001b[1;32m      5\u001b[0m \u001b[0;32mfrom\u001b[0m \u001b[0mcached_path\u001b[0m\u001b[0;34m.\u001b[0m\u001b[0mschemes\u001b[0m\u001b[0;34m.\u001b[0m\u001b[0mhttp\u001b[0m \u001b[0;32mimport\u001b[0m \u001b[0mHttpClient\u001b[0m\u001b[0;34m\u001b[0m\u001b[0;34m\u001b[0m\u001b[0m\n",
            "\u001b[0;32m/usr/local/lib/python3.7/dist-packages/cached_path/schemes/gs.py\u001b[0m in \u001b[0;36m<module>\u001b[0;34m()\u001b[0m\n\u001b[1;32m      7\u001b[0m \u001b[0;32mfrom\u001b[0m \u001b[0mgoogle\u001b[0m\u001b[0;34m.\u001b[0m\u001b[0mapi_core\u001b[0m\u001b[0;34m.\u001b[0m\u001b[0mexceptions\u001b[0m \u001b[0;32mimport\u001b[0m \u001b[0mNotFound\u001b[0m\u001b[0;34m\u001b[0m\u001b[0;34m\u001b[0m\u001b[0m\n\u001b[1;32m      8\u001b[0m \u001b[0;32mfrom\u001b[0m \u001b[0mgoogle\u001b[0m\u001b[0;34m.\u001b[0m\u001b[0mauth\u001b[0m\u001b[0;34m.\u001b[0m\u001b[0mexceptions\u001b[0m \u001b[0;32mimport\u001b[0m \u001b[0mDefaultCredentialsError\u001b[0m\u001b[0;34m\u001b[0m\u001b[0;34m\u001b[0m\u001b[0m\n\u001b[0;32m----> 9\u001b[0;31m \u001b[0;32mfrom\u001b[0m \u001b[0mgoogle\u001b[0m\u001b[0;34m.\u001b[0m\u001b[0mcloud\u001b[0m \u001b[0;32mimport\u001b[0m \u001b[0mstorage\u001b[0m\u001b[0;34m\u001b[0m\u001b[0;34m\u001b[0m\u001b[0m\n\u001b[0m\u001b[1;32m     10\u001b[0m \u001b[0;32mfrom\u001b[0m \u001b[0mgoogle\u001b[0m\u001b[0;34m.\u001b[0m\u001b[0mcloud\u001b[0m\u001b[0;34m.\u001b[0m\u001b[0mstorage\u001b[0m\u001b[0;34m.\u001b[0m\u001b[0mretry\u001b[0m \u001b[0;32mimport\u001b[0m \u001b[0mDEFAULT_RETRY\u001b[0m\u001b[0;34m\u001b[0m\u001b[0;34m\u001b[0m\u001b[0m\n\u001b[1;32m     11\u001b[0m \u001b[0;32mfrom\u001b[0m \u001b[0moverrides\u001b[0m \u001b[0;32mimport\u001b[0m \u001b[0moverrides\u001b[0m\u001b[0;34m\u001b[0m\u001b[0;34m\u001b[0m\u001b[0m\n",
            "\u001b[0;32m/usr/local/lib/python3.7/dist-packages/google/cloud/storage/__init__.py\u001b[0m in \u001b[0;36m<module>\u001b[0;34m()\u001b[0m\n\u001b[1;32m     34\u001b[0m \u001b[0;32mfrom\u001b[0m \u001b[0mgoogle\u001b[0m\u001b[0;34m.\u001b[0m\u001b[0mcloud\u001b[0m\u001b[0;34m.\u001b[0m\u001b[0mstorage\u001b[0m\u001b[0;34m.\u001b[0m\u001b[0mversion\u001b[0m \u001b[0;32mimport\u001b[0m \u001b[0m__version__\u001b[0m\u001b[0;34m\u001b[0m\u001b[0;34m\u001b[0m\u001b[0m\n\u001b[1;32m     35\u001b[0m \u001b[0;32mfrom\u001b[0m \u001b[0mgoogle\u001b[0m\u001b[0;34m.\u001b[0m\u001b[0mcloud\u001b[0m\u001b[0;34m.\u001b[0m\u001b[0mstorage\u001b[0m\u001b[0;34m.\u001b[0m\u001b[0mbatch\u001b[0m \u001b[0;32mimport\u001b[0m \u001b[0mBatch\u001b[0m\u001b[0;34m\u001b[0m\u001b[0;34m\u001b[0m\u001b[0m\n\u001b[0;32m---> 36\u001b[0;31m \u001b[0;32mfrom\u001b[0m \u001b[0mgoogle\u001b[0m\u001b[0;34m.\u001b[0m\u001b[0mcloud\u001b[0m\u001b[0;34m.\u001b[0m\u001b[0mstorage\u001b[0m\u001b[0;34m.\u001b[0m\u001b[0mblob\u001b[0m \u001b[0;32mimport\u001b[0m \u001b[0mBlob\u001b[0m\u001b[0;34m\u001b[0m\u001b[0;34m\u001b[0m\u001b[0m\n\u001b[0m\u001b[1;32m     37\u001b[0m \u001b[0;32mfrom\u001b[0m \u001b[0mgoogle\u001b[0m\u001b[0;34m.\u001b[0m\u001b[0mcloud\u001b[0m\u001b[0;34m.\u001b[0m\u001b[0mstorage\u001b[0m\u001b[0;34m.\u001b[0m\u001b[0mbucket\u001b[0m \u001b[0;32mimport\u001b[0m \u001b[0mBucket\u001b[0m\u001b[0;34m\u001b[0m\u001b[0;34m\u001b[0m\u001b[0m\n\u001b[1;32m     38\u001b[0m \u001b[0;32mfrom\u001b[0m \u001b[0mgoogle\u001b[0m\u001b[0;34m.\u001b[0m\u001b[0mcloud\u001b[0m\u001b[0;34m.\u001b[0m\u001b[0mstorage\u001b[0m\u001b[0;34m.\u001b[0m\u001b[0mclient\u001b[0m \u001b[0;32mimport\u001b[0m \u001b[0mClient\u001b[0m\u001b[0;34m\u001b[0m\u001b[0;34m\u001b[0m\u001b[0m\n",
            "\u001b[0;32m/usr/local/lib/python3.7/dist-packages/google/cloud/storage/blob.py\u001b[0m in \u001b[0;36m<module>\u001b[0;34m()\u001b[0m\n\u001b[1;32m     48\u001b[0m \u001b[0;32mfrom\u001b[0m \u001b[0mgoogle\u001b[0m\u001b[0;34m.\u001b[0m\u001b[0mresumable_media\u001b[0m\u001b[0;34m.\u001b[0m\u001b[0mrequests\u001b[0m \u001b[0;32mimport\u001b[0m \u001b[0mChunkedDownload\u001b[0m\u001b[0;34m\u001b[0m\u001b[0;34m\u001b[0m\u001b[0m\n\u001b[1;32m     49\u001b[0m \u001b[0;32mfrom\u001b[0m \u001b[0mgoogle\u001b[0m\u001b[0;34m.\u001b[0m\u001b[0mresumable_media\u001b[0m\u001b[0;34m.\u001b[0m\u001b[0mrequests\u001b[0m \u001b[0;32mimport\u001b[0m \u001b[0mDownload\u001b[0m\u001b[0;34m\u001b[0m\u001b[0;34m\u001b[0m\u001b[0m\n\u001b[0;32m---> 50\u001b[0;31m \u001b[0;32mfrom\u001b[0m \u001b[0mgoogle\u001b[0m\u001b[0;34m.\u001b[0m\u001b[0mresumable_media\u001b[0m\u001b[0;34m.\u001b[0m\u001b[0mrequests\u001b[0m \u001b[0;32mimport\u001b[0m \u001b[0mRawDownload\u001b[0m\u001b[0;34m\u001b[0m\u001b[0;34m\u001b[0m\u001b[0m\n\u001b[0m\u001b[1;32m     51\u001b[0m \u001b[0;32mfrom\u001b[0m \u001b[0mgoogle\u001b[0m\u001b[0;34m.\u001b[0m\u001b[0mresumable_media\u001b[0m\u001b[0;34m.\u001b[0m\u001b[0mrequests\u001b[0m \u001b[0;32mimport\u001b[0m \u001b[0mRawChunkedDownload\u001b[0m\u001b[0;34m\u001b[0m\u001b[0;34m\u001b[0m\u001b[0m\n\u001b[1;32m     52\u001b[0m \u001b[0;32mfrom\u001b[0m \u001b[0mgoogle\u001b[0m\u001b[0;34m.\u001b[0m\u001b[0mresumable_media\u001b[0m\u001b[0;34m.\u001b[0m\u001b[0mrequests\u001b[0m \u001b[0;32mimport\u001b[0m \u001b[0mMultipartUpload\u001b[0m\u001b[0;34m\u001b[0m\u001b[0;34m\u001b[0m\u001b[0m\n",
            "\u001b[0;31mImportError\u001b[0m: cannot import name 'RawDownload' from 'google.resumable_media.requests' (/usr/local/lib/python3.7/dist-packages/google/resumable_media/requests/__init__.py)",
            "",
            "\u001b[0;31m---------------------------------------------------------------------------\u001b[0;32m\nNOTE: If your import is failing due to a missing package, you can\nmanually install dependencies using either !pip or !apt.\n\nTo view examples of installing some common dependencies, click the\n\"Open Examples\" button below.\n\u001b[0;31m---------------------------------------------------------------------------\u001b[0m\n"
          ]
        }
      ],
      "source": [
        "# prepare data\n",
        "from utils.util import wnut_iob\n",
        "import os\n",
        "from .utils.util import get_reader, train_model, create_model, save_model, parse_args, get_tagset\n",
        "train_file = os.path.join(base_dir, \"training_data/EN-English/en_train.conll\")\n",
        "dev_file = os.path.join(base_dir, \"training_data/EN-English/en_dev.conll\")\n",
        "encoder_model = \"roberta-base\"\n",
        "train_reader = get_reader(file_path=train_file, target_vocab=get_tagset(conll_iob), encoder_model=encoder_model)\n",
        "dev_reader = get_reader(file_path=dev_file, target_vocab=get_tagset(conll_iob), encoder_model=encoder_model)\n"
      ]
    },
    {
      "cell_type": "code",
      "execution_count": null,
      "metadata": {
        "id": "SLWh1pPfaPcZ",
        "outputId": "c4fa7ccd-d2eb-40cf-e611-6b3e74dc84be"
      },
      "outputs": [
        {
          "name": "stdout",
          "output_type": "stream",
          "text": [
            "15300\n",
            "800\n"
          ]
        }
      ],
      "source": [
        "print(train_reader.sentences.__len__())\n",
        "print(dev_reader.__len__())\n",
        "from typing import List\n",
        "roberta_txt = os.path.join(base_dir, \"roberta.txt\")\n",
        "def write_roberta_pretrain_sentences(data: List[List], filename: str):\n",
        "    with open(filename, \"w\") as f:\n",
        "        for sentences in data:\n",
        "            for sentence in sentences:\n",
        "                f.write(sentence)\n",
        "                f.write(\"\\n\")\n",
        "\n",
        "write_roberta_pretrain_sentences([train_reader.sentences, dev_reader.sentences], roberta_txt)\n",
        "    "
      ]
    },
    {
      "cell_type": "code",
      "execution_count": null,
      "metadata": {
        "id": "GJdr9DZYaPcZ",
        "outputId": "19fdb717-f0a5-47f5-9017-9af696b0dc9a"
      },
      "outputs": [
        {
          "name": "stderr",
          "output_type": "stream",
          "text": [
            "loading file https://huggingface.co/roberta-base/resolve/main/vocab.json from cache at /Users/malong/.cache/huggingface/transformers/d3ccdbfeb9aaa747ef20432d4976c32ee3fa69663b379deb253ccfce2bb1fdc5.d67d6b367eb24ab43b08ad55e014cf254076934f71d832bbab9ad35644a375ab\n",
            "loading file https://huggingface.co/roberta-base/resolve/main/merges.txt from cache at /Users/malong/.cache/huggingface/transformers/cafdecc90fcab17011e12ac813dd574b4b3fea39da6dd817813efa010262ff3f.5d12962c5ee615a4c803841266e9c3be9a691a924f72d395d3a6c6c81157788b\n",
            "loading file https://huggingface.co/roberta-base/resolve/main/added_tokens.json from cache at None\n",
            "loading file https://huggingface.co/roberta-base/resolve/main/special_tokens_map.json from cache at None\n",
            "loading file https://huggingface.co/roberta-base/resolve/main/tokenizer_config.json from cache at None\n",
            "loading file https://huggingface.co/roberta-base/resolve/main/tokenizer.json from cache at /Users/malong/.cache/huggingface/transformers/d53fc0fa09b8342651efd4073d75e19617b3e51287c2a535becda5808a8db287.fc9576039592f026ad76a1c231b89aee8668488c671dfbe6616bab2ed298d730\n",
            "loading configuration file https://huggingface.co/roberta-base/resolve/main/config.json from cache at /Users/malong/.cache/huggingface/transformers/733bade19e5f0ce98e6531021dd5180994bb2f7b8bd7e80c7968805834ba351e.35205c6cfc956461d8515139f0f8dd5d207a2f336c0c3a83b4bc8dca3518e37b\n",
            "Model config RobertaConfig {\n",
            "  \"architectures\": [\n",
            "    \"RobertaForMaskedLM\"\n",
            "  ],\n",
            "  \"attention_probs_dropout_prob\": 0.1,\n",
            "  \"bos_token_id\": 0,\n",
            "  \"classifier_dropout\": null,\n",
            "  \"eos_token_id\": 2,\n",
            "  \"hidden_act\": \"gelu\",\n",
            "  \"hidden_dropout_prob\": 0.1,\n",
            "  \"hidden_size\": 768,\n",
            "  \"initializer_range\": 0.02,\n",
            "  \"intermediate_size\": 3072,\n",
            "  \"layer_norm_eps\": 1e-05,\n",
            "  \"max_position_embeddings\": 514,\n",
            "  \"model_type\": \"roberta\",\n",
            "  \"num_attention_heads\": 12,\n",
            "  \"num_hidden_layers\": 12,\n",
            "  \"pad_token_id\": 1,\n",
            "  \"position_embedding_type\": \"absolute\",\n",
            "  \"transformers_version\": \"4.12.3\",\n",
            "  \"type_vocab_size\": 1,\n",
            "  \"use_cache\": true,\n",
            "  \"vocab_size\": 50265\n",
            "}\n",
            "\n",
            "loading configuration file ./roberta-retrained/checkpoint-1000/config.json\n",
            "Model config RobertaConfig {\n",
            "  \"_name_or_path\": \"./roberta-retrained/checkpoint-12500\",\n",
            "  \"architectures\": [\n",
            "    \"RobertaForMaskedLM\"\n",
            "  ],\n",
            "  \"attention_probs_dropout_prob\": 0.1,\n",
            "  \"bos_token_id\": 0,\n",
            "  \"classifier_dropout\": null,\n",
            "  \"eos_token_id\": 2,\n",
            "  \"hidden_act\": \"gelu\",\n",
            "  \"hidden_dropout_prob\": 0.1,\n",
            "  \"hidden_size\": 768,\n",
            "  \"initializer_range\": 0.02,\n",
            "  \"intermediate_size\": 3072,\n",
            "  \"layer_norm_eps\": 1e-05,\n",
            "  \"max_position_embeddings\": 514,\n",
            "  \"model_type\": \"roberta\",\n",
            "  \"num_attention_heads\": 12,\n",
            "  \"num_hidden_layers\": 12,\n",
            "  \"pad_token_id\": 1,\n",
            "  \"position_embedding_type\": \"absolute\",\n",
            "  \"torch_dtype\": \"float32\",\n",
            "  \"transformers_version\": \"4.12.3\",\n",
            "  \"type_vocab_size\": 1,\n",
            "  \"use_cache\": true,\n",
            "  \"vocab_size\": 50265\n",
            "}\n",
            "\n",
            "loading weights file ./roberta-retrained/checkpoint-1000/pytorch_model.bin\n",
            "All model checkpoint weights were used when initializing RobertaForMaskedLM.\n",
            "\n",
            "All the weights of RobertaForMaskedLM were initialized from the model checkpoint at ./roberta-retrained/checkpoint-1000.\n",
            "If your task is similar to the task the model of the checkpoint was trained on, you can already use RobertaForMaskedLM for predictions without further training.\n",
            "/Users/malong/opt/anaconda3/envs/sem_eval/lib/python3.7/site-packages/transformers/data/datasets/language_modeling.py:125: FutureWarning: This dataset will be removed from the library soon, preprocessing should be handled with the 🤗 Datasets library. You can have a look at this example script for pointers: https://github.com/huggingface/transformers/blob/master/examples/pytorch/language-modeling/run_mlm.py\n",
            "  FutureWarning,\n",
            "Creating features from dataset file at roberta.txt\n",
            "PyTorch: setting up devices\n",
            "The default value for the training argument `--report_to` will change in v5 (from all installed integrations to none). In v5, you will need to use `--report_to all` to get the same behavior as now. You should start updating your code and make this info disappear :-).\n",
            "***** Running training *****\n",
            "  Num examples = 16100\n",
            "  Num Epochs = 5\n",
            "  Instantaneous batch size per device = 16\n",
            "  Total train batch size (w. parallel, distributed & accumulation) = 16\n",
            "  Gradient Accumulation steps = 1\n",
            "  Total optimization steps = 5035\n",
            "Automatic Weights & Biases logging enabled, to disable set os.environ[\"WANDB_DISABLED\"] = \"true\"\n",
            " 10%|▉         | 500/5035 [49:28<8:05:44,  6.43s/it]Saving model checkpoint to ./roberta-retrained/checkpoint-500\n",
            "Configuration saved in ./roberta-retrained/checkpoint-500/config.json\n"
          ]
        },
        {
          "name": "stdout",
          "output_type": "stream",
          "text": [
            "{'loss': 0.3033, 'learning_rate': 4.503475670307845e-05, 'epoch': 0.5}\n"
          ]
        },
        {
          "name": "stderr",
          "output_type": "stream",
          "text": [
            "Model weights saved in ./roberta-retrained/checkpoint-500/pytorch_model.bin\n",
            " 20%|█▉        | 1000/5035 [1:38:09<6:40:03,  5.95s/it]Saving model checkpoint to ./roberta-retrained/checkpoint-1000\n",
            "Configuration saved in ./roberta-retrained/checkpoint-1000/config.json\n"
          ]
        },
        {
          "name": "stdout",
          "output_type": "stream",
          "text": [
            "{'loss': 0.6139, 'learning_rate': 4.006951340615691e-05, 'epoch': 0.99}\n"
          ]
        },
        {
          "name": "stderr",
          "output_type": "stream",
          "text": [
            "Model weights saved in ./roberta-retrained/checkpoint-1000/pytorch_model.bin\n",
            " 30%|██▉       | 1500/5035 [2:26:36<5:40:00,  5.77s/it]Saving model checkpoint to ./roberta-retrained/checkpoint-1500\n",
            "Configuration saved in ./roberta-retrained/checkpoint-1500/config.json\n"
          ]
        },
        {
          "name": "stdout",
          "output_type": "stream",
          "text": [
            "{'loss': 0.962, 'learning_rate': 3.5104270109235354e-05, 'epoch': 1.49}\n"
          ]
        },
        {
          "name": "stderr",
          "output_type": "stream",
          "text": [
            "Model weights saved in ./roberta-retrained/checkpoint-1500/pytorch_model.bin\n",
            "Deleting older checkpoint [roberta-retrained/checkpoint-500] due to args.save_total_limit\n",
            " 40%|███▉      | 2000/5035 [3:15:51<5:26:36,  6.46s/it]Saving model checkpoint to ./roberta-retrained/checkpoint-2000\n",
            "Configuration saved in ./roberta-retrained/checkpoint-2000/config.json\n"
          ]
        },
        {
          "name": "stdout",
          "output_type": "stream",
          "text": [
            "{'loss': 0.9578, 'learning_rate': 3.0139026812313804e-05, 'epoch': 1.99}\n"
          ]
        },
        {
          "name": "stderr",
          "output_type": "stream",
          "text": [
            "Model weights saved in ./roberta-retrained/checkpoint-2000/pytorch_model.bin\n",
            "Deleting older checkpoint [roberta-retrained/checkpoint-1000] due to args.save_total_limit\n",
            " 50%|████▉     | 2500/5035 [4:04:46<4:43:15,  6.70s/it]Saving model checkpoint to ./roberta-retrained/checkpoint-2500\n",
            "Configuration saved in ./roberta-retrained/checkpoint-2500/config.json\n"
          ]
        },
        {
          "name": "stdout",
          "output_type": "stream",
          "text": [
            "{'loss': 0.8525, 'learning_rate': 2.5173783515392257e-05, 'epoch': 2.48}\n"
          ]
        },
        {
          "name": "stderr",
          "output_type": "stream",
          "text": [
            "Model weights saved in ./roberta-retrained/checkpoint-2500/pytorch_model.bin\n",
            "Deleting older checkpoint [roberta-retrained/checkpoint-1500] due to args.save_total_limit\n",
            " 60%|█████▉    | 3000/5035 [4:53:27<3:26:47,  6.10s/it]Saving model checkpoint to ./roberta-retrained/checkpoint-3000\n",
            "Configuration saved in ./roberta-retrained/checkpoint-3000/config.json\n"
          ]
        },
        {
          "name": "stdout",
          "output_type": "stream",
          "text": [
            "{'loss': 0.9111, 'learning_rate': 2.0208540218470706e-05, 'epoch': 2.98}\n"
          ]
        },
        {
          "name": "stderr",
          "output_type": "stream",
          "text": [
            "Model weights saved in ./roberta-retrained/checkpoint-3000/pytorch_model.bin\n",
            "Deleting older checkpoint [roberta-retrained/checkpoint-2000] due to args.save_total_limit\n",
            " 70%|██████▉   | 3500/5035 [5:42:11<2:43:42,  6.40s/it]Saving model checkpoint to ./roberta-retrained/checkpoint-3500\n",
            "Configuration saved in ./roberta-retrained/checkpoint-3500/config.json\n"
          ]
        },
        {
          "name": "stdout",
          "output_type": "stream",
          "text": [
            "{'loss': 0.8219, 'learning_rate': 1.5243296921549157e-05, 'epoch': 3.48}\n"
          ]
        },
        {
          "name": "stderr",
          "output_type": "stream",
          "text": [
            "Model weights saved in ./roberta-retrained/checkpoint-3500/pytorch_model.bin\n",
            "Deleting older checkpoint [roberta-retrained/checkpoint-2500] due to args.save_total_limit\n",
            " 79%|███████▉  | 4000/5035 [6:30:39<1:46:26,  6.17s/it]Saving model checkpoint to ./roberta-retrained/checkpoint-4000\n",
            "Configuration saved in ./roberta-retrained/checkpoint-4000/config.json\n"
          ]
        },
        {
          "name": "stdout",
          "output_type": "stream",
          "text": [
            "{'loss': 0.8071, 'learning_rate': 1.0278053624627607e-05, 'epoch': 3.97}\n"
          ]
        },
        {
          "name": "stderr",
          "output_type": "stream",
          "text": [
            "Model weights saved in ./roberta-retrained/checkpoint-4000/pytorch_model.bin\n",
            "Deleting older checkpoint [roberta-retrained/checkpoint-3000] due to args.save_total_limit\n",
            " 89%|████████▉ | 4500/5035 [7:19:19<56:16,  6.31s/it]Saving model checkpoint to ./roberta-retrained/checkpoint-4500\n",
            "Configuration saved in ./roberta-retrained/checkpoint-4500/config.json\n"
          ]
        },
        {
          "name": "stdout",
          "output_type": "stream",
          "text": [
            "{'loss': 0.7983, 'learning_rate': 5.312810327706058e-06, 'epoch': 4.47}\n"
          ]
        },
        {
          "name": "stderr",
          "output_type": "stream",
          "text": [
            "Model weights saved in ./roberta-retrained/checkpoint-4500/pytorch_model.bin\n",
            "Deleting older checkpoint [roberta-retrained/checkpoint-3500] due to args.save_total_limit\n",
            " 99%|█████████▉| 5000/5035 [8:12:24<03:40,  6.30s/it]Saving model checkpoint to ./roberta-retrained/checkpoint-5000\n",
            "Configuration saved in ./roberta-retrained/checkpoint-5000/config.json\n"
          ]
        },
        {
          "name": "stdout",
          "output_type": "stream",
          "text": [
            "{'loss': 0.8031, 'learning_rate': 3.475670307845084e-07, 'epoch': 4.97}\n"
          ]
        },
        {
          "name": "stderr",
          "output_type": "stream",
          "text": [
            "Model weights saved in ./roberta-retrained/checkpoint-5000/pytorch_model.bin\n",
            "Deleting older checkpoint [roberta-retrained/checkpoint-4000] due to args.save_total_limit\n",
            "100%|██████████| 5035/5035 [8:15:41<00:00,  4.67s/it]\n",
            "\n",
            "Training completed. Do not forget to share your model on huggingface.co/models =)\n",
            "\n",
            "\n",
            "100%|██████████| 5035/5035 [8:15:41<00:00,  5.91s/it]"
          ]
        },
        {
          "name": "stdout",
          "output_type": "stream",
          "text": [
            "{'train_runtime': 29741.9841, 'train_samples_per_second': 2.707, 'train_steps_per_second': 0.169, 'train_loss': 0.7823451268519048, 'epoch': 5.0}\n"
          ]
        },
        {
          "name": "stderr",
          "output_type": "stream",
          "text": [
            "\n"
          ]
        },
        {
          "data": {
            "text/plain": [
              "TrainOutput(global_step=5035, training_loss=0.7823451268519048, metrics={'train_runtime': 29741.9841, 'train_samples_per_second': 2.707, 'train_steps_per_second': 0.169, 'train_loss': 0.7823451268519048, 'epoch': 5.0})"
            ]
          },
          "execution_count": 4,
          "metadata": {},
          "output_type": "execute_result"
        },
        {
          "name": "stderr",
          "output_type": "stream",
          "text": [
            "wandb: Network error (ProxyError), entering retry loop.\n",
            "wandb: Network error (ConnectionError), entering retry loop.\n",
            "wandb: Network error (ProxyError), entering retry loop.\n",
            "wandb: Network error (ConnectionError), entering retry loop.\n",
            "wandb: Network error (ConnectionError), entering retry loop.\n",
            "wandb: Network error (ConnectionError), entering retry loop.\n",
            "wandb: Network error (ConnectionError), entering retry loop.\n",
            "wandb: Network error (ConnectionError), entering retry loop.\n",
            "wandb: Network error (ConnectionError), entering retry loop.\n",
            "wandb: Network error (ConnectionError), entering retry loop.\n"
          ]
        }
      ],
      "source": [
        "from transformers import RobertaTokenizer, RobertaForMaskedLM\n",
        "from transformers import LineByLineTextDataset\n",
        "from transformers import DataCollatorForLanguageModeling\n",
        "from transformers import Trainer, TrainingArguments\n",
        "\n",
        "encoder_model = \"roberta-base\"\n",
        "output_dir = os.path.join(base_dir, \"roberta-retrained\")\n",
        "tokenizer = RobertaTokenizer.from_pretrained(encoder_model)\n",
        "checkpoint = os.path.join(output_dir, \"checkpoint-1000\")\n",
        "if os.path.exists(checkpoint):\n",
        "    model = RobertaForMaskedLM.from_pretrained(checkpoint)\n",
        "else:\n",
        "    model = RobertaForMaskedLM.from_pretrained(encoder_model)\n",
        "dataset = LineByLineTextDataset(\n",
        "    tokenizer=tokenizer,\n",
        "    file_path=roberta_txt,\n",
        "    block_size=512,\n",
        ")\n",
        "data_collator = DataCollatorForLanguageModeling(\n",
        "    tokenizer=tokenizer, mlm=True, mlm_probability=0.15\n",
        ")\n",
        "training_args = TrainingArguments(\n",
        "    output_dir=output_dir,\n",
        "    overwrite_output_dir=True,\n",
        "    num_train_epochs=5,\n",
        "    per_device_train_batch_size=16,\n",
        "    save_steps=500,\n",
        "    save_total_limit=2,\n",
        "    seed=1\n",
        ")\n",
        "\n",
        "trainer = Trainer(\n",
        "    model=model,\n",
        "    args=training_args,\n",
        "    data_collator=data_collator,\n",
        "    train_dataset=dataset\n",
        ")\n",
        "trainer.train()"
      ]
    },
    {
      "cell_type": "code",
      "execution_count": null,
      "metadata": {
        "id": "FTDtwyRxaPca"
      },
      "outputs": [],
      "source": []
    }
  ],
  "metadata": {
    "accelerator": "GPU",
    "colab": {
      "name": "1_pretrain_roberta.ipynb",
      "provenance": []
    },
    "interpreter": {
      "hash": "26273649c1ad55e65f8b33df1791b797f344b761a59a759c3ddbb97d149ed09b"
    },
    "kernelspec": {
      "display_name": "Python 3.7.11 64-bit ('sem_eval': conda)",
      "language": "python",
      "name": "python3"
    },
    "language_info": {
      "codemirror_mode": {
        "name": "ipython",
        "version": 3
      },
      "file_extension": ".py",
      "mimetype": "text/x-python",
      "name": "python",
      "nbconvert_exporter": "python",
      "pygments_lexer": "ipython3",
      "version": "3.7.11"
    },
    "orig_nbformat": 4
  },
  "nbformat": 4,
  "nbformat_minor": 0
}
