{
 "cells": [
  {
   "cell_type": "code",
   "execution_count": 4,
   "metadata": {},
   "outputs": [
    {
     "name": "stderr",
     "output_type": "stream",
     "text": [
      "2021-11-16 18:16:21 - INFO - reader - Reading file ./training_data/EN-English/en_train.conll\n",
      "2021-11-16 18:16:49 - INFO - reader - Finished reading 15300 instances from file ./training_data/EN-English/en_train.conll\n",
      "2021-11-16 18:17:00 - INFO - reader - Reading file ./training_data/EN-English/en_dev.conll\n",
      "2021-11-16 18:17:02 - INFO - reader - Finished reading 800 instances from file ./training_data/EN-English/en_dev.conll\n"
     ]
    }
   ],
   "source": [
    "# prepare data\n",
    "from utils.utils import conll_iob\n",
    "from utils.utils import get_reader, train_model, create_model, save_model, parse_args, get_tagset\n",
    "\n",
    "train_file = \"./training_data/EN-English/en_train.conll\"\n",
    "dev_file = \"./training_data/EN-English/en_dev.conll\"\n",
    "encoder_model = \"roberta-base\"\n",
    "train_reader = get_reader(file_path=train_file, target_vocab=get_tagset(conll_iob), encoder_model=encoder_model)\n",
    "dev_reader = get_reader(file_path=dev_file, target_vocab=get_tagset(conll_iob), encoder_model=encoder_model)\n"
   ]
  },
  {
   "cell_type": "code",
   "execution_count": 9,
   "metadata": {},
   "outputs": [
    {
     "name": "stdout",
     "output_type": "stream",
     "text": [
      "15300\n",
      "800\n"
     ]
    }
   ],
   "source": [
    "print(train_reader.sentences.__len__())\n",
    "print(dev_reader.__len__())\n",
    "from typing import List\n",
    "def write_roberta_pretrain_sentences(data: List[List], filename: str):\n",
    "    with open(filename, \"w\") as f:\n",
    "        for sentences in data:\n",
    "            for sentence in sentences:\n",
    "                f.write(\"<s> \" + sentence + \" </s>\")\n",
    "                f.write(\"\\n\")\n",
    "\n",
    "write_roberta_pretrain_sentences([train_reader.sentences, dev_reader.sentences], \"roberta.txt\")\n",
    "    "
   ]
  },
  {
   "cell_type": "code",
   "execution_count": 12,
   "metadata": {},
   "outputs": [
    {
     "name": "stderr",
     "output_type": "stream",
     "text": [
      "/Users/malong/opt/anaconda3/envs/sem_eval/lib/python3.7/site-packages/transformers/data/datasets/language_modeling.py:125: FutureWarning: This dataset will be removed from the library soon, preprocessing should be handled with the 🤗 Datasets library. You can have a look at this example script for pointers: https://github.com/huggingface/transformers/blob/master/examples/pytorch/language-modeling/run_mlm.py\n",
      "  FutureWarning,\n",
      "***** Running training *****\n",
      "  Num examples = 16100\n",
      "  Num Epochs = 1\n",
      "  Instantaneous batch size per device = 8\n",
      "  Total train batch size (w. parallel, distributed & accumulation) = 8\n",
      "  Gradient Accumulation steps = 1\n",
      "  Total optimization steps = 2013\n",
      "Automatic Weights & Biases logging enabled, to disable set os.environ[\"WANDB_DISABLED\"] = \"true\"\n",
      "Failed to detect the name of this notebook, you can set it manually with the WANDB_NOTEBOOK_NAME environment variable to enable code saving.\n",
      "\u001b[34m\u001b[1mwandb\u001b[0m: You can find your API key in your browser here: https://wandb.ai/authorize\n"
     ]
    },
    {
     "data": {
      "text/html": [
       "W&B syncing is set to `offline` in this directory.  <br/>\n",
       "Run `wandb online` or set WANDB_MODE=online to enable cloud syncing."
      ],
      "text/plain": [
       "<IPython.core.display.HTML object>"
      ]
     },
     "metadata": {},
     "output_type": "display_data"
    },
    {
     "name": "stderr",
     "output_type": "stream",
     "text": [
      "\n",
      "Downloading:  18%|█▊        | 86.0M/478M [4:08:52<5:20:46, 21.4kB/s]Saving model checkpoint to ./roberta-retrained/checkpoint-500\n",
      "Configuration saved in ./roberta-retrained/checkpoint-500/config.json\n"
     ]
    },
    {
     "name": "stdout",
     "output_type": "stream",
     "text": [
      "{'loss': 2.6728, 'learning_rate': 3.758072528564332e-05, 'epoch': 0.25}\n"
     ]
    },
    {
     "name": "stderr",
     "output_type": "stream",
     "text": [
      "Model weights saved in ./roberta-retrained/checkpoint-500/pytorch_model.bin\n",
      "\n",
      "Downloading:  18%|█▊        | 86.0M/478M [4:36:17<5:20:46, 21.4kB/s]Saving model checkpoint to ./roberta-retrained/checkpoint-1000\n",
      "Configuration saved in ./roberta-retrained/checkpoint-1000/config.json\n"
     ]
    },
    {
     "name": "stdout",
     "output_type": "stream",
     "text": [
      "{'loss': 2.4639, 'learning_rate': 2.516145057128664e-05, 'epoch': 0.5}\n"
     ]
    },
    {
     "name": "stderr",
     "output_type": "stream",
     "text": [
      "Model weights saved in ./roberta-retrained/checkpoint-1000/pytorch_model.bin\n",
      "\n",
      "Downloading:  18%|█▊        | 86.0M/478M [5:03:46<5:20:46, 21.4kB/s]Saving model checkpoint to ./roberta-retrained/checkpoint-1500\n",
      "Configuration saved in ./roberta-retrained/checkpoint-1500/config.json\n"
     ]
    },
    {
     "name": "stdout",
     "output_type": "stream",
     "text": [
      "{'loss': 2.3705, 'learning_rate': 1.2742175856929956e-05, 'epoch': 0.75}\n"
     ]
    },
    {
     "name": "stderr",
     "output_type": "stream",
     "text": [
      "Model weights saved in ./roberta-retrained/checkpoint-1500/pytorch_model.bin\n",
      "Deleting older checkpoint [roberta-retrained/checkpoint-500] due to args.save_total_limit\n",
      "\n",
      "Downloading:  18%|█▊        | 86.0M/478M [5:30:56<5:20:46, 21.4kB/s]Saving model checkpoint to ./roberta-retrained/checkpoint-2000\n",
      "Configuration saved in ./roberta-retrained/checkpoint-2000/config.json\n"
     ]
    },
    {
     "name": "stdout",
     "output_type": "stream",
     "text": [
      "{'loss': 2.195, 'learning_rate': 3.229011425732737e-07, 'epoch': 0.99}\n"
     ]
    },
    {
     "name": "stderr",
     "output_type": "stream",
     "text": [
      "Model weights saved in ./roberta-retrained/checkpoint-2000/pytorch_model.bin\n",
      "Deleting older checkpoint [roberta-retrained/checkpoint-1000] due to args.save_total_limit\n",
      "\n",
      "\n",
      "Training completed. Do not forget to share your model on huggingface.co/models =)\n",
      "\n",
      "\n",
      "\n",
      "100%|██████████| 2013/2013 [1:49:14<00:00,  3.26s/it]"
     ]
    },
    {
     "name": "stdout",
     "output_type": "stream",
     "text": [
      "{'train_runtime': 7462.9776, 'train_samples_per_second': 2.157, 'train_steps_per_second': 0.27, 'train_loss': 2.4235724009984296, 'epoch': 1.0}\n"
     ]
    },
    {
     "name": "stderr",
     "output_type": "stream",
     "text": [
      "\n"
     ]
    },
    {
     "data": {
      "text/plain": [
       "TrainOutput(global_step=2013, training_loss=2.4235724009984296, metrics={'train_runtime': 7462.9776, 'train_samples_per_second': 2.157, 'train_steps_per_second': 0.27, 'train_loss': 2.4235724009984296, 'epoch': 1.0})"
      ]
     },
     "execution_count": 12,
     "metadata": {},
     "output_type": "execute_result"
    }
   ],
   "source": [
    "from transformers import RobertaTokenizer, RobertaForMaskedLM\n",
    "from transformers import LineByLineTextDataset\n",
    "from transformers import DataCollatorForLanguageModeling\n",
    "from transformers import Trainer, TrainingArguments\n",
    "\n",
    "encoder_model = \"roberta-base\"\n",
    "tokenizer = RobertaTokenizer.from_pretrained(encoder_model)\n",
    "model = RobertaForMaskedLM.from_pretrained(encoder_model)\n",
    "dataset = LineByLineTextDataset(\n",
    "    tokenizer=tokenizer,\n",
    "    file_path=\"roberta.txt\",\n",
    "    block_size=512,\n",
    ")\n",
    "data_collator = DataCollatorForLanguageModeling(\n",
    "    tokenizer=tokenizer, mlm=True, mlm_probability=0.15\n",
    ")\n",
    "training_args = TrainingArguments(\n",
    "    output_dir=\"./roberta-retrained\",\n",
    "    overwrite_output_dir=True,\n",
    "    num_train_epochs=1,\n",
    "    per_device_train_batch_size=8,\n",
    "    save_steps=500,\n",
    "    save_total_limit=2,\n",
    "    seed=1\n",
    ")\n",
    "\n",
    "trainer = Trainer(\n",
    "    model=model,\n",
    "    args=training_args,\n",
    "    data_collator=data_collator,\n",
    "    train_dataset=dataset\n",
    ")\n",
    "trainer.train()\n"
   ]
  },
  {
   "cell_type": "code",
   "execution_count": null,
   "metadata": {},
   "outputs": [],
   "source": []
  }
 ],
 "metadata": {
  "interpreter": {
   "hash": "26273649c1ad55e65f8b33df1791b797f344b761a59a759c3ddbb97d149ed09b"
  },
  "kernelspec": {
   "display_name": "Python 3.7.11 64-bit ('sem_eval': conda)",
   "language": "python",
   "name": "python3"
  },
  "language_info": {
   "codemirror_mode": {
    "name": "ipython",
    "version": 3
   },
   "file_extension": ".py",
   "mimetype": "text/x-python",
   "name": "python",
   "nbconvert_exporter": "python",
   "pygments_lexer": "ipython3",
   "version": "3.7.11"
  },
  "orig_nbformat": 4
 },
 "nbformat": 4,
 "nbformat_minor": 2
}
